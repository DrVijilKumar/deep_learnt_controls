{
 "cells": [
  {
   "cell_type": "code",
   "execution_count": 1,
   "metadata": {},
   "outputs": [],
   "source": [
    "import matplotlib.pyplot as plt\n",
    "\n",
    "import torch\n",
    "import torch.nn as nn\n",
    "import torch.nn.functional as F\n",
    "import torch.optim as optim\n",
    "from torch.utils import data\n",
    "\n",
    "import numpy as np\n",
    "import pandas as pd\n",
    "\n",
    "from rocket import Rocket\n",
    "\n",
    "import random"
   ]
  },
  {
   "cell_type": "code",
   "execution_count": 3,
   "metadata": {},
   "outputs": [],
   "source": [
    "model=torch.load('model.pt')"
   ]
  },
  {
   "cell_type": "code",
   "execution_count": 4,
   "metadata": {},
   "outputs": [
    {
     "data": {
      "text/plain": [
       "OrderedDict([('fc1.weight',\n",
       "              tensor([[-1.9795e-01, -4.4692e-01, -3.1836e-01,  3.6091e-01,  1.0350e-02],\n",
       "                      [-3.7264e-01, -9.8958e-01, -2.7671e-01, -7.2311e-01,  2.1425e-02],\n",
       "                      [-4.1122e-02, -4.3205e-01,  7.1248e-02,  5.3607e-01, -7.6547e-03],\n",
       "                      [-3.4746e-02,  3.4034e-01, -1.5078e-01, -2.9734e-01, -3.8266e-02],\n",
       "                      [ 2.3715e-01, -3.2636e-01,  3.2486e-01,  3.8179e-01,  1.1720e-02],\n",
       "                      [ 1.1340e-04,  3.2583e-01, -2.0588e-02, -3.8398e-01,  3.4968e-01],\n",
       "                      [-1.1004e-01, -4.7477e-01,  1.3646e-01,  6.3746e-01, -6.2841e-02],\n",
       "                      [-2.0391e-01, -3.1122e-01, -1.4083e-01,  4.3718e-01, -5.8921e-01],\n",
       "                      [ 8.1575e-01,  4.6442e-01,  2.4631e-01, -3.5536e-01, -5.6952e-02],\n",
       "                      [ 1.7442e-01, -6.6269e-01,  2.7840e-01,  2.7295e-01, -8.0584e-02],\n",
       "                      [ 2.3440e-01,  1.3537e-01,  1.9044e-01,  3.3325e-01, -1.0465e-01],\n",
       "                      [-1.1587e-03,  4.3480e-01,  1.7726e-01, -2.2110e-01, -9.1095e-03],\n",
       "                      [ 3.4904e-01, -2.8009e-01,  5.8424e-01,  7.0208e-01, -4.6244e-01],\n",
       "                      [ 2.1122e-01, -1.0154e+00,  7.6463e-02, -3.3228e-01,  2.6204e-03],\n",
       "                      [ 3.4439e-01, -8.0909e-01,  2.8300e-01, -7.7846e-01,  1.6556e-01],\n",
       "                      [ 2.0574e-01, -4.9564e-01,  2.1490e-01, -2.1108e-01, -1.2000e-01]])),\n",
       "             ('fc1.bias',\n",
       "              tensor([-0.6556, -0.0886, -0.2351,  0.1352, -0.5885,  0.3922, -0.0384,  0.1510,\n",
       "                       0.2941, -0.4805, -0.0634,  0.5899,  0.0355, -0.5223, -0.0343, -0.0721])),\n",
       "             ('fc2.weight',\n",
       "              tensor([[-0.1893,  0.2238, -0.5837, -0.4910, -0.3764,  0.0329, -0.4124,  0.1067,\n",
       "                       -0.3091, -0.1487, -0.3429, -0.2275,  0.1918, -0.1864,  0.2319,  0.2180],\n",
       "                      [-0.1630,  0.3009, -0.2306, -0.2518, -0.5778, -0.0995,  0.0746,  0.1292,\n",
       "                       -0.0542, -0.1152,  0.5178, -0.5497, -0.4623,  0.3924,  0.2606, -0.1979],\n",
       "                      [-0.1319, -0.5320, -0.2129,  0.1943, -0.5667, -0.1609, -0.6195,  0.3497,\n",
       "                       -0.0907,  0.2650, -0.0839, -0.1936, -0.0436, -0.4860, -0.4367,  0.0236],\n",
       "                      [ 0.6052,  0.1260,  0.1028,  0.3355, -0.0165,  0.3405,  0.3878,  0.5633,\n",
       "                        0.3886,  0.1684,  0.3991,  0.3182, -0.0595, -0.6071, -0.6207,  0.1679],\n",
       "                      [ 0.4287,  0.1505,  0.4897, -0.2013, -0.3596,  0.7731, -0.4383,  0.2569,\n",
       "                        0.2176,  0.6018,  0.0674,  0.0689, -0.1978,  0.0580,  0.3929, -0.3157],\n",
       "                      [-0.1047,  0.0614,  0.2061, -0.4485, -0.4832,  0.0838,  0.1737,  0.5168,\n",
       "                       -0.0909,  0.1382, -0.1634, -0.0079,  0.2718, -0.2685, -0.4500, -0.0766],\n",
       "                      [-0.1819, -0.4696, -0.4735, -0.1673,  0.2986,  0.3554, -0.2731,  0.4874,\n",
       "                       -0.0820,  0.0509,  0.1254, -0.4888, -0.0599,  0.4161, -0.4309, -0.0056],\n",
       "                      [-0.1735, -0.2102, -0.3658, -0.5949, -0.5390, -0.5782,  0.3863,  0.3566,\n",
       "                       -0.4904,  0.2994, -0.3411,  0.1675,  0.4127, -0.0464, -0.4467,  0.1273],\n",
       "                      [ 0.1283,  0.1863, -0.4718, -0.4452,  0.5318, -0.2103,  0.1715,  0.0907,\n",
       "                        0.5092, -0.4104,  0.5272, -0.1318,  0.5152, -0.2986,  0.0617,  0.2901],\n",
       "                      [ 0.2202,  0.1645,  0.4887, -0.2263,  0.1727,  0.2634,  0.4205, -0.0571,\n",
       "                        0.1035, -0.0453, -0.1277,  0.1615, -0.0459,  0.6746, -0.5365,  0.3420],\n",
       "                      [-0.1796,  0.8438, -0.1318, -0.4574, -0.0898, -0.1330,  0.4738,  0.0021,\n",
       "                       -0.3609,  0.4733, -0.2838, -0.0433, -0.1508,  0.3253,  0.2147,  0.4014],\n",
       "                      [ 0.4664, -0.6067,  0.5108, -0.5218,  0.5495, -0.5518, -0.3221,  0.3745,\n",
       "                       -0.0756,  0.4077,  0.4223, -0.4474,  0.3216,  0.5539,  0.2341,  0.2061],\n",
       "                      [-0.4423, -0.3104, -0.3931,  0.2423, -0.0710, -0.0380,  0.0802,  0.5334,\n",
       "                        0.1805,  0.4044,  0.2474,  0.4636,  0.0041,  0.6187,  0.1695, -0.0130],\n",
       "                      [-0.1417,  0.4755,  0.3097,  0.7018, -0.1036, -0.3457, -0.3210, -0.5223,\n",
       "                       -0.4277,  0.3753,  0.3850,  0.3043,  0.2009,  0.2450, -0.1877, -0.3267],\n",
       "                      [-0.2359,  0.1033, -0.1955, -0.0655, -0.0950, -0.2347, -0.5644, -0.1383,\n",
       "                        0.2291,  0.1707, -0.4292,  0.4952, -0.2950,  0.1157,  0.0892, -0.0566],\n",
       "                      [ 0.3274, -0.4275, -0.5334,  0.5634, -0.2491, -0.6314,  0.0925, -0.3478,\n",
       "                       -0.1321,  0.2654,  0.1046, -0.4712, -0.4849,  0.5656,  0.4417, -0.4942]])),\n",
       "             ('fc2.bias',\n",
       "              tensor([-0.2612, -0.1702, -0.2979,  0.2074, -0.2805, -0.0345,  0.0145, -0.1895,\n",
       "                       0.2013, -0.0664, -0.4303, -0.2076,  0.3647,  0.1161, -0.0232, -0.1790])),\n",
       "             ('fc3.weight',\n",
       "              tensor([[-0.3241,  0.0928, -0.2651, -0.1229,  0.2637, -0.0725, -0.0638, -0.0408,\n",
       "                       -0.0022,  0.2357,  0.1130,  0.0134, -0.0168, -0.0320, -0.2051, -0.2600],\n",
       "                      [ 0.5442, -0.2642, -0.2936,  0.2637, -0.0080,  0.0316, -0.0052,  0.0095,\n",
       "                       -0.0439, -0.3102,  0.2451,  0.0006, -0.2874,  0.0331, -0.0495,  0.0124]])),\n",
       "             ('fc3.bias', tensor([-0.2130,  0.0782]))])"
      ]
     },
     "execution_count": 4,
     "metadata": {},
     "output_type": "execute_result"
    }
   ],
   "source": [
    "model"
   ]
  },
  {
   "cell_type": "code",
   "execution_count": 15,
   "metadata": {},
   "outputs": [],
   "source": [
    "x = torch.tensor([0,1500., 0, -20, 7000])"
   ]
  },
  {
   "cell_type": "code",
   "execution_count": 16,
   "metadata": {},
   "outputs": [
    {
     "data": {
      "text/plain": [
       "tensor([   0., 1500.,    0.,  -20., 7000.])"
      ]
     },
     "execution_count": 16,
     "metadata": {},
     "output_type": "execute_result"
    }
   ],
   "source": [
    "x"
   ]
  },
  {
   "cell_type": "code",
   "execution_count": 8,
   "metadata": {},
   "outputs": [
    {
     "ename": "AttributeError",
     "evalue": "'collections.OrderedDict' object has no attribute 'eval'",
     "output_type": "error",
     "traceback": [
      "\u001b[0;31m---------------------------------------------------------------------------\u001b[0m",
      "\u001b[0;31mAttributeError\u001b[0m                            Traceback (most recent call last)",
      "\u001b[0;32m<ipython-input-8-67f96fad7f04>\u001b[0m in \u001b[0;36m<module>\u001b[0;34m\u001b[0m\n\u001b[0;32m----> 1\u001b[0;31m \u001b[0mmodel\u001b[0m\u001b[0;34m.\u001b[0m\u001b[0meval\u001b[0m\u001b[0;34m(\u001b[0m\u001b[0;34m)\u001b[0m\u001b[0;34m\u001b[0m\u001b[0;34m\u001b[0m\u001b[0m\n\u001b[0m",
      "\u001b[0;31mAttributeError\u001b[0m: 'collections.OrderedDict' object has no attribute 'eval'"
     ]
    }
   ],
   "source": [
    "model.eval()"
   ]
  },
  {
   "cell_type": "code",
   "execution_count": 9,
   "metadata": {},
   "outputs": [],
   "source": [
    "class Net(nn.Module):\n",
    "    \n",
    "    def __init__(self):\n",
    "        super(Net, self).__init__()\n",
    "        \n",
    "        d = 16\n",
    "        self.fc1 = nn.Linear(5, d)\n",
    "        self.fc2 = nn.Linear(d, d)\n",
    "        self.fc3 = nn.Linear(d, 2)\n",
    "        \n",
    "        a = (12/(5+d))**0.5\n",
    "        nn.init.uniform_(self.fc1.weight, a=-a, b=a)\n",
    "        \n",
    "        a = (12/(d+d))**0.5\n",
    "        nn.init.uniform_(self.fc2.weight, a=-a, b=a)\n",
    "        \n",
    "        a = (6/(d+2))**0.5\n",
    "        nn.init.uniform_(self.fc3.weight, a=-a, b=a)\n",
    "        \n",
    "    def forward(self, x):\n",
    "        \n",
    "        x = F.relu(self.fc1(x))\n",
    "        x = F.relu(self.fc2(x))\n",
    "        x = torch.tanh(self.fc3(x))\n",
    "        \n",
    "        return x\n",
    "    \n",
    "    "
   ]
  },
  {
   "cell_type": "code",
   "execution_count": 10,
   "metadata": {},
   "outputs": [],
   "source": [
    "net = Net()"
   ]
  },
  {
   "cell_type": "code",
   "execution_count": 11,
   "metadata": {},
   "outputs": [
    {
     "data": {
      "text/plain": [
       "<All keys matched successfully>"
      ]
     },
     "execution_count": 11,
     "metadata": {},
     "output_type": "execute_result"
    }
   ],
   "source": [
    "net.load_state_dict(model)"
   ]
  },
  {
   "cell_type": "code",
   "execution_count": 12,
   "metadata": {},
   "outputs": [
    {
     "data": {
      "text/plain": [
       "Net(\n",
       "  (fc1): Linear(in_features=5, out_features=16, bias=True)\n",
       "  (fc2): Linear(in_features=16, out_features=16, bias=True)\n",
       "  (fc3): Linear(in_features=16, out_features=2, bias=True)\n",
       ")"
      ]
     },
     "execution_count": 12,
     "metadata": {},
     "output_type": "execute_result"
    }
   ],
   "source": [
    "net.eval()"
   ]
  },
  {
   "cell_type": "code",
   "execution_count": 17,
   "metadata": {},
   "outputs": [
    {
     "data": {
      "text/plain": [
       "tensor([1.0000, 1.0000], grad_fn=<TanhBackward>)"
      ]
     },
     "execution_count": 17,
     "metadata": {},
     "output_type": "execute_result"
    }
   ],
   "source": [
    "net(x)"
   ]
  },
  {
   "cell_type": "code",
   "execution_count": null,
   "metadata": {},
   "outputs": [],
   "source": []
  }
 ],
 "metadata": {
  "kernelspec": {
   "display_name": "Python 3",
   "language": "python",
   "name": "python3"
  },
  "language_info": {
   "codemirror_mode": {
    "name": "ipython",
    "version": 3
   },
   "file_extension": ".py",
   "mimetype": "text/x-python",
   "name": "python",
   "nbconvert_exporter": "python",
   "pygments_lexer": "ipython3",
   "version": "3.6.7"
  }
 },
 "nbformat": 4,
 "nbformat_minor": 2
}
