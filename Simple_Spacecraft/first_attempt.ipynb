{
 "cells": [
  {
   "cell_type": "code",
   "execution_count": 1,
   "metadata": {},
   "outputs": [],
   "source": [
    "\n",
    "#x range: +- 200\n",
    "#z range: 500, 2000\n",
    "#vx range: +- 10\n",
    "#vz range: -30, 10\n",
    "\n",
    "#m range: 8000, 12000\n",
    "import pandas as pd\n",
    "import numpy as np\n",
    "import scipy as sp\n",
    "from scipy import integrate as spint\n",
    "import matplotlib.pyplot as plt\n",
    "\n",
    "from math import sin, cos, asin\n",
    "\n",
    "from rocket import Rocket"
   ]
  },
  {
   "cell_type": "code",
   "execution_count": null,
   "metadata": {},
   "outputs": [],
   "source": []
  },
  {
   "cell_type": "code",
   "execution_count": 2,
   "metadata": {},
   "outputs": [],
   "source": [
    "r = Rocket(*[-30., 1000., 10., 20., 10000.])"
   ]
  },
  {
   "cell_type": "code",
   "execution_count": 3,
   "metadata": {},
   "outputs": [
    {
     "data": {
      "text/plain": [
       "<rocket.Rocket at 0x11fe43278>"
      ]
     },
     "execution_count": 3,
     "metadata": {},
     "output_type": "execute_result"
    }
   ],
   "source": [
    "r"
   ]
  },
  {
   "cell_type": "code",
   "execution_count": 4,
   "metadata": {},
   "outputs": [
    {
     "data": {
      "text/plain": [
       "(-30.0, 1000.0, 10.0, 20.0, 10000.0)"
      ]
     },
     "execution_count": 4,
     "metadata": {},
     "output_type": "execute_result"
    }
   ],
   "source": [
    "r.s_0"
   ]
  },
  {
   "cell_type": "code",
   "execution_count": 5,
   "metadata": {},
   "outputs": [
    {
     "data": {
      "text/plain": [
       "(-29.0, 1002.0, 10.0, 19.83771, 10000.0)"
      ]
     },
     "execution_count": 5,
     "metadata": {},
     "output_type": "execute_result"
    }
   ],
   "source": [
    "r.propagate(r.s_0, (0,0))"
   ]
  },
  {
   "cell_type": "code",
   "execution_count": 30,
   "metadata": {},
   "outputs": [],
   "source": [
    "\n",
    "t = 0.\n",
    "s = r.s_0\n",
    "dt = 0.1\n",
    "history = [(t, *s)]\n",
    "\n",
    "while t < r.t_char:\n",
    "    t = t+dt\n",
    "    s = r.propagate(s, (0.,0.), dt)\n",
    "    history.append((t, *s))"
   ]
  },
  {
   "cell_type": "code",
   "execution_count": 37,
   "metadata": {},
   "outputs": [
    {
     "data": {
      "text/plain": [
       "49.600000000000435"
      ]
     },
     "execution_count": 37,
     "metadata": {},
     "output_type": "execute_result"
    }
   ],
   "source": [
    "t"
   ]
  },
  {
   "cell_type": "code",
   "execution_count": 32,
   "metadata": {},
   "outputs": [],
   "source": [
    "df = pd.DataFrame.from_records(history, columns=['t','x','z','vx','vz','m'])"
   ]
  },
  {
   "cell_type": "code",
   "execution_count": 33,
   "metadata": {},
   "outputs": [
    {
     "data": {
      "text/html": [
       "<div>\n",
       "<style scoped>\n",
       "    .dataframe tbody tr th:only-of-type {\n",
       "        vertical-align: middle;\n",
       "    }\n",
       "\n",
       "    .dataframe tbody tr th {\n",
       "        vertical-align: top;\n",
       "    }\n",
       "\n",
       "    .dataframe thead th {\n",
       "        text-align: right;\n",
       "    }\n",
       "</style>\n",
       "<table border=\"1\" class=\"dataframe\">\n",
       "  <thead>\n",
       "    <tr style=\"text-align: right;\">\n",
       "      <th></th>\n",
       "      <th>t</th>\n",
       "      <th>x</th>\n",
       "      <th>z</th>\n",
       "      <th>vx</th>\n",
       "      <th>vz</th>\n",
       "      <th>m</th>\n",
       "    </tr>\n",
       "  </thead>\n",
       "  <tbody>\n",
       "    <tr>\n",
       "      <th>0</th>\n",
       "      <td>0.0</td>\n",
       "      <td>-30.0</td>\n",
       "      <td>1000.000000</td>\n",
       "      <td>10.0</td>\n",
       "      <td>20.00000</td>\n",
       "      <td>10000.0</td>\n",
       "    </tr>\n",
       "    <tr>\n",
       "      <th>1</th>\n",
       "      <td>0.1</td>\n",
       "      <td>-29.0</td>\n",
       "      <td>1002.000000</td>\n",
       "      <td>10.0</td>\n",
       "      <td>19.83771</td>\n",
       "      <td>10000.0</td>\n",
       "    </tr>\n",
       "    <tr>\n",
       "      <th>2</th>\n",
       "      <td>0.2</td>\n",
       "      <td>-28.0</td>\n",
       "      <td>1003.983771</td>\n",
       "      <td>10.0</td>\n",
       "      <td>19.67542</td>\n",
       "      <td>10000.0</td>\n",
       "    </tr>\n",
       "    <tr>\n",
       "      <th>3</th>\n",
       "      <td>0.3</td>\n",
       "      <td>-27.0</td>\n",
       "      <td>1005.951313</td>\n",
       "      <td>10.0</td>\n",
       "      <td>19.51313</td>\n",
       "      <td>10000.0</td>\n",
       "    </tr>\n",
       "    <tr>\n",
       "      <th>4</th>\n",
       "      <td>0.4</td>\n",
       "      <td>-26.0</td>\n",
       "      <td>1007.902626</td>\n",
       "      <td>10.0</td>\n",
       "      <td>19.35084</td>\n",
       "      <td>10000.0</td>\n",
       "    </tr>\n",
       "  </tbody>\n",
       "</table>\n",
       "</div>"
      ],
      "text/plain": [
       "     t     x            z    vx        vz        m\n",
       "0  0.0 -30.0  1000.000000  10.0  20.00000  10000.0\n",
       "1  0.1 -29.0  1002.000000  10.0  19.83771  10000.0\n",
       "2  0.2 -28.0  1003.983771  10.0  19.67542  10000.0\n",
       "3  0.3 -27.0  1005.951313  10.0  19.51313  10000.0\n",
       "4  0.4 -26.0  1007.902626  10.0  19.35084  10000.0"
      ]
     },
     "execution_count": 33,
     "metadata": {},
     "output_type": "execute_result"
    }
   ],
   "source": [
    "df.head()"
   ]
  },
  {
   "cell_type": "code",
   "execution_count": 34,
   "metadata": {},
   "outputs": [
    {
     "data": {
      "image/png": "[encoded data removed]",
      "text/plain": [
       "<Figure size 432x288 with 1 Axes>"
      ]
     },
     "metadata": {
      "needs_background": "light"
     },
     "output_type": "display_data"
    }
   ],
   "source": [
    "plt.plot(df.t, df.z)\n",
    "plt.grid()"
   ]
  },
  {
   "cell_type": "code",
   "execution_count": 35,
   "metadata": {},
   "outputs": [
    {
     "data": {
      "text/plain": [
       "[<matplotlib.lines.Line2D at 0x122877390>]"
      ]
     },
     "execution_count": 35,
     "metadata": {},
     "output_type": "execute_result"
    },
    {
     "data": {
      "image/png": "[encoded data removed]",
      "text/plain": [
       "<Figure size 432x288 with 1 Axes>"
      ]
     },
     "metadata": {
      "needs_background": "light"
     },
     "output_type": "display_data"
    }
   ],
   "source": [
    "plt.plot(df.t[df.z>0], df.z[df.z>0])"
   ]
  },
  {
   "cell_type": "code",
   "execution_count": 36,
   "metadata": {},
   "outputs": [
    {
     "data": {
      "image/png": "[encoded data removed]",
      "text/plain": [
       "<Figure size 432x288 with 1 Axes>"
      ]
     },
     "metadata": {
      "needs_background": "light"
     },
     "output_type": "display_data"
    }
   ],
   "source": [
    "plt.plot(df.x[df.z>0], df.z[df.z>0])\n",
    "ax = plt.gca()\n",
    "ax.set_aspect(1)\n",
    "plt.grid()"
   ]
  },
  {
   "cell_type": "code",
   "execution_count": 13,
   "metadata": {},
   "outputs": [
    {
     "data": {
      "text/plain": [
       "Text(0, 0.5, 'z (m)')"
      ]
     },
     "execution_count": 13,
     "metadata": {},
     "output_type": "execute_result"
    },
    {
     "data": {
      "image/png": "[encoded data removed]",
      "text/plain": [
       "<Figure size 432x288 with 1 Axes>"
      ]
     },
     "metadata": {
      "needs_background": "light"
     },
     "output_type": "display_data"
    }
   ],
   "source": [
    "plt.plot(((df.vx**2+df.vz**2)**0.5)[df.z>0], df.z[df.z>0])\n",
    "plt.grid()\n",
    "plt.xlabel(\"speed (m/s)\")\n",
    "plt.ylabel(\"z (m)\")"
   ]
  },
  {
   "cell_type": "code",
   "execution_count": 14,
   "metadata": {},
   "outputs": [
    {
     "data": {
      "image/png": "[encoded data removed]",
      "text/plain": [
       "<Figure size 432x288 with 1 Axes>"
      ]
     },
     "metadata": {
      "needs_background": "light"
     },
     "output_type": "display_data"
    },
    {
     "data": {
      "image/png": "[encoded data removed]",
      "text/plain": [
       "<Figure size 432x288 with 1 Axes>"
      ]
     },
     "metadata": {
      "needs_background": "light"
     },
     "output_type": "display_data"
    }
   ],
   "source": [
    "plt.plot(df.vx[df.z>0], df.z[df.z>0])\n",
    "plt.grid()\n",
    "plt.xlabel(\"vx (m/s)\")\n",
    "plt.ylabel(\"z (m)\")\n",
    "plt.show()\n",
    "\n",
    "plt.plot(df.vz[df.z>0], df.z[df.z>0])\n",
    "plt.grid()\n",
    "plt.xlabel(\"vz (m/s)\")\n",
    "plt.ylabel(\"z (m)\")\n",
    "plt.show()"
   ]
  },
  {
   "cell_type": "code",
   "execution_count": 15,
   "metadata": {},
   "outputs": [],
   "source": [
    "#attempt to solve the mass optimal control problem\n",
    "def bvp_dynamics(t, s, p):\n",
    "    #t (time) #not needed\n",
    "    #s (state) #(x,z,vx,vz,m,lambdam)\n",
    "    #p (parameters) #(lx0, lz0, lvx0, lvz0)\n",
    "    \n",
    "    #implicitly assumes alpha = 1\n",
    "    \n",
    "    \n",
    "    (x, z, vx, vz, m, lm)  = s\n",
    "    (lx0, lz0, lvx0, lvz0) = p\n",
    "    \n",
    "    lv_mag = (lvx0**2+lvz0**2)**0.5\n",
    "    \n",
    "    \n",
    "    #determine u1\n",
    "    S1 = 1 - (lv_mag*r.c2)/m - lm\n",
    "    if len(S1) == 1:\n",
    "        u1 = (lambda s: 1 if s<0 else 0)(S1)\n",
    "    else:\n",
    "        u1 = np.array([(lambda s: 1 if s<0 else 0)(s1) for s1 in S1])\n",
    "        \n",
    "    #determine u2, ith\n",
    "    ith1 = -(1/lv_mag)*(lvx0)\n",
    "    ith2 = -(1/lv_mag)*(lvz0)\n",
    "    \n",
    "    #construct dynamics\n",
    "    ds = [None]*6\n",
    "    \n",
    "    ds[0] = vx\n",
    "    ds[1] = vz\n",
    "    \n",
    "    ds[2] = (u1*(ith1/m))*r.c1\n",
    "    ds[3] = (u1*(ith2/m))*r.c1 - r.g\n",
    "    \n",
    "    ds[4] = u1*(-r.c1/r.c2)\n",
    "    \n",
    "    \n",
    "    ds[5] = ((u1/m**2)*r.c1)*((lvx0-lx0*t)*ith1 + (lvz0-lz0*t)*ith2)\n",
    "    \n",
    "    return ds\n",
    "    \n",
    "def bvp_boundary(sa, sb, p):\n",
    "    \n",
    "    res = []\n",
    "    \n",
    "    #initial conditions:\n",
    "    res.append(sa[0] - r.x_0 )\n",
    "    res.append(sa[1] - r.z_0 )\n",
    "    res.append(sa[2] - r.vx_0)\n",
    "    res.append(sa[3] - r.vz_0)\n",
    "    res.append(sa[4] - r.m_0 )\n",
    "    \n",
    "    #final conditions\n",
    "    res.append(sb[0] - 0)\n",
    "    res.append(sb[1] - 0)\n",
    "    res.append(sb[2] - 0)\n",
    "    res.append(sb[3] - 0)\n",
    "    res.append(sb[5] - 0) #lambda m = 0 in final time\n",
    "    \n",
    "    return np.array(res)\n",
    "    "
   ]
  },
  {
   "cell_type": "code",
   "execution_count": 16,
   "metadata": {},
   "outputs": [
    {
     "ename": "NameError",
     "evalue": "name 'x_g' is not defined",
     "output_type": "error",
     "traceback": [
      "\u001b[0;31m---------------------------------------------------------------------------\u001b[0m",
      "\u001b[0;31mNameError\u001b[0m                                 Traceback (most recent call last)",
      "\u001b[0;32m<ipython-input-16-3bc7eb460ce9>\u001b[0m in \u001b[0;36m<module>\u001b[0;34m\u001b[0m\n\u001b[0;32m----> 1\u001b[0;31m \u001b[0mnp\u001b[0m\u001b[0;34m.\u001b[0m\u001b[0mdiff\u001b[0m\u001b[0;34m(\u001b[0m\u001b[0mx_g\u001b[0m\u001b[0;34m)\u001b[0m\u001b[0;34m/\u001b[0m\u001b[0;34m(\u001b[0m\u001b[0mt_guess\u001b[0m\u001b[0;34m[\u001b[0m\u001b[0;36m1\u001b[0m\u001b[0;34m]\u001b[0m\u001b[0;34m-\u001b[0m\u001b[0mt_guess\u001b[0m\u001b[0;34m[\u001b[0m\u001b[0;36m0\u001b[0m\u001b[0;34m]\u001b[0m\u001b[0;34m)\u001b[0m\u001b[0;34m\u001b[0m\u001b[0;34m\u001b[0m\u001b[0m\n\u001b[0m",
      "\u001b[0;31mNameError\u001b[0m: name 'x_g' is not defined"
     ]
    }
   ],
   "source": [
    "np.diff(x_g)/(t_guess[1]-t_guess[0])"
   ]
  },
  {
   "cell_type": "code",
   "execution_count": null,
   "metadata": {},
   "outputs": [],
   "source": [
    "t_guess = np.linspace(0, (2*r.z_0/r.g)/2)\n",
    "\n",
    "x_g  = np.linspace(r.x_0,  0)\n",
    "z_g  = np.linspace(r.z_0,  0)\n",
    "vx_g = np.linspace(r.vx_0, 0)\n",
    "vz_g = np.linspace(r.vz_0, 0)\n",
    "m_g  = np.linspace(r.m_0,  0.7*r.m_0)\n",
    "lm_g = np.linspace(10,1)\n",
    "\n",
    "\n",
    "\n",
    "state_guess = np.array([x_g, z_g, vx_g, vz_g, m_g, lm_g])"
   ]
  },
  {
   "cell_type": "code",
   "execution_count": null,
   "metadata": {},
   "outputs": [],
   "source": [
    "r.vx_0"
   ]
  },
  {
   "cell_type": "code",
   "execution_count": null,
   "metadata": {},
   "outputs": [],
   "source": [
    "state_guess.shape"
   ]
  },
  {
   "cell_type": "code",
   "execution_count": null,
   "metadata": {},
   "outputs": [],
   "source": [
    "p_guess = np.array([-10,-10,10,10])"
   ]
  },
  {
   "cell_type": "code",
   "execution_count": null,
   "metadata": {},
   "outputs": [],
   "source": [
    "bvp_dynamics(0, state_guess, p_guess)"
   ]
  },
  {
   "cell_type": "code",
   "execution_count": null,
   "metadata": {},
   "outputs": [],
   "source": [
    "bvp_boundary(r.s_0, [0,0,0,0,7500,0], [1,1,1,1])"
   ]
  },
  {
   "cell_type": "code",
   "execution_count": null,
   "metadata": {
    "scrolled": false
   },
   "outputs": [],
   "source": [
    "sol = spint.solve_bvp(bvp_dynamics, bvp_boundary, x = t_guess, y = state_guess, p=p_guess, verbose=2)"
   ]
  },
  {
   "cell_type": "code",
   "execution_count": null,
   "metadata": {},
   "outputs": [],
   "source": [
    "sol"
   ]
  },
  {
   "cell_type": "code",
   "execution_count": null,
   "metadata": {
    "scrolled": false
   },
   "outputs": [],
   "source": [
    "t_sol = sol.x"
   ]
  },
  {
   "cell_type": "code",
   "execution_count": null,
   "metadata": {},
   "outputs": [],
   "source": [
    "(x_sol, z_sol, vx_sol, vz_sol, m_sol, lm_sol) =  sol.y"
   ]
  },
  {
   "cell_type": "code",
   "execution_count": null,
   "metadata": {},
   "outputs": [],
   "source": [
    "plt.plot(t_sol, vz_sol)\n",
    "plt.grid()"
   ]
  },
  {
   "cell_type": "code",
   "execution_count": null,
   "metadata": {},
   "outputs": [],
   "source": [
    "plt.plot(t_guess, m_g)\n",
    "plt.grid()"
   ]
  },
  {
   "cell_type": "code",
   "execution_count": null,
   "metadata": {},
   "outputs": [],
   "source": [
    "vz_sol-vz_g"
   ]
  },
  {
   "cell_type": "code",
   "execution_count": null,
   "metadata": {},
   "outputs": [],
   "source": []
  }
 ],
 "metadata": {
  "kernelspec": {
   "display_name": "deep_learnt_controls",
   "language": "python",
   "name": "deep_learnt_controls"
  },
  "language_info": {
   "codemirror_mode": {
    "name": "ipython",
    "version": 3
   },
   "file_extension": ".py",
   "mimetype": "text/x-python",
   "name": "python",
   "nbconvert_exporter": "python",
   "pygments_lexer": "ipython3",
   "version": "3.6.7"
  }
 },
 "nbformat": 4,
 "nbformat_minor": 2
}
