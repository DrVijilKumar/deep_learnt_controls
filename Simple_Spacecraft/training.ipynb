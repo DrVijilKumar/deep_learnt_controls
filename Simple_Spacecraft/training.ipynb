{
 "cells": [
  {
   "cell_type": "code",
   "execution_count": 1,
   "metadata": {},
   "outputs": [],
   "source": [
    "from __future__ import print_function\n",
    "import matplotlib.pyplot as plt\n",
    "\n",
    "import torch\n",
    "import torch.nn as nn\n",
    "import torch.nn.functional as F\n",
    "import torch.optim as optim\n",
    "from torch.utils import data\n",
    "\n",
    "import numpy as np\n",
    "import pandas as pd\n",
    "\n",
    "from rocket import Rocket\n",
    "\n",
    "import random"
   ]
  },
  {
   "cell_type": "code",
   "execution_count": null,
   "metadata": {},
   "outputs": [],
   "source": []
  },
  {
   "cell_type": "code",
   "execution_count": 2,
   "metadata": {},
   "outputs": [],
   "source": [
    "class Net(nn.Module):\n",
    "    \n",
    "    def __init__(self):\n",
    "        super(Net, self).__init__()\n",
    "        \n",
    "        d = 16\n",
    "        self.fc1 = nn.Linear(5, d)\n",
    "        self.fc2 = nn.Linear(d, d)\n",
    "        self.fc3 = nn.Linear(d, 2)\n",
    "        \n",
    "        a = (12/(5+d))**0.5\n",
    "        nn.init.uniform_(self.fc1.weight, a=-a, b=a)\n",
    "        \n",
    "        a = (12/(d+d))**0.5\n",
    "        nn.init.uniform_(self.fc2.weight, a=-a, b=a)\n",
    "        \n",
    "        a = (6/(d+2))**0.5\n",
    "        nn.init.uniform_(self.fc3.weight, a=-a, b=a)\n",
    "        \n",
    "    def forward(self, x):\n",
    "        \n",
    "        x = F.relu(self.fc1(x))\n",
    "        x = F.relu(self.fc2(x))\n",
    "        x = torch.tanh(self.fc3(x))\n",
    "        \n",
    "        return x\n",
    "    \n",
    "    "
   ]
  },
  {
   "cell_type": "code",
   "execution_count": 3,
   "metadata": {},
   "outputs": [],
   "source": [
    "net = Net()"
   ]
  },
  {
   "cell_type": "code",
   "execution_count": 4,
   "metadata": {},
   "outputs": [
    {
     "name": "stdout",
     "output_type": "stream",
     "text": [
      "Net(\n",
      "  (fc1): Linear(in_features=5, out_features=16, bias=True)\n",
      "  (fc2): Linear(in_features=16, out_features=16, bias=True)\n",
      "  (fc3): Linear(in_features=16, out_features=2, bias=True)\n",
      ")\n"
     ]
    }
   ],
   "source": [
    "print(net)"
   ]
  },
  {
   "cell_type": "code",
   "execution_count": 5,
   "metadata": {},
   "outputs": [],
   "source": [
    "params = list(net.parameters())"
   ]
  },
  {
   "cell_type": "code",
   "execution_count": 6,
   "metadata": {},
   "outputs": [],
   "source": [
    "params;"
   ]
  },
  {
   "cell_type": "code",
   "execution_count": 7,
   "metadata": {},
   "outputs": [
    {
     "data": {
      "text/plain": [
       "402"
      ]
     },
     "execution_count": 7,
     "metadata": {},
     "output_type": "execute_result"
    }
   ],
   "source": [
    "sum(p.numel() for p in net.parameters() if p.requires_grad)"
   ]
  },
  {
   "cell_type": "code",
   "execution_count": null,
   "metadata": {},
   "outputs": [],
   "source": []
  },
  {
   "cell_type": "code",
   "execution_count": 8,
   "metadata": {},
   "outputs": [],
   "source": [
    "class MyDataset(data.Dataset):\n",
    "    \n",
    "    def __init__(self, state_csv, control_csv, transform=None):\n",
    "        \n",
    "        df_s = pd.read_csv(state_csv)\n",
    "        df_c = pd.read_csv(control_csv)\n",
    "        \n",
    "        #normalize by (df-mean)/std\n",
    "        self.s_mean, self.s_std = df_s.mean(), df_s.std()\n",
    "        self.c_mean, self.c_std = df_c.mean(), df_c.std()\n",
    "        \n",
    "        n_df_s = (df_s - df_s.mean())/df_s.std()\n",
    "        #n_df_c = (df_c - df_c.mean())/df_c.std()\n",
    "        \n",
    "        #normalize control range from -1 to 1\n",
    "        #self.c_max = n_df_c.max()\n",
    "        #self.c_min = n_df_c.min()\n",
    "        \n",
    "        #n2_df_c = 2*(n_df_c-n_df_c.min())/(n_df_c.max()-n_df_c.min()) - 1\n",
    "        n_df_c = df_c\n",
    "        n_df_c['0'] = 2*n_df_c['0']-1 #from [0,1] to [-1,1]\n",
    "        #n_df_c['1'] = 2*n_df_c['1']/np.pi #from [-pi/2, pi/2] to [-1,1]\n",
    "        self.u2_nond = (np.pi/8)\n",
    "        n_df_c['1'] = n_df_c['1']/self.u2_nond #from [-u2_nond, u2_nond] to [-1,1]\n",
    "        #n_df_c['1'] = (n_df_c['1']-n_df_c['1'].mean())/n_df_c['1'].std()\n",
    "        \n",
    "        self.df_s = torch.FloatTensor(n_df_s.values)\n",
    "        self.df_c = torch.FloatTensor(n_df_c.values)\n",
    "        \n",
    "        self.length = len(self.df_s)\n",
    "        \n",
    "    def __len__(self):\n",
    "        return self.length\n",
    "    \n",
    "    def __getitem__(self, index):\n",
    "        \n",
    "        sample = {'s': self.df_s[index], 'c': self.df_c[index]}\n",
    "        \n",
    "        return sample\n",
    "    \n",
    "    def normalize_s(self, state):\n",
    "        return ((state[i] - self.s_mean[i])/self.s_std[i] for i in range(5))\n",
    "    \n",
    "    def normalize_c(self, control):\n",
    "        \n",
    "        raise NotImplementedError\n",
    "        \n",
    "        #return ((control[i] - self.c_mean[i])/self.c_std[i] for i in range(2))\n",
    "    \n",
    "    def denormalize_c(self, nn_c):\n",
    "        #undo the min max\n",
    "        \n",
    "        #n_c = [0.5*(nn_c[i]+1)*(self.c_max[i]-self.c_min[i]) + self.c_min[i] for i in range(2)]\n",
    "        \n",
    "        #undo the std and mean\n",
    "        #c = (n_c[i]*self.c_std[i] + self.c_mean[i] for i in range(2))\n",
    "        \n",
    "        c1 = (nn_c[0] + 1)/2\n",
    "        #c2 = (nn_c[1]*self.c_std[1] + self.c_mean[1])\n",
    "        \n",
    "        c2 = nn_c[1]*self.u2_nond\n",
    "        \n",
    "        return c1, c2\n",
    "    \n",
    "    def in_training_region(self, point, normalized=True):\n",
    "        if normalized==False:\n",
    "            point = self.normalize_s(point)\n",
    "            \n",
    "        for i, p in enumerate(point):\n",
    "            \n",
    "            if p < self.df_s[:,i].min():\n",
    "                \n",
    "                print(f'min: {i}')\n",
    "                return False\n",
    "            if p > self.df_s[:,i].max():\n",
    "                print(f'max: {i}')\n",
    "                return False\n",
    "        \n",
    "        return True\n",
    "            \n",
    "        "
   ]
  },
  {
   "cell_type": "code",
   "execution_count": 9,
   "metadata": {},
   "outputs": [],
   "source": [
    "path_s = 'data_apollo/df_s_full.csv'\n",
    "path_c = 'data_apollo/df_c_full.csv'\n",
    "full_data = MyDataset(path_s, path_c)"
   ]
  },
  {
   "cell_type": "code",
   "execution_count": 10,
   "metadata": {},
   "outputs": [],
   "source": [
    "train_size = int(0.95 * len(full_data))\n",
    "val_size = len(full_data) - train_size\n",
    "train_dataset, validate_dataset = torch.utils.data.random_split(full_data, [train_size, val_size])"
   ]
  },
  {
   "cell_type": "code",
   "execution_count": 11,
   "metadata": {},
   "outputs": [
    {
     "data": {
      "text/plain": [
       "1005131"
      ]
     },
     "execution_count": 11,
     "metadata": {},
     "output_type": "execute_result"
    }
   ],
   "source": [
    "len(full_data)"
   ]
  },
  {
   "cell_type": "code",
   "execution_count": 12,
   "metadata": {},
   "outputs": [
    {
     "data": {
      "text/plain": [
       "954874"
      ]
     },
     "execution_count": 12,
     "metadata": {},
     "output_type": "execute_result"
    }
   ],
   "source": [
    "len(train_dataset)"
   ]
  },
  {
   "cell_type": "code",
   "execution_count": 13,
   "metadata": {},
   "outputs": [
    {
     "data": {
      "text/plain": [
       "50257"
      ]
     },
     "execution_count": 13,
     "metadata": {},
     "output_type": "execute_result"
    }
   ],
   "source": [
    "len(validate_dataset)"
   ]
  },
  {
   "cell_type": "code",
   "execution_count": null,
   "metadata": {
    "scrolled": true
   },
   "outputs": [],
   "source": []
  },
  {
   "cell_type": "code",
   "execution_count": 14,
   "metadata": {},
   "outputs": [
    {
     "data": {
      "text/plain": [
       "tensor(-266.8588)"
      ]
     },
     "execution_count": 14,
     "metadata": {},
     "output_type": "execute_result"
    }
   ],
   "source": [
    "(full_data.df_s[:,0].min())*full_data.s_std[0] + full_data.s_mean[0]"
   ]
  },
  {
   "cell_type": "code",
   "execution_count": 15,
   "metadata": {},
   "outputs": [],
   "source": [
    "batch_size = 8\n",
    "train_dl = data.DataLoader(train_dataset, batch_size=batch_size, shuffle=True)\n",
    "validate_dl = data.DataLoader(validate_dataset, batch_size=batch_size, shuffle=True)"
   ]
  },
  {
   "cell_type": "code",
   "execution_count": 16,
   "metadata": {},
   "outputs": [
    {
     "data": {
      "text/plain": [
       "<torch.utils.data.dataloader.DataLoader at 0x1395c69e8>"
      ]
     },
     "execution_count": 16,
     "metadata": {},
     "output_type": "execute_result"
    }
   ],
   "source": [
    "train_dl"
   ]
  },
  {
   "cell_type": "code",
   "execution_count": 17,
   "metadata": {},
   "outputs": [
    {
     "data": {
      "text/plain": [
       "<torch.utils.data.dataloader.DataLoader at 0x1395c6a20>"
      ]
     },
     "execution_count": 17,
     "metadata": {},
     "output_type": "execute_result"
    }
   ],
   "source": [
    "validate_dl"
   ]
  },
  {
   "cell_type": "code",
   "execution_count": 18,
   "metadata": {},
   "outputs": [],
   "source": [
    "\n",
    "def make_train_step(model, loss_fn, optimizer):\n",
    "    # Builds function that performs a step in the train loop\n",
    "    \n",
    "    def train_step(x, y):\n",
    "        # Sets model to TRAIN mode\n",
    "        model.train()\n",
    "        # Makes predictions\n",
    "        yhat = model(x)\n",
    "        # Computes loss\n",
    "        loss = loss_fn(y, yhat)\n",
    "        # Computes gradients\n",
    "        loss.backward()\n",
    "        # Updates parameters and zeroes gradients\n",
    "        optimizer.step()\n",
    "        optimizer.zero_grad()\n",
    "        # Returns the loss\n",
    "        return loss.item()\n",
    "    \n",
    "    # Returns the function that will be called inside the train loop\n",
    "    return train_step"
   ]
  },
  {
   "cell_type": "code",
   "execution_count": 19,
   "metadata": {},
   "outputs": [],
   "source": [
    "net.zero_grad()"
   ]
  },
  {
   "cell_type": "code",
   "execution_count": 20,
   "metadata": {},
   "outputs": [],
   "source": [
    "\n",
    "optimizer = optim.SGD(net.parameters(), lr = 0.005, momentum=0.9)\n",
    "criterion = nn.MSELoss()\n",
    "\n",
    "\n",
    "train_step = make_train_step(model=net, loss_fn=criterion, optimizer=optimizer)\n",
    "losses = []\n",
    "val_losses = []\n",
    "\n",
    "n_epochs = 10"
   ]
  },
  {
   "cell_type": "code",
   "execution_count": 21,
   "metadata": {},
   "outputs": [
    {
     "name": "stdout",
     "output_type": "stream",
     "text": [
      "Started Training\n",
      "Epoch: 0, Loss: 0.000522, Val_loss: 0.000184, Epoch Loss: 0.000522, Epoch Val Loss: 0.000184\n",
      "Epoch: 1, Loss: 0.000334, Val_loss: 0.000153, Epoch Loss: 0.000073, Epoch Val Loss: 0.000061\n",
      "Epoch: 2, Loss: 0.000259, Val_loss: 0.000134, Epoch Loss: 0.000036, Epoch Val Loss: 0.000032\n",
      "Epoch: 3, Loss: 0.000216, Val_loss: 0.000121, Epoch Loss: 0.000022, Epoch Val Loss: 0.000020\n",
      "Epoch: 4, Loss: 0.000188, Val_loss: 0.000110, Epoch Loss: 0.000015, Epoch Val Loss: 0.000014\n",
      "Epoch: 5, Loss: 0.000167, Val_loss: 0.000103, Epoch Loss: 0.000011, Epoch Val Loss: 0.000011\n",
      "Epoch: 6, Loss: 0.000152, Val_loss: 0.000097, Epoch Loss: 0.000009, Epoch Val Loss: 0.000009\n",
      "Epoch: 7, Loss: 0.000141, Val_loss: 0.000092, Epoch Loss: 0.000007, Epoch Val Loss: 0.000007\n",
      "Epoch: 8, Loss: 0.000131, Val_loss: 0.000088, Epoch Loss: 0.000006, Epoch Val Loss: 0.000006\n",
      "Epoch: 9, Loss: 0.000123, Val_loss: 0.000084, Epoch Loss: 0.000005, Epoch Val Loss: 0.000005\n",
      "\n",
      "********Finished Training*********\n"
     ]
    }
   ],
   "source": [
    "print(\"Started Training\")\n",
    "for epoch in range(n_epochs):\n",
    "    episode_loss_train = 0\n",
    "    episode_loss_val   = 0\n",
    "    \n",
    "    for batch in train_dl:\n",
    "\n",
    "        state = batch['s']\n",
    "        control = batch['c']\n",
    "        \n",
    "        loss = train_step(state, control)\n",
    "        \n",
    "        losses.append(loss)\n",
    "        episode_loss_train += loss\n",
    "        \n",
    "    with torch.no_grad():\n",
    "        for batch in validate_dl:\n",
    "            \n",
    "            net.eval()\n",
    "            \n",
    "            state = batch['s']\n",
    "            control = batch['c']\n",
    "\n",
    "            c_hat = net(state)\n",
    "            \n",
    "            val_loss = criterion(control, c_hat)\n",
    "            \n",
    "            val_losses.append(val_loss.item())\n",
    "            \n",
    "            episode_loss_val += val_loss.item()\n",
    "            \n",
    "            \n",
    "    print(f\"\"\"Epoch: {epoch}, Loss: {sum(losses)/len(losses):.6f}, Val_loss: {sum(val_losses)/len(val_losses):.6f}, Epoch Loss: {episode_loss_train/len(losses):.6f}, Epoch Val Loss: {episode_loss_val/len(val_losses):.6f}\"\"\")\n",
    "\n",
    "print('')\n",
    "\n",
    "print(\"********Finished Training*********\")"
   ]
  },
  {
   "cell_type": "code",
   "execution_count": 27,
   "metadata": {},
   "outputs": [],
   "source": [
    "d = next(iter(train_dl))"
   ]
  },
  {
   "cell_type": "code",
   "execution_count": 28,
   "metadata": {},
   "outputs": [
    {
     "data": {
      "text/plain": [
       "tensor([[-3.6410e-01,  4.0233e-03],\n",
       "        [-3.5908e-01,  3.0727e-03],\n",
       "        [-4.6115e-01,  1.3889e-02],\n",
       "        [-1.1520e-01, -9.8413e-02],\n",
       "        [-3.5295e-01, -2.1899e-03],\n",
       "        [-4.3839e-01,  1.3551e-02],\n",
       "        [-1.0446e-04,  3.8665e-02],\n",
       "        [-4.9336e-01, -2.3952e-04]], grad_fn=<TanhBackward>)"
      ]
     },
     "execution_count": 28,
     "metadata": {},
     "output_type": "execute_result"
    }
   ],
   "source": [
    "net(d['s'])"
   ]
  },
  {
   "cell_type": "code",
   "execution_count": 29,
   "metadata": {},
   "outputs": [
    {
     "data": {
      "text/plain": [
       "tensor([[-3.6514e-01,  2.5620e-03],\n",
       "        [-3.5900e-01, -5.9238e-04],\n",
       "        [-4.5733e-01,  1.5833e-02],\n",
       "        [-1.2200e-01, -9.6699e-02],\n",
       "        [-3.5395e-01,  6.0509e-04],\n",
       "        [-4.3459e-01,  1.5235e-02],\n",
       "        [ 1.3405e-02,  3.1098e-02],\n",
       "        [-4.9046e-01,  4.8541e-04]])"
      ]
     },
     "execution_count": 29,
     "metadata": {},
     "output_type": "execute_result"
    }
   ],
   "source": [
    "d['c']"
   ]
  },
  {
   "cell_type": "code",
   "execution_count": 30,
   "metadata": {},
   "outputs": [
    {
     "data": {
      "text/plain": [
       "tensor([[1.0445e-03, 1.4613e-03],\n",
       "        [7.5549e-05, 3.6651e-03],\n",
       "        [3.8184e-03, 1.9441e-03],\n",
       "        [6.8016e-03, 1.7135e-03],\n",
       "        [1.0006e-03, 2.7950e-03],\n",
       "        [3.8023e-03, 1.6840e-03],\n",
       "        [1.3510e-02, 7.5668e-03],\n",
       "        [2.9063e-03, 7.2493e-04]], grad_fn=<AbsBackward>)"
      ]
     },
     "execution_count": 30,
     "metadata": {},
     "output_type": "execute_result"
    }
   ],
   "source": [
    "abs(d['c']-net(d['s']))"
   ]
  },
  {
   "cell_type": "code",
   "execution_count": null,
   "metadata": {},
   "outputs": [],
   "source": []
  },
  {
   "cell_type": "code",
   "execution_count": null,
   "metadata": {},
   "outputs": [],
   "source": []
  },
  {
   "cell_type": "code",
   "execution_count": null,
   "metadata": {},
   "outputs": [],
   "source": []
  },
  {
   "cell_type": "code",
   "execution_count": null,
   "metadata": {},
   "outputs": [],
   "source": []
  },
  {
   "cell_type": "code",
   "execution_count": 32,
   "metadata": {},
   "outputs": [],
   "source": [
    "torch.save(net.state_dict(), 'model.pt')"
   ]
  },
  {
   "cell_type": "code",
   "execution_count": 180,
   "metadata": {},
   "outputs": [],
   "source": [
    "with torch.no_grad():\n",
    "    def simulate_net(rocket, model, dataset):\n",
    "\n",
    "        t = np.array([0,])\n",
    "        dt = 1\n",
    "\n",
    "        x, z, vx, vz, m = (np.array([s,]) for s in rocket.s_0)\n",
    "        sf = (x[-1], z[-1], vx[-1], vz[-1], m[-1])\n",
    "\n",
    "        u1, u2 = np.array([]), np.array([])\n",
    "        \n",
    "        while True:\n",
    "            if z[-1] < 0: print('z<0'); break\n",
    "            if t[-1] > 600: print('t>600'); break\n",
    "            if not dataset.in_training_region(sf, normalized = False): print('minmax'); break\n",
    "            sf = (x[-1], z[-1], vx[-1], vz[-1], m[-1])\n",
    "\n",
    "\n",
    "            #evaluate the model\n",
    "            n_sf = tuple(list(dataset.normalize_s(sf)))\n",
    "\n",
    "            n_uf = tuple(model(torch.FloatTensor(n_sf)).detach().numpy())\n",
    "\n",
    "            uf = tuple(list(dataset.denormalize_c(n_uf)))\n",
    "\n",
    "\n",
    "            new_state = rocket.propagate(sf, uf, dt=dt)\n",
    "\n",
    "            x = np.append(x, new_state[0])\n",
    "            z = np.append(z, new_state[1])\n",
    "            vx= np.append(vx, new_state[2])\n",
    "            vz= np.append(vz, new_state[3])\n",
    "            m = np.append(m, new_state[4])\n",
    "            t = np.append(t, t[-1]+dt)\n",
    "\n",
    "            u1 = np.append(u1, uf[0])\n",
    "            u2 = np.append(u2, uf[1])\n",
    "\n",
    "\n",
    "            #print(f't: {t[-1]:.1f}, x:{x[-1]:.1f}, z:{z[-1]:.1f}, u1:{u1[-1]:.2f}, u2:{u2[-1]:.2f}')\n",
    "\n",
    "        u1 = np.append(u1, u1[-1])\n",
    "        u2 = np.append(u2, u2[-1])    \n",
    "            \n",
    "        return (t, x, z, vx, vz, m, u1, u2)\n",
    "\n",
    "def simulate_no_thrust(rocket):\n",
    "\n",
    "    t = [0,]\n",
    "    dt = 1\n",
    "\n",
    "    x, z, vx, vz, m = ([s,] for s in rocket.s_0)\n",
    "\n",
    "    u1, u2 = [], []\n",
    "\n",
    "    while z[-1] > 0 and t[-1] < 300:\n",
    "        sf = (x[-1], z[-1], vx[-1], vz[-1], m[-1])\n",
    "\n",
    "        new_state = rocket.propagate(sf, (0,0), dt=dt)\n",
    "\n",
    "        x.append(new_state[0])\n",
    "        z.append(new_state[1])\n",
    "        vx.append(new_state[2])\n",
    "        vz.append(new_state[3])\n",
    "        m.append(new_state[4])\n",
    "        t.append(t[-1]+dt)\n",
    "\n",
    "        u1.append(0)\n",
    "        u2.append(0)\n",
    "\n",
    "\n",
    "        #print(f't: {t[-1]:.1f}, x:{x[-1]:.1f}, z:{z[-1]:.1f}, u1:{u1[-1]:.2f}, u2:{u2[-1]:.2f}')\n",
    "    \n",
    "    u1.append(u1[-1])\n",
    "    u2.append(u2[-1])   \n",
    "\n",
    "    return (t, x, z, vx, vz, m, u1, u2)    \n",
    "        "
   ]
  },
  {
   "cell_type": "code",
   "execution_count": null,
   "metadata": {},
   "outputs": [],
   "source": []
  },
  {
   "cell_type": "code",
   "execution_count": 422,
   "metadata": {
    "scrolled": false
   },
   "outputs": [
    {
     "name": "stdout",
     "output_type": "stream",
     "text": [
      "Rocket \n",
      "Initial State: (-94.96465212033995, 950.4313102743607, -1.8495310962241476, -23.028684829593658, 10478.476626536885)\n",
      "max: 3\n",
      "minmax\n"
     ]
    },
    {
     "data": {
      "image/png": "[encoded data removed]",
      "text/plain": [
       "<Figure size 432x288 with 1 Axes>"
      ]
     },
     "metadata": {
      "needs_background": "light"
     },
     "output_type": "display_data"
    },
    {
     "data": {
      "image/png": "[encoded data removed]",
      "text/plain": [
       "<Figure size 432x288 with 1 Axes>"
      ]
     },
     "metadata": {
      "needs_background": "light"
     },
     "output_type": "display_data"
    },
    {
     "data": {
      "image/png": "[encoded data removed]",
      "text/plain": [
       "<Figure size 432x288 with 1 Axes>"
      ]
     },
     "metadata": {
      "needs_background": "light"
     },
     "output_type": "display_data"
    },
    {
     "data": {
      "image/png": "[encoded data removed]",
      "text/plain": [
       "<Figure size 432x288 with 1 Axes>"
      ]
     },
     "metadata": {
      "needs_background": "light"
     },
     "output_type": "display_data"
    },
    {
     "data": {
      "image/png": "[encoded data removed]",
      "text/plain": [
       "<Figure size 432x288 with 1 Axes>"
      ]
     },
     "metadata": {
      "needs_background": "light"
     },
     "output_type": "display_data"
    },
    {
     "data": {
      "image/png": "[encoded data removed]",
      "text/plain": [
       "<Figure size 432x288 with 1 Axes>"
      ]
     },
     "metadata": {
      "needs_background": "light"
     },
     "output_type": "display_data"
    },
    {
     "data": {
      "image/png": "[encoded data removed]",
      "text/plain": [
       "<Figure size 432x288 with 1 Axes>"
      ]
     },
     "metadata": {
      "needs_background": "light"
     },
     "output_type": "display_data"
    }
   ],
   "source": [
    "r = Rocket(*[150, 1700., -5, -25, 11000.], disperse=True)\n",
    "r.lunar_guidance_live(h_ratio=2)\n",
    "print(r)\n",
    "\n",
    "with torch.no_grad():\n",
    "    (t_net, x_net, z_net, vx_net, vz_net, m_net, u1_net, u2_net) = simulate_net(r, net, full_data)\n",
    "    \n",
    "(t_no, x_no, z_no, vx_no, vz_no, m_no, u1_no, u2_no) = simulate_no_thrust(r)\n",
    "\n",
    "plt.plot(r.x, r.z, 'b-')\n",
    "plt.plot(x_net, z_net, 'r--')\n",
    "plt.plot(x_no, z_no, 'g:')\n",
    "ax = plt.gca()\n",
    "ax.set_aspect('equal', 'datalim')\n",
    "plt.title('path')\n",
    "plt.grid()\n",
    "plt.show()\n",
    "\n",
    "\n",
    "plt.plot(r.t, r.x, 'b-')\n",
    "plt.plot(t_net, x_net, 'r--')\n",
    "plt.plot(t_no, x_no, 'g:')\n",
    "plt.grid()\n",
    "plt.title('x')\n",
    "plt.show()\n",
    "\n",
    "plt.plot(r.t, r.z, 'b-')\n",
    "plt.plot(t_net, z_net, 'r--')\n",
    "plt.plot(t_no, z_no, 'g:')\n",
    "plt.grid()\n",
    "plt.title('z')\n",
    "plt.show()\n",
    "\n",
    "\n",
    "plt.plot(r.t, r.vx, 'b-')\n",
    "plt.plot(t_net, vx_net, 'r--')\n",
    "plt.plot(t_no, vx_no, 'g:')\n",
    "plt.grid()\n",
    "plt.title('vx')\n",
    "plt.show()\n",
    "\n",
    "\n",
    "plt.plot(r.t, r.vz, 'b-')\n",
    "plt.plot(t_net, vz_net, 'r--')\n",
    "plt.plot(t_no, vz_no, 'g:')\n",
    "plt.grid()\n",
    "plt.title('vz')\n",
    "plt.show()\n",
    "\n",
    "\n",
    "\n",
    "plt.plot(r.t, r.u1_mag, 'b-')\n",
    "plt.plot(t_net, u1_net, 'r--')\n",
    "plt.plot(t_no, u1_no, 'g:')\n",
    "plt.grid()\n",
    "plt.title('u1')\n",
    "plt.show()\n",
    "\n",
    "\n",
    "plt.plot(r.t, r.u2_angle, 'b-')\n",
    "plt.plot(t_net, u2_net, 'r--')\n",
    "plt.plot(t_no, u2_no, 'g:')\n",
    "plt.grid()\n",
    "plt.title('u2')\n",
    "plt.show()\n"
   ]
  },
  {
   "cell_type": "code",
   "execution_count": null,
   "metadata": {
    "scrolled": false
   },
   "outputs": [],
   "source": []
  },
  {
   "cell_type": "code",
   "execution_count": null,
   "metadata": {},
   "outputs": [],
   "source": []
  },
  {
   "cell_type": "code",
   "execution_count": null,
   "metadata": {},
   "outputs": [],
   "source": []
  },
  {
   "cell_type": "code",
   "execution_count": null,
   "metadata": {},
   "outputs": [],
   "source": []
  },
  {
   "cell_type": "code",
   "execution_count": null,
   "metadata": {},
   "outputs": [],
   "source": []
  },
  {
   "cell_type": "code",
   "execution_count": null,
   "metadata": {},
   "outputs": [],
   "source": []
  },
  {
   "cell_type": "code",
   "execution_count": null,
   "metadata": {},
   "outputs": [],
   "source": []
  },
  {
   "cell_type": "code",
   "execution_count": null,
   "metadata": {},
   "outputs": [],
   "source": []
  },
  {
   "cell_type": "code",
   "execution_count": null,
   "metadata": {},
   "outputs": [],
   "source": []
  },
  {
   "cell_type": "code",
   "execution_count": 162,
   "metadata": {},
   "outputs": [],
   "source": [
    "def moving_average(x, w):\n",
    "    return np.convolve(x, np.ones(w), 'valid') / w"
   ]
  },
  {
   "cell_type": "code",
   "execution_count": 163,
   "metadata": {},
   "outputs": [
    {
     "data": {
      "text/plain": [
       "[<matplotlib.lines.Line2D at 0x1335ba358>]"
      ]
     },
     "execution_count": 163,
     "metadata": {},
     "output_type": "execute_result"
    },
    {
     "data": {
      "image/png": "[encoded data removed]",
      "text/plain": [
       "<Figure size 432x288 with 1 Axes>"
      ]
     },
     "metadata": {
      "needs_background": "light"
     },
     "output_type": "display_data"
    }
   ],
   "source": [
    "plt.plot(np.log(moving_average(losses[1:],10000)))"
   ]
  },
  {
   "cell_type": "code",
   "execution_count": 164,
   "metadata": {},
   "outputs": [
    {
     "data": {
      "text/plain": [
       "[<matplotlib.lines.Line2D at 0x133738908>]"
      ]
     },
     "execution_count": 164,
     "metadata": {},
     "output_type": "execute_result"
    },
    {
     "data": {
      "image/png": "[encoded data removed]",
      "text/plain": [
       "<Figure size 432x288 with 1 Axes>"
      ]
     },
     "metadata": {
      "needs_background": "light"
     },
     "output_type": "display_data"
    }
   ],
   "source": [
    "plt.plot(np.log(moving_average(val_losses,100)))"
   ]
  },
  {
   "cell_type": "code",
   "execution_count": 165,
   "metadata": {},
   "outputs": [
    {
     "data": {
      "text/plain": [
       "tensor([-0.4044, -0.0094], grad_fn=<TanhBackward>)"
      ]
     },
     "execution_count": 165,
     "metadata": {},
     "output_type": "execute_result"
    }
   ],
   "source": [
    "net(train_dataset[0]['s'])"
   ]
  },
  {
   "cell_type": "code",
   "execution_count": 166,
   "metadata": {},
   "outputs": [
    {
     "data": {
      "text/plain": [
       "tensor([-0.4048, -0.0103])"
      ]
     },
     "execution_count": 166,
     "metadata": {},
     "output_type": "execute_result"
    }
   ],
   "source": [
    "train_dataset[0]['c']"
   ]
  },
  {
   "cell_type": "code",
   "execution_count": 167,
   "metadata": {},
   "outputs": [
    {
     "name": "stdout",
     "output_type": "stream",
     "text": [
      "tensor([-0.4044, -0.0094], grad_fn=<TanhBackward>) tensor([-0.4048, -0.0103])\n",
      "tensor([-0.4668,  0.0065], grad_fn=<TanhBackward>) tensor([-0.4639,  0.0061])\n",
      "tensor([-0.2781,  0.0162], grad_fn=<TanhBackward>) tensor([-0.2806,  0.0181])\n",
      "tensor([-0.3448,  0.0083], grad_fn=<TanhBackward>) tensor([-0.3446,  0.0048])\n",
      "tensor([-0.3831,  0.0015], grad_fn=<TanhBackward>) tensor([-3.8533e-01,  2.3858e-04])\n",
      "tensor([-0.4114, -0.0024], grad_fn=<TanhBackward>) tensor([-0.4038, -0.0103])\n",
      "tensor([-0.4179,  0.0112], grad_fn=<TanhBackward>) tensor([-0.4164,  0.0124])\n",
      "tensor([-0.4706,  0.0013], grad_fn=<TanhBackward>) tensor([-0.4681,  0.0029])\n",
      "tensor([-0.3931,  0.0060], grad_fn=<TanhBackward>) tensor([-0.3927,  0.0061])\n",
      "tensor([-0.2830,  0.0152], grad_fn=<TanhBackward>) tensor([-0.2828,  0.0144])\n"
     ]
    }
   ],
   "source": [
    "for i in range(10):\n",
    "    print(net(train_dataset[i]['s']), train_dataset[i]['c'])"
   ]
  },
  {
   "cell_type": "code",
   "execution_count": 427,
   "metadata": {},
   "outputs": [],
   "source": [
    "def tensor_dynamics(state, dt = 1):\n",
    "    x = state[0]\n",
    "    z = state[1]\n",
    "    vx = state[2]\n",
    "    vz = state[3]\n",
    "    m = state[4]\n",
    "    \n",
    "    #non dimensionalize\n",
    "    n_state = (state - torch.tensor(full_data.s_mean))/torch.tensor(full_data.s_std)\n",
    "    \n",
    "    # predict using net\n",
    "    u = net.forward(n_state)\n",
    "    \n",
    "    #de-normalize\n",
    "    u1 = (u[0] + 1)/2\n",
    "    u2 = (u[1]*np.pi/8)\n",
    "    \n",
    "    #dynamics\n",
    "    g = 1.6229\n",
    "    c1 = 44000\n",
    "    c2 = 311*9.81\n",
    "    \n",
    "    dx = vx\n",
    "    dz = vz\n",
    "    dvx = c1*(u1/m)*torch.sin(u2)\n",
    "    dvz = c1*(u1/m)*torch.cos(u2) - g\n",
    "    dm  = -(c1/c2)*u1\n",
    "    \n",
    "    #update state\n",
    "    x = x + dx*dt\n",
    "    z = z + dz*dt\n",
    "    vx = vx + dvx*dt\n",
    "    vz = vz + dvz*dt\n",
    "    m = m + dm*dt\n",
    "    \n",
    "    #return new state\n",
    "    new_state = torch.stack((x, z, vx, vz, m))\n",
    "    \n",
    "    return new_state\n",
    "    \n",
    "    "
   ]
  },
  {
   "cell_type": "code",
   "execution_count": 428,
   "metadata": {},
   "outputs": [
    {
     "data": {
      "text/plain": [
       "tensor([-4.8342e-01,  3.4932e+02,  1.7036e-03, -5.6301e+00,  9.1971e+03])"
      ]
     },
     "execution_count": 428,
     "metadata": {},
     "output_type": "execute_result"
    }
   ],
   "source": [
    "torch.tensor(full_data.s_mean)"
   ]
  },
  {
   "cell_type": "code",
   "execution_count": 429,
   "metadata": {},
   "outputs": [],
   "source": [
    "r = Rocket()\n",
    "state = torch.tensor(r.s_0, requires_grad=True)"
   ]
  },
  {
   "cell_type": "code",
   "execution_count": 430,
   "metadata": {},
   "outputs": [
    {
     "data": {
      "text/plain": [
       "tensor([ 1.3267e+02,  1.3430e+03,  6.0173e+00, -1.9112e+01,  1.0071e+04],\n",
       "       requires_grad=True)"
      ]
     },
     "execution_count": 430,
     "metadata": {},
     "output_type": "execute_result"
    }
   ],
   "source": [
    "state"
   ]
  },
  {
   "cell_type": "code",
   "execution_count": 431,
   "metadata": {},
   "outputs": [
    {
     "name": "stdout",
     "output_type": "stream",
     "text": [
      "tensor([ 2.0658,  2.3424,  4.7130, -2.2336,  0.6898], grad_fn=<DivBackward0>)\n"
     ]
    }
   ],
   "source": [
    "state = tensor_dynamics(state)"
   ]
  },
  {
   "cell_type": "code",
   "execution_count": 432,
   "metadata": {},
   "outputs": [
    {
     "data": {
      "text/plain": [
       "tensor([ 1.3868e+02,  1.3239e+03,  5.7809e+00, -1.8839e+01,  1.0065e+04],\n",
       "       grad_fn=<StackBackward>)"
      ]
     },
     "execution_count": 432,
     "metadata": {},
     "output_type": "execute_result"
    }
   ],
   "source": [
    "state"
   ]
  },
  {
   "cell_type": "code",
   "execution_count": null,
   "metadata": {},
   "outputs": [],
   "source": []
  },
  {
   "cell_type": "code",
   "execution_count": 423,
   "metadata": {},
   "outputs": [],
   "source": [
    "def forward_simulate_net(rocket, model, dataset):\n",
    "        \n",
    "        t = 0\n",
    "        dt = 1\n",
    "        \n",
    "        state = torch.tensor(r.s_0, requires_grad=True)\n",
    "        \n",
    "        m0 = state[4]\n",
    "        \n",
    "        landed = False\n",
    "        \n",
    "        while True:\n",
    "            if state[1] < 0: \n",
    "                print('z<0');\n",
    "                landed = True; \n",
    "                break\n",
    "            if t > 1000:\n",
    "                print('t>1000'); break\n",
    "            #if not dataset.in_training_region(sf, normalized = False): print('minmax'); break\n",
    "            if landed:\n",
    "                break\n",
    "\n",
    "            state = tensor_dynamics(state, dt) #updates state\n",
    "            t += dt\n",
    "            \n",
    "            #check for landing\n",
    "            fin_dist = (state[0]**2 + state[1]**2)**0.5\n",
    "            fin_velo = (state[2]**2 + state[3]**2)**0.5\n",
    "            \n",
    "            if fin_dist < 10 and fin_velo < 0.7:\n",
    "                landed = True\n",
    "                return 1 - state[4]/m0 #return propellant mass usage\n",
    "        \n",
    "        ## compute losses\n",
    "        #if its here, it didnt succeed\n",
    "        \n",
    "        print('landing failed')\n",
    "        return fin_dist/10 + fin_velo/0.7"
   ]
  },
  {
   "cell_type": "code",
   "execution_count": 425,
   "metadata": {
    "scrolled": true
   },
   "outputs": [
    {
     "name": "stdout",
     "output_type": "stream",
     "text": [
      "tensor(1685.0354, grad_fn=<PowBackward0>)\n",
      "tensor(1687.5605, grad_fn=<PowBackward0>)\n",
      "tensor(1690.0343, grad_fn=<PowBackward0>)\n",
      "tensor(1692.4552, grad_fn=<PowBackward0>)\n",
      "tensor(1694.8226, grad_fn=<PowBackward0>)\n",
      "tensor(1697.1355, grad_fn=<PowBackward0>)\n",
      "tensor(1699.3929, grad_fn=<PowBackward0>)\n",
      "tensor(1701.5942, grad_fn=<PowBackward0>)\n",
      "tensor(1703.7384, grad_fn=<PowBackward0>)\n",
      "tensor(1705.8252, grad_fn=<PowBackward0>)\n",
      "tensor(1707.8535, grad_fn=<PowBackward0>)\n",
      "tensor(1709.8230, grad_fn=<PowBackward0>)\n",
      "tensor(1711.7329, grad_fn=<PowBackward0>)\n",
      "tensor(1713.5829, grad_fn=<PowBackward0>)\n",
      "tensor(1715.3722, grad_fn=<PowBackward0>)\n",
      "tensor(1717.1005, grad_fn=<PowBackward0>)\n",
      "tensor(1718.7671, grad_fn=<PowBackward0>)\n",
      "tensor(1720.3713, grad_fn=<PowBackward0>)\n",
      "tensor(1721.9127, grad_fn=<PowBackward0>)\n",
      "tensor(1723.3907, grad_fn=<PowBackward0>)\n",
      "tensor(1724.8049, grad_fn=<PowBackward0>)\n",
      "tensor(1726.1548, grad_fn=<PowBackward0>)\n",
      "tensor(1727.4402, grad_fn=<PowBackward0>)\n",
      "tensor(1728.6605, grad_fn=<PowBackward0>)\n",
      "tensor(1729.8156, grad_fn=<PowBackward0>)\n",
      "tensor(1730.9049, grad_fn=<PowBackward0>)\n",
      "tensor(1731.9286, grad_fn=<PowBackward0>)\n",
      "tensor(1732.8861, grad_fn=<PowBackward0>)\n",
      "tensor(1733.7773, grad_fn=<PowBackward0>)\n",
      "tensor(1734.6023, grad_fn=<PowBackward0>)\n",
      "tensor(1735.3606, grad_fn=<PowBackward0>)\n",
      "tensor(1736.0524, grad_fn=<PowBackward0>)\n",
      "tensor(1736.6774, grad_fn=<PowBackward0>)\n",
      "tensor(1737.2356, grad_fn=<PowBackward0>)\n",
      "tensor(1737.7271, grad_fn=<PowBackward0>)\n",
      "tensor(1738.1515, grad_fn=<PowBackward0>)\n",
      "tensor(1738.5094, grad_fn=<PowBackward0>)\n",
      "tensor(1738.8004, grad_fn=<PowBackward0>)\n",
      "tensor(1739.0248, grad_fn=<PowBackward0>)\n",
      "tensor(1739.1824, grad_fn=<PowBackward0>)\n",
      "tensor(1739.2737, grad_fn=<PowBackward0>)\n",
      "tensor(1739.2985, grad_fn=<PowBackward0>)\n",
      "tensor(1739.2570, grad_fn=<PowBackward0>)\n",
      "tensor(1739.1494, grad_fn=<PowBackward0>)\n",
      "tensor(1738.9760, grad_fn=<PowBackward0>)\n",
      "tensor(1738.7367, grad_fn=<PowBackward0>)\n",
      "tensor(1738.4319, grad_fn=<PowBackward0>)\n",
      "tensor(1738.0616, grad_fn=<PowBackward0>)\n",
      "tensor(1737.6263, grad_fn=<PowBackward0>)\n",
      "tensor(1737.1262, grad_fn=<PowBackward0>)\n",
      "tensor(1736.5615, grad_fn=<PowBackward0>)\n",
      "tensor(1735.9325, grad_fn=<PowBackward0>)\n",
      "tensor(1735.2394, grad_fn=<PowBackward0>)\n",
      "tensor(1734.4827, grad_fn=<PowBackward0>)\n",
      "tensor(1733.6625, grad_fn=<PowBackward0>)\n",
      "tensor(1732.7792, grad_fn=<PowBackward0>)\n",
      "tensor(1731.8333, grad_fn=<PowBackward0>)\n",
      "tensor(1730.8248, grad_fn=<PowBackward0>)\n",
      "tensor(1729.7543, grad_fn=<PowBackward0>)\n",
      "tensor(1728.6222, grad_fn=<PowBackward0>)\n",
      "tensor(1727.4287, grad_fn=<PowBackward0>)\n",
      "tensor(1726.1743, grad_fn=<PowBackward0>)\n",
      "tensor(1724.8594, grad_fn=<PowBackward0>)\n",
      "tensor(1723.4844, grad_fn=<PowBackward0>)\n",
      "tensor(1722.0497, grad_fn=<PowBackward0>)\n",
      "tensor(1720.5557, grad_fn=<PowBackward0>)\n",
      "tensor(1719.0031, grad_fn=<PowBackward0>)\n",
      "tensor(1717.3918, grad_fn=<PowBackward0>)\n",
      "tensor(1715.7225, grad_fn=<PowBackward0>)\n",
      "tensor(1713.9960, grad_fn=<PowBackward0>)\n",
      "tensor(1712.2122, grad_fn=<PowBackward0>)\n",
      "tensor(1710.3718, grad_fn=<PowBackward0>)\n",
      "tensor(1708.4752, grad_fn=<PowBackward0>)\n",
      "tensor(1706.5231, grad_fn=<PowBackward0>)\n",
      "tensor(1704.5156, grad_fn=<PowBackward0>)\n",
      "tensor(1702.4536, grad_fn=<PowBackward0>)\n",
      "tensor(1700.3374, grad_fn=<PowBackward0>)\n",
      "tensor(1698.1674, grad_fn=<PowBackward0>)\n",
      "tensor(1695.9441, grad_fn=<PowBackward0>)\n",
      "tensor(1693.6683, grad_fn=<PowBackward0>)\n",
      "tensor(1691.3401, grad_fn=<PowBackward0>)\n",
      "tensor(1688.9602, grad_fn=<PowBackward0>)\n",
      "tensor(1686.5292, grad_fn=<PowBackward0>)\n",
      "tensor(1684.0475, grad_fn=<PowBackward0>)\n",
      "tensor(1681.5156, grad_fn=<PowBackward0>)\n",
      "tensor(1678.9341, grad_fn=<PowBackward0>)\n",
      "tensor(1676.3035, grad_fn=<PowBackward0>)\n",
      "tensor(1673.6245, grad_fn=<PowBackward0>)\n",
      "tensor(1670.8973, grad_fn=<PowBackward0>)\n",
      "tensor(1668.1228, grad_fn=<PowBackward0>)\n",
      "tensor(1665.3013, grad_fn=<PowBackward0>)\n",
      "tensor(1662.4333, grad_fn=<PowBackward0>)\n",
      "tensor(1659.5195, grad_fn=<PowBackward0>)\n",
      "tensor(1656.5604, grad_fn=<PowBackward0>)\n",
      "tensor(1653.5565, grad_fn=<PowBackward0>)\n",
      "tensor(1650.5084, grad_fn=<PowBackward0>)\n",
      "tensor(1647.4167, grad_fn=<PowBackward0>)\n",
      "tensor(1644.2819, grad_fn=<PowBackward0>)\n",
      "tensor(1641.1045, grad_fn=<PowBackward0>)\n",
      "tensor(1637.8851, grad_fn=<PowBackward0>)\n",
      "tensor(1634.6241, grad_fn=<PowBackward0>)\n",
      "tensor(1631.3225, grad_fn=<PowBackward0>)\n",
      "tensor(1627.9805, grad_fn=<PowBackward0>)\n",
      "tensor(1624.5985, grad_fn=<PowBackward0>)\n",
      "tensor(1621.1775, grad_fn=<PowBackward0>)\n",
      "tensor(1617.7178, grad_fn=<PowBackward0>)\n",
      "tensor(1614.2200, grad_fn=<PowBackward0>)\n",
      "tensor(1610.6846, grad_fn=<PowBackward0>)\n",
      "tensor(1607.1122, grad_fn=<PowBackward0>)\n",
      "tensor(1603.5034, grad_fn=<PowBackward0>)\n",
      "tensor(1599.8588, grad_fn=<PowBackward0>)\n",
      "tensor(1596.1788, grad_fn=<PowBackward0>)\n",
      "tensor(1592.4642, grad_fn=<PowBackward0>)\n",
      "tensor(1588.7156, grad_fn=<PowBackward0>)\n",
      "tensor(1584.9330, grad_fn=<PowBackward0>)\n",
      "tensor(1581.1177, grad_fn=<PowBackward0>)\n",
      "tensor(1577.2697, grad_fn=<PowBackward0>)\n",
      "tensor(1573.3896, grad_fn=<PowBackward0>)\n",
      "tensor(1569.4784, grad_fn=<PowBackward0>)\n",
      "tensor(1565.5364, grad_fn=<PowBackward0>)\n",
      "tensor(1561.5638, grad_fn=<PowBackward0>)\n",
      "tensor(1557.5619, grad_fn=<PowBackward0>)\n",
      "tensor(1553.5305, grad_fn=<PowBackward0>)\n",
      "tensor(1549.4707, grad_fn=<PowBackward0>)\n",
      "tensor(1545.3828, grad_fn=<PowBackward0>)\n",
      "tensor(1541.2675, grad_fn=<PowBackward0>)\n",
      "tensor(1537.1250, grad_fn=<PowBackward0>)\n",
      "tensor(1532.9562, grad_fn=<PowBackward0>)\n",
      "tensor(1528.7616, grad_fn=<PowBackward0>)\n",
      "tensor(1524.5417, grad_fn=<PowBackward0>)\n",
      "tensor(1520.2970, grad_fn=<PowBackward0>)\n",
      "tensor(1516.0281, grad_fn=<PowBackward0>)\n",
      "tensor(1511.7355, grad_fn=<PowBackward0>)\n",
      "tensor(1507.4198, grad_fn=<PowBackward0>)\n",
      "tensor(1503.0814, grad_fn=<PowBackward0>)\n",
      "tensor(1498.7211, grad_fn=<PowBackward0>)\n",
      "tensor(1494.3391, grad_fn=<PowBackward0>)\n",
      "tensor(1489.9360, grad_fn=<PowBackward0>)\n",
      "tensor(1485.5127, grad_fn=<PowBackward0>)\n",
      "tensor(1481.0692, grad_fn=<PowBackward0>)\n",
      "tensor(1476.6064, grad_fn=<PowBackward0>)\n",
      "tensor(1472.1248, grad_fn=<PowBackward0>)\n",
      "tensor(1467.6248, grad_fn=<PowBackward0>)\n",
      "tensor(1463.1067, grad_fn=<PowBackward0>)\n",
      "tensor(1458.5715, grad_fn=<PowBackward0>)\n",
      "tensor(1454.0194, grad_fn=<PowBackward0>)\n",
      "tensor(1449.4510, grad_fn=<PowBackward0>)\n",
      "tensor(1444.8668, grad_fn=<PowBackward0>)\n",
      "tensor(1440.2675, grad_fn=<PowBackward0>)\n",
      "tensor(1435.6532, grad_fn=<PowBackward0>)\n",
      "tensor(1431.0248, grad_fn=<PowBackward0>)\n",
      "tensor(1426.3824, grad_fn=<PowBackward0>)\n",
      "tensor(1421.7269, grad_fn=<PowBackward0>)\n",
      "tensor(1417.0587, grad_fn=<PowBackward0>)\n",
      "tensor(1412.3781, grad_fn=<PowBackward0>)\n",
      "tensor(1407.6857, grad_fn=<PowBackward0>)\n",
      "tensor(1402.9821, grad_fn=<PowBackward0>)\n",
      "tensor(1398.2675, grad_fn=<PowBackward0>)\n",
      "tensor(1393.5426, grad_fn=<PowBackward0>)\n",
      "tensor(1388.8080, grad_fn=<PowBackward0>)\n",
      "tensor(1384.0638, grad_fn=<PowBackward0>)\n",
      "tensor(1379.3109, grad_fn=<PowBackward0>)\n",
      "tensor(1374.5494, grad_fn=<PowBackward0>)\n",
      "tensor(1369.7803, grad_fn=<PowBackward0>)\n",
      "tensor(1365.0034, grad_fn=<PowBackward0>)\n",
      "tensor(1360.2195, grad_fn=<PowBackward0>)\n",
      "tensor(1355.4292, grad_fn=<PowBackward0>)\n",
      "tensor(1350.6327, grad_fn=<PowBackward0>)\n",
      "tensor(1345.8306, grad_fn=<PowBackward0>)\n",
      "tensor(1341.0232, grad_fn=<PowBackward0>)\n",
      "tensor(1336.2111, grad_fn=<PowBackward0>)\n",
      "tensor(1331.3947, grad_fn=<PowBackward0>)\n",
      "tensor(1326.5743, grad_fn=<PowBackward0>)\n",
      "tensor(1321.7507, grad_fn=<PowBackward0>)\n",
      "tensor(1316.9242, grad_fn=<PowBackward0>)\n",
      "tensor(1312.0951, grad_fn=<PowBackward0>)\n",
      "tensor(1307.2638, grad_fn=<PowBackward0>)\n",
      "tensor(1302.4309, grad_fn=<PowBackward0>)\n",
      "tensor(1297.5967, grad_fn=<PowBackward0>)\n",
      "tensor(1292.7617, grad_fn=<PowBackward0>)\n",
      "tensor(1287.9263, grad_fn=<PowBackward0>)\n",
      "tensor(1283.0907, grad_fn=<PowBackward0>)\n",
      "tensor(1278.2546, grad_fn=<PowBackward0>)\n",
      "tensor(1273.4180, grad_fn=<PowBackward0>)\n",
      "tensor(1268.5803, grad_fn=<PowBackward0>)\n",
      "tensor(1263.7416, grad_fn=<PowBackward0>)\n",
      "tensor(1258.9014, grad_fn=<PowBackward0>)\n",
      "tensor(1254.0594, grad_fn=<PowBackward0>)\n",
      "tensor(1249.2157, grad_fn=<PowBackward0>)\n",
      "tensor(1244.3699, grad_fn=<PowBackward0>)\n",
      "tensor(1239.5217, grad_fn=<PowBackward0>)\n",
      "tensor(1234.6713, grad_fn=<PowBackward0>)\n",
      "tensor(1229.8179, grad_fn=<PowBackward0>)\n",
      "tensor(1224.9617, grad_fn=<PowBackward0>)\n",
      "tensor(1220.1024, grad_fn=<PowBackward0>)\n",
      "tensor(1215.2399, grad_fn=<PowBackward0>)\n",
      "tensor(1210.3739, grad_fn=<PowBackward0>)\n",
      "tensor(1205.5044, grad_fn=<PowBackward0>)\n",
      "tensor(1200.6311, grad_fn=<PowBackward0>)\n",
      "tensor(1195.7539, grad_fn=<PowBackward0>)\n",
      "tensor(1190.8727, grad_fn=<PowBackward0>)\n",
      "tensor(1185.9873, grad_fn=<PowBackward0>)\n",
      "tensor(1181.0977, grad_fn=<PowBackward0>)\n",
      "tensor(1176.2035, grad_fn=<PowBackward0>)\n",
      "tensor(1171.3048, grad_fn=<PowBackward0>)\n",
      "tensor(1166.4015, grad_fn=<PowBackward0>)\n",
      "tensor(1161.4933, grad_fn=<PowBackward0>)\n",
      "tensor(1156.5802, grad_fn=<PowBackward0>)\n",
      "tensor(1151.6621, grad_fn=<PowBackward0>)\n",
      "tensor(1146.7388, grad_fn=<PowBackward0>)\n",
      "tensor(1141.8103, grad_fn=<PowBackward0>)\n",
      "tensor(1136.8765, grad_fn=<PowBackward0>)\n",
      "tensor(1131.9373, grad_fn=<PowBackward0>)\n",
      "tensor(1126.9926, grad_fn=<PowBackward0>)\n",
      "tensor(1122.0422, grad_fn=<PowBackward0>)\n",
      "tensor(1117.0863, grad_fn=<PowBackward0>)\n",
      "tensor(1112.1246, grad_fn=<PowBackward0>)\n",
      "tensor(1107.1572, grad_fn=<PowBackward0>)\n",
      "tensor(1102.1840, grad_fn=<PowBackward0>)\n",
      "tensor(1097.2047, grad_fn=<PowBackward0>)\n",
      "tensor(1092.2196, grad_fn=<PowBackward0>)\n",
      "tensor(1087.2284, grad_fn=<PowBackward0>)\n",
      "tensor(1082.2312, grad_fn=<PowBackward0>)\n",
      "tensor(1077.2279, grad_fn=<PowBackward0>)\n",
      "tensor(1072.2184, grad_fn=<PowBackward0>)\n",
      "tensor(1067.2028, grad_fn=<PowBackward0>)\n",
      "tensor(1062.1808, grad_fn=<PowBackward0>)\n",
      "tensor(1057.1526, grad_fn=<PowBackward0>)\n",
      "tensor(1052.1180, grad_fn=<PowBackward0>)\n",
      "tensor(1047.0773, grad_fn=<PowBackward0>)\n",
      "tensor(1042.0300, grad_fn=<PowBackward0>)\n",
      "tensor(1036.9768, grad_fn=<PowBackward0>)\n",
      "tensor(1031.9178, grad_fn=<PowBackward0>)\n",
      "tensor(1026.8533, grad_fn=<PowBackward0>)\n",
      "tensor(1021.7838, grad_fn=<PowBackward0>)\n",
      "tensor(1016.7094, grad_fn=<PowBackward0>)\n",
      "tensor(1011.6305, grad_fn=<PowBackward0>)\n"
     ]
    },
    {
     "name": "stdout",
     "output_type": "stream",
     "text": [
      "tensor(1006.5472, grad_fn=<PowBackward0>)\n",
      "tensor(1001.4599, grad_fn=<PowBackward0>)\n",
      "tensor(996.3687, grad_fn=<PowBackward0>)\n",
      "tensor(991.2740, grad_fn=<PowBackward0>)\n",
      "tensor(986.1759, grad_fn=<PowBackward0>)\n",
      "tensor(981.0746, grad_fn=<PowBackward0>)\n",
      "tensor(975.9703, grad_fn=<PowBackward0>)\n",
      "tensor(970.8633, grad_fn=<PowBackward0>)\n",
      "tensor(965.7537, grad_fn=<PowBackward0>)\n",
      "tensor(960.6415, grad_fn=<PowBackward0>)\n",
      "tensor(955.5272, grad_fn=<PowBackward0>)\n",
      "tensor(950.4107, grad_fn=<PowBackward0>)\n",
      "tensor(945.2928, grad_fn=<PowBackward0>)\n",
      "tensor(940.1744, grad_fn=<PowBackward0>)\n",
      "tensor(935.0563, grad_fn=<PowBackward0>)\n",
      "tensor(929.9393, grad_fn=<PowBackward0>)\n",
      "tensor(924.8240, grad_fn=<PowBackward0>)\n",
      "tensor(919.7114, grad_fn=<PowBackward0>)\n",
      "tensor(914.6021, grad_fn=<PowBackward0>)\n",
      "tensor(909.4969, grad_fn=<PowBackward0>)\n",
      "tensor(904.3964, grad_fn=<PowBackward0>)\n",
      "tensor(899.3016, grad_fn=<PowBackward0>)\n",
      "tensor(894.2130, grad_fn=<PowBackward0>)\n",
      "tensor(889.1312, grad_fn=<PowBackward0>)\n",
      "tensor(884.0571, grad_fn=<PowBackward0>)\n",
      "tensor(878.9913, grad_fn=<PowBackward0>)\n",
      "tensor(873.9343, grad_fn=<PowBackward0>)\n",
      "tensor(868.8868, grad_fn=<PowBackward0>)\n",
      "tensor(863.8497, grad_fn=<PowBackward0>)\n",
      "tensor(858.8232, grad_fn=<PowBackward0>)\n",
      "tensor(853.8082, grad_fn=<PowBackward0>)\n",
      "tensor(848.8052, grad_fn=<PowBackward0>)\n",
      "tensor(843.8146, grad_fn=<PowBackward0>)\n",
      "tensor(838.8372, grad_fn=<PowBackward0>)\n",
      "tensor(833.8735, grad_fn=<PowBackward0>)\n",
      "tensor(828.9240, grad_fn=<PowBackward0>)\n",
      "tensor(823.9893, grad_fn=<PowBackward0>)\n",
      "tensor(819.0698, grad_fn=<PowBackward0>)\n",
      "tensor(814.1661, grad_fn=<PowBackward0>)\n",
      "tensor(809.2787, grad_fn=<PowBackward0>)\n",
      "tensor(804.4081, grad_fn=<PowBackward0>)\n",
      "tensor(799.5547, grad_fn=<PowBackward0>)\n",
      "tensor(794.7190, grad_fn=<PowBackward0>)\n",
      "tensor(789.9014, grad_fn=<PowBackward0>)\n",
      "tensor(785.1025, grad_fn=<PowBackward0>)\n",
      "tensor(780.3226, grad_fn=<PowBackward0>)\n",
      "tensor(775.5620, grad_fn=<PowBackward0>)\n",
      "tensor(770.8203, grad_fn=<PowBackward0>)\n",
      "tensor(766.0967, grad_fn=<PowBackward0>)\n",
      "tensor(761.3911, grad_fn=<PowBackward0>)\n",
      "tensor(756.7026, grad_fn=<PowBackward0>)\n",
      "tensor(752.0311, grad_fn=<PowBackward0>)\n",
      "tensor(747.3760, grad_fn=<PowBackward0>)\n",
      "tensor(742.7369, grad_fn=<PowBackward0>)\n",
      "tensor(738.1134, grad_fn=<PowBackward0>)\n",
      "tensor(733.5052, grad_fn=<PowBackward0>)\n",
      "tensor(728.9119, grad_fn=<PowBackward0>)\n",
      "tensor(724.3331, grad_fn=<PowBackward0>)\n",
      "tensor(719.7685, grad_fn=<PowBackward0>)\n",
      "tensor(715.2174, grad_fn=<PowBackward0>)\n",
      "tensor(710.6791, grad_fn=<PowBackward0>)\n",
      "tensor(706.1528, grad_fn=<PowBackward0>)\n",
      "tensor(701.6380, grad_fn=<PowBackward0>)\n",
      "tensor(697.1338, grad_fn=<PowBackward0>)\n",
      "tensor(692.6396, grad_fn=<PowBackward0>)\n",
      "tensor(688.1549, grad_fn=<PowBackward0>)\n",
      "tensor(683.6790, grad_fn=<PowBackward0>)\n",
      "tensor(679.2114, grad_fn=<PowBackward0>)\n",
      "tensor(674.7515, grad_fn=<PowBackward0>)\n",
      "tensor(670.2989, grad_fn=<PowBackward0>)\n",
      "tensor(665.8529, grad_fn=<PowBackward0>)\n",
      "tensor(661.4132, grad_fn=<PowBackward0>)\n",
      "tensor(656.9793, grad_fn=<PowBackward0>)\n",
      "tensor(652.5508, grad_fn=<PowBackward0>)\n",
      "tensor(648.1272, grad_fn=<PowBackward0>)\n",
      "tensor(643.7082, grad_fn=<PowBackward0>)\n",
      "tensor(639.2933, grad_fn=<PowBackward0>)\n",
      "tensor(634.8822, grad_fn=<PowBackward0>)\n",
      "tensor(630.4744, grad_fn=<PowBackward0>)\n",
      "tensor(626.0699, grad_fn=<PowBackward0>)\n",
      "tensor(621.6681, grad_fn=<PowBackward0>)\n",
      "tensor(617.2688, grad_fn=<PowBackward0>)\n",
      "tensor(612.8741, grad_fn=<PowBackward0>)\n",
      "tensor(608.4862, grad_fn=<PowBackward0>)\n",
      "tensor(604.1071, grad_fn=<PowBackward0>)\n",
      "tensor(599.7388, grad_fn=<PowBackward0>)\n",
      "tensor(595.3834, grad_fn=<PowBackward0>)\n",
      "tensor(591.0413, grad_fn=<PowBackward0>)\n",
      "tensor(586.7132, grad_fn=<PowBackward0>)\n",
      "tensor(582.3998, grad_fn=<PowBackward0>)\n",
      "tensor(578.1017, grad_fn=<PowBackward0>)\n",
      "tensor(573.8195, grad_fn=<PowBackward0>)\n",
      "tensor(569.5538, grad_fn=<PowBackward0>)\n",
      "tensor(565.3051, grad_fn=<PowBackward0>)\n",
      "tensor(561.0740, grad_fn=<PowBackward0>)\n",
      "tensor(556.8608, grad_fn=<PowBackward0>)\n",
      "tensor(552.6663, grad_fn=<PowBackward0>)\n",
      "tensor(548.4903, grad_fn=<PowBackward0>)\n",
      "tensor(544.3320, grad_fn=<PowBackward0>)\n",
      "tensor(540.1909, grad_fn=<PowBackward0>)\n",
      "tensor(536.0662, grad_fn=<PowBackward0>)\n",
      "tensor(531.9573, grad_fn=<PowBackward0>)\n",
      "tensor(527.8637, grad_fn=<PowBackward0>)\n",
      "tensor(523.7848, grad_fn=<PowBackward0>)\n",
      "tensor(519.7201, grad_fn=<PowBackward0>)\n",
      "tensor(515.6692, grad_fn=<PowBackward0>)\n",
      "tensor(511.6320, grad_fn=<PowBackward0>)\n",
      "tensor(507.6083, grad_fn=<PowBackward0>)\n",
      "tensor(503.5991, grad_fn=<PowBackward0>)\n",
      "tensor(499.6051, grad_fn=<PowBackward0>)\n",
      "tensor(495.6274, grad_fn=<PowBackward0>)\n",
      "tensor(491.6667, grad_fn=<PowBackward0>)\n",
      "tensor(487.7240, grad_fn=<PowBackward0>)\n",
      "tensor(483.8000, grad_fn=<PowBackward0>)\n",
      "tensor(479.8956, grad_fn=<PowBackward0>)\n",
      "tensor(476.0117, grad_fn=<PowBackward0>)\n",
      "tensor(472.1490, grad_fn=<PowBackward0>)\n",
      "tensor(468.3082, grad_fn=<PowBackward0>)\n",
      "tensor(464.4904, grad_fn=<PowBackward0>)\n",
      "tensor(460.6961, grad_fn=<PowBackward0>)\n",
      "tensor(456.9261, grad_fn=<PowBackward0>)\n",
      "tensor(453.1814, grad_fn=<PowBackward0>)\n",
      "tensor(449.4624, grad_fn=<PowBackward0>)\n",
      "tensor(445.7700, grad_fn=<PowBackward0>)\n",
      "tensor(442.1048, grad_fn=<PowBackward0>)\n",
      "tensor(438.4677, grad_fn=<PowBackward0>)\n",
      "tensor(434.8591, grad_fn=<PowBackward0>)\n",
      "tensor(431.2799, grad_fn=<PowBackward0>)\n",
      "tensor(427.7307, grad_fn=<PowBackward0>)\n",
      "tensor(424.2120, grad_fn=<PowBackward0>)\n",
      "tensor(420.7246, grad_fn=<PowBackward0>)\n",
      "tensor(417.2691, grad_fn=<PowBackward0>)\n",
      "tensor(413.8460, grad_fn=<PowBackward0>)\n",
      "tensor(410.4560, grad_fn=<PowBackward0>)\n",
      "tensor(407.0997, grad_fn=<PowBackward0>)\n",
      "tensor(403.7774, grad_fn=<PowBackward0>)\n",
      "tensor(400.4900, grad_fn=<PowBackward0>)\n",
      "tensor(397.2378, grad_fn=<PowBackward0>)\n",
      "tensor(394.0213, grad_fn=<PowBackward0>)\n",
      "tensor(390.8412, grad_fn=<PowBackward0>)\n",
      "tensor(387.6978, grad_fn=<PowBackward0>)\n",
      "tensor(384.5917, grad_fn=<PowBackward0>)\n",
      "tensor(381.5233, grad_fn=<PowBackward0>)\n",
      "tensor(378.4928, grad_fn=<PowBackward0>)\n",
      "tensor(375.5002, grad_fn=<PowBackward0>)\n",
      "tensor(372.5454, grad_fn=<PowBackward0>)\n",
      "tensor(369.6286, grad_fn=<PowBackward0>)\n",
      "tensor(366.7497, grad_fn=<PowBackward0>)\n",
      "tensor(363.9086, grad_fn=<PowBackward0>)\n",
      "tensor(361.1054, grad_fn=<PowBackward0>)\n",
      "tensor(358.3404, grad_fn=<PowBackward0>)\n",
      "tensor(355.6138, grad_fn=<PowBackward0>)\n",
      "tensor(352.9258, grad_fn=<PowBackward0>)\n",
      "tensor(350.2769, grad_fn=<PowBackward0>)\n",
      "tensor(347.6670, grad_fn=<PowBackward0>)\n",
      "tensor(345.0966, grad_fn=<PowBackward0>)\n",
      "tensor(342.5658, grad_fn=<PowBackward0>)\n",
      "tensor(340.0749, grad_fn=<PowBackward0>)\n",
      "tensor(337.6240, grad_fn=<PowBackward0>)\n",
      "tensor(335.2134, grad_fn=<PowBackward0>)\n",
      "tensor(332.8433, grad_fn=<PowBackward0>)\n",
      "tensor(330.5138, grad_fn=<PowBackward0>)\n",
      "tensor(328.2252, grad_fn=<PowBackward0>)\n",
      "tensor(325.9773, grad_fn=<PowBackward0>)\n",
      "tensor(323.7700, grad_fn=<PowBackward0>)\n",
      "tensor(321.6031, grad_fn=<PowBackward0>)\n",
      "tensor(319.4766, grad_fn=<PowBackward0>)\n",
      "tensor(317.3902, grad_fn=<PowBackward0>)\n",
      "tensor(315.3438, grad_fn=<PowBackward0>)\n",
      "tensor(313.3373, grad_fn=<PowBackward0>)\n",
      "tensor(311.3706, grad_fn=<PowBackward0>)\n",
      "tensor(309.4433, grad_fn=<PowBackward0>)\n",
      "tensor(307.5553, grad_fn=<PowBackward0>)\n",
      "tensor(305.7065, grad_fn=<PowBackward0>)\n",
      "tensor(303.8966, grad_fn=<PowBackward0>)\n",
      "tensor(302.1255, grad_fn=<PowBackward0>)\n",
      "tensor(300.3928, grad_fn=<PowBackward0>)\n",
      "tensor(298.6985, grad_fn=<PowBackward0>)\n",
      "tensor(297.0421, grad_fn=<PowBackward0>)\n",
      "tensor(295.4237, grad_fn=<PowBackward0>)\n",
      "tensor(293.8427, grad_fn=<PowBackward0>)\n",
      "tensor(292.2991, grad_fn=<PowBackward0>)\n",
      "tensor(290.7926, grad_fn=<PowBackward0>)\n",
      "tensor(289.3228, grad_fn=<PowBackward0>)\n",
      "tensor(287.8896, grad_fn=<PowBackward0>)\n",
      "tensor(286.4926, grad_fn=<PowBackward0>)\n",
      "tensor(285.1313, grad_fn=<PowBackward0>)\n",
      "tensor(283.8048, grad_fn=<PowBackward0>)\n",
      "tensor(282.5124, grad_fn=<PowBackward0>)\n",
      "tensor(281.2531, grad_fn=<PowBackward0>)\n",
      "tensor(280.0262, grad_fn=<PowBackward0>)\n",
      "tensor(278.8308, grad_fn=<PowBackward0>)\n",
      "tensor(277.6664, grad_fn=<PowBackward0>)\n",
      "tensor(276.5326, grad_fn=<PowBackward0>)\n",
      "tensor(275.4290, grad_fn=<PowBackward0>)\n",
      "tensor(274.3553, grad_fn=<PowBackward0>)\n",
      "tensor(273.3113, grad_fn=<PowBackward0>)\n",
      "tensor(272.2966, grad_fn=<PowBackward0>)\n",
      "tensor(271.3110, grad_fn=<PowBackward0>)\n",
      "tensor(270.3541, grad_fn=<PowBackward0>)\n",
      "tensor(269.4257, grad_fn=<PowBackward0>)\n",
      "tensor(268.5254, grad_fn=<PowBackward0>)\n",
      "tensor(267.6530, grad_fn=<PowBackward0>)\n",
      "tensor(266.8083, grad_fn=<PowBackward0>)\n",
      "tensor(265.9909, grad_fn=<PowBackward0>)\n",
      "tensor(265.2007, grad_fn=<PowBackward0>)\n",
      "tensor(264.4372, grad_fn=<PowBackward0>)\n",
      "tensor(263.7004, grad_fn=<PowBackward0>)\n",
      "tensor(262.9899, grad_fn=<PowBackward0>)\n",
      "tensor(262.3055, grad_fn=<PowBackward0>)\n",
      "tensor(261.6469, grad_fn=<PowBackward0>)\n",
      "tensor(261.0139, grad_fn=<PowBackward0>)\n",
      "tensor(260.4063, grad_fn=<PowBackward0>)\n",
      "tensor(259.8239, grad_fn=<PowBackward0>)\n",
      "tensor(259.2664, grad_fn=<PowBackward0>)\n",
      "tensor(258.7336, grad_fn=<PowBackward0>)\n",
      "tensor(258.2252, grad_fn=<PowBackward0>)\n",
      "tensor(257.7411, grad_fn=<PowBackward0>)\n",
      "tensor(257.2810, grad_fn=<PowBackward0>)\n",
      "tensor(256.8448, grad_fn=<PowBackward0>)\n",
      "tensor(256.4322, grad_fn=<PowBackward0>)\n",
      "tensor(256.0430, grad_fn=<PowBackward0>)\n",
      "tensor(255.6771, grad_fn=<PowBackward0>)\n",
      "tensor(255.3341, grad_fn=<PowBackward0>)\n",
      "tensor(255.0140, grad_fn=<PowBackward0>)\n",
      "tensor(254.7165, grad_fn=<PowBackward0>)\n",
      "tensor(254.4415, grad_fn=<PowBackward0>)\n",
      "tensor(254.1887, grad_fn=<PowBackward0>)\n",
      "tensor(253.9579, grad_fn=<PowBackward0>)\n",
      "tensor(253.7490, grad_fn=<PowBackward0>)\n",
      "tensor(253.5618, grad_fn=<PowBackward0>)\n",
      "tensor(253.3961, grad_fn=<PowBackward0>)\n",
      "tensor(253.2518, grad_fn=<PowBackward0>)\n",
      "tensor(253.1286, grad_fn=<PowBackward0>)\n",
      "tensor(253.0263, grad_fn=<PowBackward0>)\n",
      "tensor(252.9449, grad_fn=<PowBackward0>)\n",
      "tensor(252.8841, grad_fn=<PowBackward0>)\n",
      "tensor(252.8437, grad_fn=<PowBackward0>)\n",
      "tensor(252.8236, grad_fn=<PowBackward0>)\n",
      "tensor(252.8234, grad_fn=<PowBackward0>)\n",
      "tensor(252.8427, grad_fn=<PowBackward0>)\n",
      "tensor(252.8808, grad_fn=<PowBackward0>)\n"
     ]
    },
    {
     "name": "stdout",
     "output_type": "stream",
     "text": [
      "tensor(252.9375, grad_fn=<PowBackward0>)\n",
      "tensor(253.0122, grad_fn=<PowBackward0>)\n",
      "tensor(253.1044, grad_fn=<PowBackward0>)\n",
      "tensor(253.2139, grad_fn=<PowBackward0>)\n",
      "tensor(253.3400, grad_fn=<PowBackward0>)\n",
      "tensor(253.4824, grad_fn=<PowBackward0>)\n",
      "tensor(253.6407, grad_fn=<PowBackward0>)\n",
      "tensor(253.8144, grad_fn=<PowBackward0>)\n",
      "tensor(254.0032, grad_fn=<PowBackward0>)\n",
      "tensor(254.2066, grad_fn=<PowBackward0>)\n",
      "tensor(254.4242, grad_fn=<PowBackward0>)\n",
      "tensor(254.6557, grad_fn=<PowBackward0>)\n",
      "tensor(254.9007, grad_fn=<PowBackward0>)\n",
      "tensor(255.1587, grad_fn=<PowBackward0>)\n",
      "tensor(255.4294, grad_fn=<PowBackward0>)\n",
      "tensor(255.7125, grad_fn=<PowBackward0>)\n",
      "tensor(256.0075, grad_fn=<PowBackward0>)\n",
      "tensor(256.3141, grad_fn=<PowBackward0>)\n",
      "tensor(256.6319, grad_fn=<PowBackward0>)\n",
      "tensor(256.9606, grad_fn=<PowBackward0>)\n",
      "tensor(257.2999, grad_fn=<PowBackward0>)\n",
      "tensor(257.6493, grad_fn=<PowBackward0>)\n",
      "tensor(258.0086, grad_fn=<PowBackward0>)\n",
      "tensor(258.3775, grad_fn=<PowBackward0>)\n",
      "tensor(258.7555, grad_fn=<PowBackward0>)\n",
      "tensor(259.1424, grad_fn=<PowBackward0>)\n",
      "tensor(259.5378, grad_fn=<PowBackward0>)\n",
      "tensor(259.9414, grad_fn=<PowBackward0>)\n",
      "tensor(260.3529, grad_fn=<PowBackward0>)\n",
      "tensor(260.7721, grad_fn=<PowBackward0>)\n",
      "tensor(261.1985, grad_fn=<PowBackward0>)\n",
      "tensor(261.6319, grad_fn=<PowBackward0>)\n",
      "tensor(262.0721, grad_fn=<PowBackward0>)\n",
      "tensor(262.5186, grad_fn=<PowBackward0>)\n",
      "tensor(262.9713, grad_fn=<PowBackward0>)\n",
      "tensor(263.4297, grad_fn=<PowBackward0>)\n",
      "tensor(263.8937, grad_fn=<PowBackward0>)\n",
      "tensor(264.3629, grad_fn=<PowBackward0>)\n",
      "tensor(264.8372, grad_fn=<PowBackward0>)\n",
      "tensor(265.3161, grad_fn=<PowBackward0>)\n",
      "tensor(265.7995, grad_fn=<PowBackward0>)\n",
      "tensor(266.2871, grad_fn=<PowBackward0>)\n",
      "tensor(266.7786, grad_fn=<PowBackward0>)\n",
      "tensor(267.2737, grad_fn=<PowBackward0>)\n",
      "tensor(267.7722, grad_fn=<PowBackward0>)\n",
      "tensor(268.2739, grad_fn=<PowBackward0>)\n",
      "tensor(268.7785, grad_fn=<PowBackward0>)\n",
      "tensor(269.2857, grad_fn=<PowBackward0>)\n",
      "tensor(269.7953, grad_fn=<PowBackward0>)\n",
      "tensor(270.3071, grad_fn=<PowBackward0>)\n",
      "tensor(270.8208, grad_fn=<PowBackward0>)\n",
      "tensor(271.3362, grad_fn=<PowBackward0>)\n",
      "tensor(271.8531, grad_fn=<PowBackward0>)\n",
      "tensor(272.3712, grad_fn=<PowBackward0>)\n",
      "tensor(272.8904, grad_fn=<PowBackward0>)\n",
      "tensor(273.4102, grad_fn=<PowBackward0>)\n",
      "tensor(273.9307, grad_fn=<PowBackward0>)\n",
      "tensor(274.4516, grad_fn=<PowBackward0>)\n",
      "tensor(274.9725, grad_fn=<PowBackward0>)\n",
      "tensor(275.4933, grad_fn=<PowBackward0>)\n",
      "tensor(276.0139, grad_fn=<PowBackward0>)\n",
      "tensor(276.5340, grad_fn=<PowBackward0>)\n",
      "tensor(277.0534, grad_fn=<PowBackward0>)\n",
      "tensor(277.5719, grad_fn=<PowBackward0>)\n",
      "tensor(278.0892, grad_fn=<PowBackward0>)\n",
      "tensor(278.6054, grad_fn=<PowBackward0>)\n",
      "tensor(279.1204, grad_fn=<PowBackward0>)\n",
      "tensor(279.6344, grad_fn=<PowBackward0>)\n",
      "tensor(280.1476, grad_fn=<PowBackward0>)\n",
      "tensor(280.6598, grad_fn=<PowBackward0>)\n",
      "tensor(281.1713, grad_fn=<PowBackward0>)\n",
      "tensor(281.6821, grad_fn=<PowBackward0>)\n",
      "tensor(282.1924, grad_fn=<PowBackward0>)\n",
      "tensor(282.7021, grad_fn=<PowBackward0>)\n",
      "tensor(283.2113, grad_fn=<PowBackward0>)\n",
      "tensor(283.7202, grad_fn=<PowBackward0>)\n",
      "tensor(284.2288, grad_fn=<PowBackward0>)\n",
      "tensor(284.7372, grad_fn=<PowBackward0>)\n",
      "tensor(285.2454, grad_fn=<PowBackward0>)\n",
      "tensor(285.7534, grad_fn=<PowBackward0>)\n",
      "tensor(286.2615, grad_fn=<PowBackward0>)\n",
      "tensor(286.7695, grad_fn=<PowBackward0>)\n",
      "tensor(287.2776, grad_fn=<PowBackward0>)\n",
      "tensor(287.7858, grad_fn=<PowBackward0>)\n",
      "tensor(288.2941, grad_fn=<PowBackward0>)\n",
      "tensor(288.8027, grad_fn=<PowBackward0>)\n",
      "tensor(289.3116, grad_fn=<PowBackward0>)\n",
      "tensor(289.8207, grad_fn=<PowBackward0>)\n",
      "tensor(290.3302, grad_fn=<PowBackward0>)\n",
      "tensor(290.8401, grad_fn=<PowBackward0>)\n",
      "tensor(291.3504, grad_fn=<PowBackward0>)\n",
      "tensor(291.8611, grad_fn=<PowBackward0>)\n",
      "tensor(292.3724, grad_fn=<PowBackward0>)\n",
      "tensor(292.8842, grad_fn=<PowBackward0>)\n",
      "tensor(293.3966, grad_fn=<PowBackward0>)\n",
      "tensor(293.9096, grad_fn=<PowBackward0>)\n",
      "tensor(294.4232, grad_fn=<PowBackward0>)\n",
      "tensor(294.9376, grad_fn=<PowBackward0>)\n",
      "tensor(295.4525, grad_fn=<PowBackward0>)\n",
      "tensor(295.9682, grad_fn=<PowBackward0>)\n",
      "tensor(296.4846, grad_fn=<PowBackward0>)\n",
      "tensor(297.0018, grad_fn=<PowBackward0>)\n",
      "tensor(297.5198, grad_fn=<PowBackward0>)\n",
      "tensor(298.0386, grad_fn=<PowBackward0>)\n",
      "tensor(298.5582, grad_fn=<PowBackward0>)\n",
      "tensor(299.0786, grad_fn=<PowBackward0>)\n",
      "tensor(299.6000, grad_fn=<PowBackward0>)\n",
      "tensor(300.1224, grad_fn=<PowBackward0>)\n",
      "tensor(300.6458, grad_fn=<PowBackward0>)\n",
      "tensor(301.1703, grad_fn=<PowBackward0>)\n",
      "tensor(301.6961, grad_fn=<PowBackward0>)\n",
      "tensor(302.2232, grad_fn=<PowBackward0>)\n",
      "tensor(302.7516, grad_fn=<PowBackward0>)\n",
      "tensor(303.2814, grad_fn=<PowBackward0>)\n",
      "tensor(303.8127, grad_fn=<PowBackward0>)\n",
      "tensor(304.3455, grad_fn=<PowBackward0>)\n",
      "tensor(304.8799, grad_fn=<PowBackward0>)\n",
      "tensor(305.4158, grad_fn=<PowBackward0>)\n",
      "tensor(305.9535, grad_fn=<PowBackward0>)\n",
      "tensor(306.4929, grad_fn=<PowBackward0>)\n",
      "tensor(307.0341, grad_fn=<PowBackward0>)\n",
      "tensor(307.5770, grad_fn=<PowBackward0>)\n",
      "tensor(308.1218, grad_fn=<PowBackward0>)\n",
      "tensor(308.6684, grad_fn=<PowBackward0>)\n",
      "tensor(309.2170, grad_fn=<PowBackward0>)\n",
      "tensor(309.7674, grad_fn=<PowBackward0>)\n",
      "tensor(310.3199, grad_fn=<PowBackward0>)\n",
      "tensor(310.8743, grad_fn=<PowBackward0>)\n",
      "tensor(311.4308, grad_fn=<PowBackward0>)\n",
      "tensor(311.9893, grad_fn=<PowBackward0>)\n",
      "tensor(312.5498, grad_fn=<PowBackward0>)\n",
      "tensor(313.1124, grad_fn=<PowBackward0>)\n",
      "tensor(313.6772, grad_fn=<PowBackward0>)\n",
      "tensor(314.2440, grad_fn=<PowBackward0>)\n",
      "tensor(314.8130, grad_fn=<PowBackward0>)\n",
      "tensor(315.3842, grad_fn=<PowBackward0>)\n",
      "tensor(315.9574, grad_fn=<PowBackward0>)\n",
      "tensor(316.5329, grad_fn=<PowBackward0>)\n",
      "tensor(317.1105, grad_fn=<PowBackward0>)\n",
      "tensor(317.6903, grad_fn=<PowBackward0>)\n",
      "tensor(318.2723, grad_fn=<PowBackward0>)\n",
      "tensor(318.8565, grad_fn=<PowBackward0>)\n",
      "tensor(319.4430, grad_fn=<PowBackward0>)\n",
      "tensor(320.0316, grad_fn=<PowBackward0>)\n",
      "tensor(320.6225, grad_fn=<PowBackward0>)\n",
      "tensor(321.2156, grad_fn=<PowBackward0>)\n",
      "tensor(321.8109, grad_fn=<PowBackward0>)\n",
      "tensor(322.4084, grad_fn=<PowBackward0>)\n",
      "tensor(323.0081, grad_fn=<PowBackward0>)\n",
      "tensor(323.6101, grad_fn=<PowBackward0>)\n",
      "tensor(324.2144, grad_fn=<PowBackward0>)\n",
      "tensor(324.8208, grad_fn=<PowBackward0>)\n",
      "tensor(325.4294, grad_fn=<PowBackward0>)\n",
      "tensor(326.0403, grad_fn=<PowBackward0>)\n",
      "tensor(326.6534, grad_fn=<PowBackward0>)\n",
      "tensor(327.2687, grad_fn=<PowBackward0>)\n",
      "tensor(327.8863, grad_fn=<PowBackward0>)\n",
      "tensor(328.5060, grad_fn=<PowBackward0>)\n",
      "tensor(329.1280, grad_fn=<PowBackward0>)\n",
      "tensor(329.7521, grad_fn=<PowBackward0>)\n",
      "tensor(330.3785, grad_fn=<PowBackward0>)\n",
      "tensor(331.0070, grad_fn=<PowBackward0>)\n",
      "tensor(331.6377, grad_fn=<PowBackward0>)\n",
      "tensor(332.2706, grad_fn=<PowBackward0>)\n",
      "tensor(332.9057, grad_fn=<PowBackward0>)\n",
      "tensor(333.5429, grad_fn=<PowBackward0>)\n",
      "tensor(334.1823, grad_fn=<PowBackward0>)\n",
      "tensor(334.8239, grad_fn=<PowBackward0>)\n",
      "tensor(335.4677, grad_fn=<PowBackward0>)\n",
      "tensor(336.1135, grad_fn=<PowBackward0>)\n",
      "tensor(336.7615, grad_fn=<PowBackward0>)\n",
      "tensor(337.4116, grad_fn=<PowBackward0>)\n",
      "tensor(338.0639, grad_fn=<PowBackward0>)\n",
      "tensor(338.7182, grad_fn=<PowBackward0>)\n",
      "tensor(339.3747, grad_fn=<PowBackward0>)\n",
      "tensor(340.0333, grad_fn=<PowBackward0>)\n",
      "tensor(340.6940, grad_fn=<PowBackward0>)\n",
      "tensor(341.3570, grad_fn=<PowBackward0>)\n",
      "tensor(342.0222, grad_fn=<PowBackward0>)\n",
      "tensor(342.6897, grad_fn=<PowBackward0>)\n",
      "tensor(343.3596, grad_fn=<PowBackward0>)\n",
      "tensor(344.0318, grad_fn=<PowBackward0>)\n",
      "tensor(344.7065, grad_fn=<PowBackward0>)\n",
      "tensor(345.3835, grad_fn=<PowBackward0>)\n",
      "tensor(346.0631, grad_fn=<PowBackward0>)\n",
      "tensor(346.7452, grad_fn=<PowBackward0>)\n",
      "tensor(347.4298, grad_fn=<PowBackward0>)\n",
      "tensor(348.1170, grad_fn=<PowBackward0>)\n",
      "tensor(348.8067, grad_fn=<PowBackward0>)\n",
      "tensor(349.4990, grad_fn=<PowBackward0>)\n",
      "tensor(350.1939, grad_fn=<PowBackward0>)\n",
      "tensor(350.8914, grad_fn=<PowBackward0>)\n",
      "tensor(351.5916, grad_fn=<PowBackward0>)\n",
      "tensor(352.2944, grad_fn=<PowBackward0>)\n",
      "tensor(352.9998, grad_fn=<PowBackward0>)\n",
      "tensor(353.7079, grad_fn=<PowBackward0>)\n",
      "tensor(354.4186, grad_fn=<PowBackward0>)\n",
      "tensor(355.1320, grad_fn=<PowBackward0>)\n",
      "tensor(355.8481, grad_fn=<PowBackward0>)\n",
      "tensor(356.5669, grad_fn=<PowBackward0>)\n",
      "tensor(357.2883, grad_fn=<PowBackward0>)\n",
      "tensor(358.0124, grad_fn=<PowBackward0>)\n",
      "tensor(358.7391, grad_fn=<PowBackward0>)\n",
      "tensor(359.4685, grad_fn=<PowBackward0>)\n",
      "tensor(360.2005, grad_fn=<PowBackward0>)\n",
      "tensor(360.9352, grad_fn=<PowBackward0>)\n",
      "tensor(361.6726, grad_fn=<PowBackward0>)\n",
      "tensor(362.4125, grad_fn=<PowBackward0>)\n",
      "tensor(363.1551, grad_fn=<PowBackward0>)\n",
      "tensor(363.9004, grad_fn=<PowBackward0>)\n",
      "tensor(364.6482, grad_fn=<PowBackward0>)\n",
      "tensor(365.3986, grad_fn=<PowBackward0>)\n",
      "tensor(366.1516, grad_fn=<PowBackward0>)\n",
      "tensor(366.9072, grad_fn=<PowBackward0>)\n",
      "tensor(367.6653, grad_fn=<PowBackward0>)\n",
      "tensor(368.4260, grad_fn=<PowBackward0>)\n",
      "tensor(369.1893, grad_fn=<PowBackward0>)\n"
     ]
    },
    {
     "name": "stdout",
     "output_type": "stream",
     "text": [
      "tensor(369.9551, grad_fn=<PowBackward0>)\n",
      "tensor(370.7234, grad_fn=<PowBackward0>)\n",
      "tensor(371.4941, grad_fn=<PowBackward0>)\n",
      "tensor(372.2674, grad_fn=<PowBackward0>)\n",
      "tensor(373.0432, grad_fn=<PowBackward0>)\n",
      "tensor(373.8214, grad_fn=<PowBackward0>)\n",
      "tensor(374.6020, grad_fn=<PowBackward0>)\n",
      "tensor(375.3851, grad_fn=<PowBackward0>)\n",
      "tensor(376.1706, grad_fn=<PowBackward0>)\n",
      "tensor(376.9584, grad_fn=<PowBackward0>)\n",
      "tensor(377.7487, grad_fn=<PowBackward0>)\n",
      "tensor(378.5413, grad_fn=<PowBackward0>)\n",
      "tensor(379.3363, grad_fn=<PowBackward0>)\n",
      "tensor(380.1336, grad_fn=<PowBackward0>)\n",
      "tensor(380.9333, grad_fn=<PowBackward0>)\n",
      "tensor(381.7352, grad_fn=<PowBackward0>)\n",
      "tensor(382.5395, grad_fn=<PowBackward0>)\n",
      "tensor(383.3460, grad_fn=<PowBackward0>)\n",
      "tensor(384.1548, grad_fn=<PowBackward0>)\n",
      "tensor(384.9659, grad_fn=<PowBackward0>)\n",
      "tensor(385.7792, grad_fn=<PowBackward0>)\n",
      "tensor(386.5946, grad_fn=<PowBackward0>)\n",
      "tensor(387.4124, grad_fn=<PowBackward0>)\n",
      "tensor(388.2323, grad_fn=<PowBackward0>)\n",
      "tensor(389.0544, grad_fn=<PowBackward0>)\n",
      "tensor(389.8787, grad_fn=<PowBackward0>)\n",
      "tensor(390.7050, grad_fn=<PowBackward0>)\n",
      "tensor(391.5336, grad_fn=<PowBackward0>)\n",
      "tensor(392.3643, grad_fn=<PowBackward0>)\n",
      "tensor(393.1972, grad_fn=<PowBackward0>)\n",
      "tensor(394.0321, grad_fn=<PowBackward0>)\n",
      "tensor(394.8692, grad_fn=<PowBackward0>)\n",
      "tensor(395.7083, grad_fn=<PowBackward0>)\n",
      "tensor(396.5495, grad_fn=<PowBackward0>)\n",
      "tensor(397.3928, grad_fn=<PowBackward0>)\n",
      "tensor(398.2381, grad_fn=<PowBackward0>)\n",
      "tensor(399.0855, grad_fn=<PowBackward0>)\n",
      "tensor(399.9349, grad_fn=<PowBackward0>)\n",
      "tensor(400.7863, grad_fn=<PowBackward0>)\n",
      "tensor(401.6398, grad_fn=<PowBackward0>)\n",
      "tensor(402.4953, grad_fn=<PowBackward0>)\n",
      "tensor(403.3528, grad_fn=<PowBackward0>)\n",
      "tensor(404.2123, grad_fn=<PowBackward0>)\n",
      "tensor(405.0738, grad_fn=<PowBackward0>)\n",
      "tensor(405.9373, grad_fn=<PowBackward0>)\n",
      "tensor(406.8028, grad_fn=<PowBackward0>)\n",
      "tensor(407.6703, grad_fn=<PowBackward0>)\n",
      "tensor(408.5397, grad_fn=<PowBackward0>)\n",
      "tensor(409.4111, grad_fn=<PowBackward0>)\n",
      "tensor(410.2845, grad_fn=<PowBackward0>)\n",
      "tensor(411.1599, grad_fn=<PowBackward0>)\n",
      "tensor(412.0372, grad_fn=<PowBackward0>)\n",
      "tensor(412.9164, grad_fn=<PowBackward0>)\n",
      "tensor(413.7977, grad_fn=<PowBackward0>)\n",
      "tensor(414.6808, grad_fn=<PowBackward0>)\n",
      "tensor(415.5660, grad_fn=<PowBackward0>)\n",
      "tensor(416.4531, grad_fn=<PowBackward0>)\n",
      "tensor(417.3421, grad_fn=<PowBackward0>)\n",
      "tensor(418.2331, grad_fn=<PowBackward0>)\n",
      "tensor(419.1260, grad_fn=<PowBackward0>)\n",
      "tensor(420.0209, grad_fn=<PowBackward0>)\n",
      "tensor(420.9178, grad_fn=<PowBackward0>)\n",
      "tensor(421.8166, grad_fn=<PowBackward0>)\n",
      "tensor(422.7173, grad_fn=<PowBackward0>)\n",
      "tensor(423.6201, grad_fn=<PowBackward0>)\n",
      "tensor(424.5247, grad_fn=<PowBackward0>)\n",
      "tensor(425.4314, grad_fn=<PowBackward0>)\n",
      "tensor(426.3401, grad_fn=<PowBackward0>)\n",
      "tensor(427.2507, grad_fn=<PowBackward0>)\n",
      "tensor(428.1633, grad_fn=<PowBackward0>)\n",
      "tensor(429.0779, grad_fn=<PowBackward0>)\n",
      "tensor(429.9944, grad_fn=<PowBackward0>)\n",
      "tensor(430.9130, grad_fn=<PowBackward0>)\n",
      "tensor(431.8336, grad_fn=<PowBackward0>)\n",
      "tensor(432.7562, grad_fn=<PowBackward0>)\n",
      "tensor(433.6808, grad_fn=<PowBackward0>)\n",
      "tensor(434.6075, grad_fn=<PowBackward0>)\n",
      "tensor(435.5361, grad_fn=<PowBackward0>)\n",
      "tensor(436.4668, grad_fn=<PowBackward0>)\n",
      "tensor(437.3996, grad_fn=<PowBackward0>)\n",
      "tensor(438.3344, grad_fn=<PowBackward0>)\n",
      "tensor(439.2712, grad_fn=<PowBackward0>)\n",
      "tensor(440.2102, grad_fn=<PowBackward0>)\n",
      "tensor(441.1513, grad_fn=<PowBackward0>)\n",
      "tensor(442.0944, grad_fn=<PowBackward0>)\n",
      "tensor(443.0397, grad_fn=<PowBackward0>)\n",
      "tensor(443.9870, grad_fn=<PowBackward0>)\n",
      "tensor(444.9365, grad_fn=<PowBackward0>)\n",
      "tensor(445.8882, grad_fn=<PowBackward0>)\n",
      "tensor(446.8419, grad_fn=<PowBackward0>)\n",
      "tensor(447.7979, grad_fn=<PowBackward0>)\n",
      "tensor(448.7560, grad_fn=<PowBackward0>)\n",
      "tensor(449.7163, grad_fn=<PowBackward0>)\n",
      "tensor(450.6788, grad_fn=<PowBackward0>)\n",
      "tensor(451.6435, grad_fn=<PowBackward0>)\n",
      "tensor(452.6105, grad_fn=<PowBackward0>)\n",
      "tensor(453.5797, grad_fn=<PowBackward0>)\n",
      "tensor(454.5511, grad_fn=<PowBackward0>)\n",
      "tensor(455.5248, grad_fn=<PowBackward0>)\n",
      "tensor(456.5008, grad_fn=<PowBackward0>)\n",
      "tensor(457.4791, grad_fn=<PowBackward0>)\n",
      "tensor(458.4597, grad_fn=<PowBackward0>)\n",
      "tensor(459.4427, grad_fn=<PowBackward0>)\n",
      "tensor(460.4280, grad_fn=<PowBackward0>)\n",
      "tensor(461.4156, grad_fn=<PowBackward0>)\n",
      "tensor(462.4056, grad_fn=<PowBackward0>)\n",
      "tensor(463.3980, grad_fn=<PowBackward0>)\n",
      "tensor(464.3928, grad_fn=<PowBackward0>)\n",
      "tensor(465.3900, grad_fn=<PowBackward0>)\n",
      "tensor(466.3896, grad_fn=<PowBackward0>)\n",
      "tensor(467.3918, grad_fn=<PowBackward0>)\n",
      "tensor(468.3964, grad_fn=<PowBackward0>)\n",
      "tensor(469.4034, grad_fn=<PowBackward0>)\n",
      "tensor(470.4130, grad_fn=<PowBackward0>)\n",
      "tensor(471.4251, grad_fn=<PowBackward0>)\n",
      "tensor(472.4397, grad_fn=<PowBackward0>)\n",
      "tensor(473.4568, grad_fn=<PowBackward0>)\n",
      "tensor(474.4766, grad_fn=<PowBackward0>)\n",
      "tensor(475.4990, grad_fn=<PowBackward0>)\n",
      "tensor(476.5239, grad_fn=<PowBackward0>)\n",
      "tensor(477.5515, grad_fn=<PowBackward0>)\n",
      "tensor(478.5817, grad_fn=<PowBackward0>)\n",
      "tensor(479.6146, grad_fn=<PowBackward0>)\n",
      "tensor(480.6502, grad_fn=<PowBackward0>)\n",
      "tensor(481.6884, grad_fn=<PowBackward0>)\n",
      "tensor(482.7294, grad_fn=<PowBackward0>)\n",
      "tensor(483.7731, grad_fn=<PowBackward0>)\n",
      "tensor(484.8195, grad_fn=<PowBackward0>)\n",
      "tensor(485.8688, grad_fn=<PowBackward0>)\n",
      "tensor(486.9208, grad_fn=<PowBackward0>)\n",
      "tensor(487.9756, grad_fn=<PowBackward0>)\n",
      "tensor(489.0333, grad_fn=<PowBackward0>)\n",
      "tensor(490.0938, grad_fn=<PowBackward0>)\n",
      "tensor(491.1572, grad_fn=<PowBackward0>)\n",
      "tensor(492.2234, grad_fn=<PowBackward0>)\n",
      "tensor(493.2926, grad_fn=<PowBackward0>)\n",
      "tensor(494.3647, grad_fn=<PowBackward0>)\n",
      "tensor(495.4397, grad_fn=<PowBackward0>)\n",
      "tensor(496.5177, grad_fn=<PowBackward0>)\n",
      "tensor(497.5987, grad_fn=<PowBackward0>)\n",
      "tensor(498.6826, grad_fn=<PowBackward0>)\n",
      "tensor(499.7696, grad_fn=<PowBackward0>)\n",
      "tensor(500.8596, grad_fn=<PowBackward0>)\n",
      "tensor(501.9527, grad_fn=<PowBackward0>)\n",
      "tensor(503.0488, grad_fn=<PowBackward0>)\n",
      "tensor(504.1481, grad_fn=<PowBackward0>)\n",
      "tensor(505.2505, grad_fn=<PowBackward0>)\n",
      "tensor(506.3559, grad_fn=<PowBackward0>)\n",
      "tensor(507.4646, grad_fn=<PowBackward0>)\n",
      "tensor(508.5764, grad_fn=<PowBackward0>)\n",
      "tensor(509.6914, grad_fn=<PowBackward0>)\n",
      "tensor(510.8097, grad_fn=<PowBackward0>)\n",
      "tensor(511.9311, grad_fn=<PowBackward0>)\n",
      "tensor(513.0558, grad_fn=<PowBackward0>)\n",
      "tensor(514.1837, grad_fn=<PowBackward0>)\n",
      "tensor(515.3150, grad_fn=<PowBackward0>)\n",
      "tensor(516.4495, grad_fn=<PowBackward0>)\n",
      "tensor(517.5874, grad_fn=<PowBackward0>)\n",
      "tensor(518.7286, grad_fn=<PowBackward0>)\n",
      "tensor(519.8732, grad_fn=<PowBackward0>)\n",
      "tensor(521.0212, grad_fn=<PowBackward0>)\n",
      "tensor(522.1725, grad_fn=<PowBackward0>)\n",
      "tensor(523.3273, grad_fn=<PowBackward0>)\n",
      "tensor(524.4855, grad_fn=<PowBackward0>)\n",
      "tensor(525.6472, grad_fn=<PowBackward0>)\n",
      "tensor(526.8123, grad_fn=<PowBackward0>)\n",
      "tensor(527.9810, grad_fn=<PowBackward0>)\n",
      "tensor(529.1531, grad_fn=<PowBackward0>)\n",
      "tensor(530.3288, grad_fn=<PowBackward0>)\n",
      "tensor(531.5080, grad_fn=<PowBackward0>)\n",
      "tensor(532.6909, grad_fn=<PowBackward0>)\n",
      "tensor(533.8772, grad_fn=<PowBackward0>)\n",
      "tensor(535.0672, grad_fn=<PowBackward0>)\n",
      "tensor(536.2608, grad_fn=<PowBackward0>)\n",
      "tensor(537.4580, grad_fn=<PowBackward0>)\n",
      "tensor(538.6588, grad_fn=<PowBackward0>)\n",
      "tensor(539.8632, grad_fn=<PowBackward0>)\n",
      "tensor(541.0709, grad_fn=<PowBackward0>)\n",
      "tensor(542.2818, grad_fn=<PowBackward0>)\n",
      "tensor(543.4958, grad_fn=<PowBackward0>)\n",
      "tensor(544.7130, grad_fn=<PowBackward0>)\n",
      "tensor(545.9328, grad_fn=<PowBackward0>)\n",
      "tensor(547.1555, grad_fn=<PowBackward0>)\n",
      "tensor(548.3807, grad_fn=<PowBackward0>)\n",
      "tensor(549.6085, grad_fn=<PowBackward0>)\n",
      "tensor(550.8385, grad_fn=<PowBackward0>)\n",
      "tensor(552.0707, grad_fn=<PowBackward0>)\n",
      "tensor(553.3051, grad_fn=<PowBackward0>)\n",
      "tensor(554.5413, grad_fn=<PowBackward0>)\n",
      "tensor(555.7793, grad_fn=<PowBackward0>)\n",
      "tensor(557.0190, grad_fn=<PowBackward0>)\n",
      "tensor(558.2601, grad_fn=<PowBackward0>)\n",
      "tensor(559.5026, grad_fn=<PowBackward0>)\n",
      "tensor(560.7463, grad_fn=<PowBackward0>)\n",
      "tensor(561.9910, grad_fn=<PowBackward0>)\n",
      "tensor(563.2366, grad_fn=<PowBackward0>)\n",
      "tensor(564.4830, grad_fn=<PowBackward0>)\n",
      "tensor(565.7300, grad_fn=<PowBackward0>)\n",
      "tensor(566.9776, grad_fn=<PowBackward0>)\n",
      "tensor(568.2253, grad_fn=<PowBackward0>)\n",
      "tensor(569.4731, grad_fn=<PowBackward0>)\n",
      "tensor(570.7208, grad_fn=<PowBackward0>)\n",
      "tensor(571.9683, grad_fn=<PowBackward0>)\n",
      "tensor(573.2153, grad_fn=<PowBackward0>)\n",
      "tensor(574.4617, grad_fn=<PowBackward0>)\n",
      "tensor(575.7073, grad_fn=<PowBackward0>)\n",
      "tensor(576.9521, grad_fn=<PowBackward0>)\n",
      "tensor(578.1957, grad_fn=<PowBackward0>)\n",
      "tensor(579.4382, grad_fn=<PowBackward0>)\n",
      "tensor(580.6793, grad_fn=<PowBackward0>)\n",
      "tensor(581.9189, grad_fn=<PowBackward0>)\n",
      "tensor(583.1569, grad_fn=<PowBackward0>)\n",
      "tensor(584.3930, grad_fn=<PowBackward0>)\n",
      "tensor(585.6273, grad_fn=<PowBackward0>)\n",
      "tensor(586.8594, grad_fn=<PowBackward0>)\n",
      "tensor(588.0895, grad_fn=<PowBackward0>)\n",
      "tensor(589.3173, grad_fn=<PowBackward0>)\n"
     ]
    },
    {
     "name": "stdout",
     "output_type": "stream",
     "text": [
      "tensor(590.5427, grad_fn=<PowBackward0>)\n",
      "tensor(591.7656, grad_fn=<PowBackward0>)\n",
      "tensor(592.9860, grad_fn=<PowBackward0>)\n",
      "tensor(594.2036, grad_fn=<PowBackward0>)\n",
      "tensor(595.4183, grad_fn=<PowBackward0>)\n",
      "tensor(596.6302, grad_fn=<PowBackward0>)\n",
      "tensor(597.8391, grad_fn=<PowBackward0>)\n",
      "tensor(599.0449, grad_fn=<PowBackward0>)\n",
      "tensor(600.2475, grad_fn=<PowBackward0>)\n",
      "tensor(601.4468, grad_fn=<PowBackward0>)\n",
      "tensor(602.6428, grad_fn=<PowBackward0>)\n",
      "tensor(603.8353, grad_fn=<PowBackward0>)\n",
      "tensor(605.0244, grad_fn=<PowBackward0>)\n",
      "tensor(606.2098, grad_fn=<PowBackward0>)\n",
      "tensor(607.3916, grad_fn=<PowBackward0>)\n",
      "tensor(608.5698, grad_fn=<PowBackward0>)\n",
      "tensor(609.7441, grad_fn=<PowBackward0>)\n",
      "tensor(610.9146, grad_fn=<PowBackward0>)\n",
      "tensor(612.0812, grad_fn=<PowBackward0>)\n",
      "tensor(613.2440, grad_fn=<PowBackward0>)\n",
      "tensor(614.4026, grad_fn=<PowBackward0>)\n",
      "tensor(615.5573, grad_fn=<PowBackward0>)\n",
      "tensor(616.7078, grad_fn=<PowBackward0>)\n",
      "tensor(617.8542, grad_fn=<PowBackward0>)\n",
      "tensor(618.9966, grad_fn=<PowBackward0>)\n",
      "tensor(620.1347, grad_fn=<PowBackward0>)\n",
      "tensor(621.2686, grad_fn=<PowBackward0>)\n",
      "tensor(622.3981, grad_fn=<PowBackward0>)\n",
      "tensor(623.5234, grad_fn=<PowBackward0>)\n",
      "tensor(624.6445, grad_fn=<PowBackward0>)\n",
      "tensor(625.7612, grad_fn=<PowBackward0>)\n",
      "tensor(626.8735, grad_fn=<PowBackward0>)\n",
      "tensor(627.9814, grad_fn=<PowBackward0>)\n",
      "tensor(629.0850, grad_fn=<PowBackward0>)\n",
      "tensor(630.1841, grad_fn=<PowBackward0>)\n",
      "tensor(631.2788, grad_fn=<PowBackward0>)\n",
      "tensor(632.3691, grad_fn=<PowBackward0>)\n",
      "tensor(633.4550, grad_fn=<PowBackward0>)\n",
      "tensor(634.5364, grad_fn=<PowBackward0>)\n",
      "tensor(635.6135, grad_fn=<PowBackward0>)\n",
      "tensor(636.6860, grad_fn=<PowBackward0>)\n",
      "tensor(637.7542, grad_fn=<PowBackward0>)\n",
      "tensor(638.8179, grad_fn=<PowBackward0>)\n",
      "tensor(639.8773, grad_fn=<PowBackward0>)\n",
      "tensor(640.9321, grad_fn=<PowBackward0>)\n",
      "tensor(641.9827, grad_fn=<PowBackward0>)\n",
      "tensor(643.0289, grad_fn=<PowBackward0>)\n",
      "tensor(644.0706, grad_fn=<PowBackward0>)\n",
      "tensor(645.1080, grad_fn=<PowBackward0>)\n",
      "tensor(646.1411, grad_fn=<PowBackward0>)\n",
      "tensor(647.1699, grad_fn=<PowBackward0>)\n",
      "tensor(648.1945, grad_fn=<PowBackward0>)\n",
      "tensor(649.2147, grad_fn=<PowBackward0>)\n",
      "tensor(650.2307, grad_fn=<PowBackward0>)\n",
      "tensor(651.2424, grad_fn=<PowBackward0>)\n",
      "tensor(652.2501, grad_fn=<PowBackward0>)\n",
      "tensor(653.2534, grad_fn=<PowBackward0>)\n",
      "tensor(654.2527, grad_fn=<PowBackward0>)\n",
      "tensor(655.2480, grad_fn=<PowBackward0>)\n",
      "tensor(656.2392, grad_fn=<PowBackward0>)\n",
      "tensor(657.2263, grad_fn=<PowBackward0>)\n",
      "tensor(658.2095, grad_fn=<PowBackward0>)\n",
      "tensor(659.1887, grad_fn=<PowBackward0>)\n",
      "tensor(660.1640, grad_fn=<PowBackward0>)\n",
      "tensor(661.1354, grad_fn=<PowBackward0>)\n",
      "tensor(662.1031, grad_fn=<PowBackward0>)\n",
      "tensor(663.0670, grad_fn=<PowBackward0>)\n",
      "tensor(664.0272, grad_fn=<PowBackward0>)\n",
      "tensor(664.9836, grad_fn=<PowBackward0>)\n",
      "tensor(665.9365, grad_fn=<PowBackward0>)\n",
      "tensor(666.8857, grad_fn=<PowBackward0>)\n",
      "tensor(667.8313, grad_fn=<PowBackward0>)\n",
      "tensor(668.7735, grad_fn=<PowBackward0>)\n",
      "tensor(669.7123, grad_fn=<PowBackward0>)\n",
      "tensor(670.6479, grad_fn=<PowBackward0>)\n",
      "tensor(671.5810, grad_fn=<PowBackward0>)\n",
      "tensor(672.5120, grad_fn=<PowBackward0>)\n",
      "tensor(673.4415, grad_fn=<PowBackward0>)\n",
      "tensor(674.3700, grad_fn=<PowBackward0>)\n",
      "tensor(675.2979, grad_fn=<PowBackward0>)\n",
      "tensor(676.2256, grad_fn=<PowBackward0>)\n",
      "tensor(677.1537, grad_fn=<PowBackward0>)\n",
      "tensor(678.0825, grad_fn=<PowBackward0>)\n",
      "tensor(679.0123, grad_fn=<PowBackward0>)\n",
      "tensor(679.9436, grad_fn=<PowBackward0>)\n",
      "tensor(680.8767, grad_fn=<PowBackward0>)\n",
      "tensor(681.8121, grad_fn=<PowBackward0>)\n",
      "tensor(682.7499, grad_fn=<PowBackward0>)\n",
      "t>1000\n",
      "landing failed\n",
      "tensor(69.6287, grad_fn=<AddBackward0>)\n"
     ]
    }
   ],
   "source": [
    "\n",
    "r = Rocket()\n",
    "print(forward_simulate_net(r, net, full_data))"
   ]
  },
  {
   "cell_type": "code",
   "execution_count": 394,
   "metadata": {},
   "outputs": [
    {
     "ename": "KeyboardInterrupt",
     "evalue": "",
     "output_type": "error",
     "traceback": [
      "\u001b[0;31m---------------------------------------------------------------------------\u001b[0m",
      "\u001b[0;31mKeyboardInterrupt\u001b[0m                         Traceback (most recent call last)",
      "\u001b[0;32m<ipython-input-394-188c1be97c87>\u001b[0m in \u001b[0;36m<module>\u001b[0;34m\u001b[0m\n\u001b[1;32m      1\u001b[0m \u001b[0mr\u001b[0m \u001b[0;34m=\u001b[0m \u001b[0mRocket\u001b[0m\u001b[0;34m(\u001b[0m\u001b[0;34m)\u001b[0m\u001b[0;34m\u001b[0m\u001b[0;34m\u001b[0m\u001b[0m\n\u001b[0;32m----> 2\u001b[0;31m \u001b[0mprint\u001b[0m\u001b[0;34m(\u001b[0m\u001b[0mforward_simulate_net\u001b[0m\u001b[0;34m(\u001b[0m\u001b[0mr\u001b[0m\u001b[0;34m,\u001b[0m \u001b[0mnet\u001b[0m\u001b[0;34m,\u001b[0m \u001b[0mfull_data\u001b[0m\u001b[0;34m)\u001b[0m\u001b[0;34m)\u001b[0m\u001b[0;34m\u001b[0m\u001b[0;34m\u001b[0m\u001b[0m\n\u001b[0m",
      "\u001b[0;32m<ipython-input-391-8522da96cc80>\u001b[0m in \u001b[0;36mforward_simulate_net\u001b[0;34m(rocket, model, dataset)\u001b[0m\n\u001b[1;32m     21\u001b[0m                 \u001b[0;32mbreak\u001b[0m\u001b[0;34m\u001b[0m\u001b[0;34m\u001b[0m\u001b[0m\n\u001b[1;32m     22\u001b[0m \u001b[0;34m\u001b[0m\u001b[0m\n\u001b[0;32m---> 23\u001b[0;31m             \u001b[0mstate\u001b[0m \u001b[0;34m=\u001b[0m \u001b[0mtensor_dynamics\u001b[0m\u001b[0;34m(\u001b[0m\u001b[0mstate\u001b[0m\u001b[0;34m)\u001b[0m \u001b[0;31m#updates state\u001b[0m\u001b[0;34m\u001b[0m\u001b[0;34m\u001b[0m\u001b[0m\n\u001b[0m\u001b[1;32m     24\u001b[0m \u001b[0;34m\u001b[0m\u001b[0m\n\u001b[1;32m     25\u001b[0m             \u001b[0;31m#check for landing\u001b[0m\u001b[0;34m\u001b[0m\u001b[0;34m\u001b[0m\u001b[0;34m\u001b[0m\u001b[0m\n",
      "\u001b[0;32m<ipython-input-342-215566dd439b>\u001b[0m in \u001b[0;36mtensor_dynamics\u001b[0;34m(state)\u001b[0m\n\u001b[1;32m      7\u001b[0m \u001b[0;34m\u001b[0m\u001b[0m\n\u001b[1;32m      8\u001b[0m     \u001b[0;31m#non dimensionalize\u001b[0m\u001b[0;34m\u001b[0m\u001b[0;34m\u001b[0m\u001b[0;34m\u001b[0m\u001b[0m\n\u001b[0;32m----> 9\u001b[0;31m     \u001b[0mn_state\u001b[0m \u001b[0;34m=\u001b[0m \u001b[0;34m(\u001b[0m\u001b[0mstate\u001b[0m \u001b[0;34m-\u001b[0m \u001b[0mtorch\u001b[0m\u001b[0;34m.\u001b[0m\u001b[0mtensor\u001b[0m\u001b[0;34m(\u001b[0m\u001b[0mfull_data\u001b[0m\u001b[0;34m.\u001b[0m\u001b[0ms_mean\u001b[0m\u001b[0;34m)\u001b[0m\u001b[0;34m)\u001b[0m\u001b[0;34m/\u001b[0m\u001b[0mtorch\u001b[0m\u001b[0;34m.\u001b[0m\u001b[0mtensor\u001b[0m\u001b[0;34m(\u001b[0m\u001b[0mfull_data\u001b[0m\u001b[0;34m.\u001b[0m\u001b[0ms_std\u001b[0m\u001b[0;34m)\u001b[0m\u001b[0;34m\u001b[0m\u001b[0;34m\u001b[0m\u001b[0m\n\u001b[0m\u001b[1;32m     10\u001b[0m \u001b[0;34m\u001b[0m\u001b[0m\n\u001b[1;32m     11\u001b[0m     \u001b[0;31m# predict using net\u001b[0m\u001b[0;34m\u001b[0m\u001b[0;34m\u001b[0m\u001b[0;34m\u001b[0m\u001b[0m\n",
      "\u001b[0;32m~/anaconda3/lib/python3.6/site-packages/pandas/core/base.py\u001b[0m in \u001b[0;36m__iter__\u001b[0;34m(self)\u001b[0m\n\u001b[1;32m   1126\u001b[0m         \u001b[0;32mif\u001b[0m \u001b[0mis_datetimelike\u001b[0m\u001b[0;34m(\u001b[0m\u001b[0mself\u001b[0m\u001b[0;34m.\u001b[0m\u001b[0m_values\u001b[0m\u001b[0;34m)\u001b[0m\u001b[0;34m:\u001b[0m\u001b[0;34m\u001b[0m\u001b[0;34m\u001b[0m\u001b[0m\n\u001b[1;32m   1127\u001b[0m             \u001b[0;32mreturn\u001b[0m \u001b[0mmap\u001b[0m\u001b[0;34m(\u001b[0m\u001b[0mcom\u001b[0m\u001b[0;34m.\u001b[0m\u001b[0mmaybe_box_datetimelike\u001b[0m\u001b[0;34m,\u001b[0m \u001b[0mself\u001b[0m\u001b[0;34m.\u001b[0m\u001b[0m_values\u001b[0m\u001b[0;34m)\u001b[0m\u001b[0;34m\u001b[0m\u001b[0;34m\u001b[0m\u001b[0m\n\u001b[0;32m-> 1128\u001b[0;31m         \u001b[0;32melif\u001b[0m \u001b[0mis_extension_array_dtype\u001b[0m\u001b[0;34m(\u001b[0m\u001b[0mself\u001b[0m\u001b[0;34m.\u001b[0m\u001b[0m_values\u001b[0m\u001b[0;34m)\u001b[0m\u001b[0;34m:\u001b[0m\u001b[0;34m\u001b[0m\u001b[0;34m\u001b[0m\u001b[0m\n\u001b[0m\u001b[1;32m   1129\u001b[0m             \u001b[0;32mreturn\u001b[0m \u001b[0miter\u001b[0m\u001b[0;34m(\u001b[0m\u001b[0mself\u001b[0m\u001b[0;34m.\u001b[0m\u001b[0m_values\u001b[0m\u001b[0;34m)\u001b[0m\u001b[0;34m\u001b[0m\u001b[0;34m\u001b[0m\u001b[0m\n\u001b[1;32m   1130\u001b[0m         \u001b[0;32melse\u001b[0m\u001b[0;34m:\u001b[0m\u001b[0;34m\u001b[0m\u001b[0;34m\u001b[0m\u001b[0m\n",
      "\u001b[0;31mKeyboardInterrupt\u001b[0m: "
     ]
    }
   ],
   "source": [
    "r = Rocket()\n",
    "print(forward_simulate_net(r, net, full_data))"
   ]
  },
  {
   "cell_type": "code",
   "execution_count": 395,
   "metadata": {},
   "outputs": [],
   "source": [
    "optimizer.zero_grad()"
   ]
  },
  {
   "cell_type": "code",
   "execution_count": 396,
   "metadata": {},
   "outputs": [
    {
     "name": "stdout",
     "output_type": "stream",
     "text": [
      "Started Training v2\n",
      "Rocket \n",
      "Initial State: (-140.40922669637337, 1253.2836917199716, -5.11461117173412, -10.805206502834032, 10459.808012838896)\n"
     ]
    },
    {
     "ename": "ValueError",
     "evalue": "could not determine the shape of object type 'Series'",
     "output_type": "error",
     "traceback": [
      "\u001b[0;31m---------------------------------------------------------------------------\u001b[0m",
      "\u001b[0;31mValueError\u001b[0m                                Traceback (most recent call last)",
      "\u001b[0;32m<ipython-input-396-d85a73dab497>\u001b[0m in \u001b[0;36m<module>\u001b[0;34m\u001b[0m\n\u001b[1;32m     17\u001b[0m \u001b[0;34m\u001b[0m\u001b[0m\n\u001b[1;32m     18\u001b[0m         \u001b[0;31m#forward simulate\u001b[0m\u001b[0;34m\u001b[0m\u001b[0;34m\u001b[0m\u001b[0;34m\u001b[0m\u001b[0m\n\u001b[0;32m---> 19\u001b[0;31m         \u001b[0mloss\u001b[0m \u001b[0;34m=\u001b[0m \u001b[0mforward_simulate_net\u001b[0m\u001b[0;34m(\u001b[0m\u001b[0mr\u001b[0m\u001b[0;34m,\u001b[0m \u001b[0mnet\u001b[0m\u001b[0;34m,\u001b[0m \u001b[0mfull_data\u001b[0m\u001b[0;34m)\u001b[0m\u001b[0;34m\u001b[0m\u001b[0;34m\u001b[0m\u001b[0m\n\u001b[0m\u001b[1;32m     20\u001b[0m         \u001b[0mprint\u001b[0m\u001b[0;34m(\u001b[0m\u001b[0mloss\u001b[0m\u001b[0;34m)\u001b[0m\u001b[0;34m\u001b[0m\u001b[0;34m\u001b[0m\u001b[0m\n\u001b[1;32m     21\u001b[0m \u001b[0;34m\u001b[0m\u001b[0m\n",
      "\u001b[0;32m<ipython-input-391-8522da96cc80>\u001b[0m in \u001b[0;36mforward_simulate_net\u001b[0;34m(rocket, model, dataset)\u001b[0m\n\u001b[1;32m     21\u001b[0m                 \u001b[0;32mbreak\u001b[0m\u001b[0;34m\u001b[0m\u001b[0;34m\u001b[0m\u001b[0m\n\u001b[1;32m     22\u001b[0m \u001b[0;34m\u001b[0m\u001b[0m\n\u001b[0;32m---> 23\u001b[0;31m             \u001b[0mstate\u001b[0m \u001b[0;34m=\u001b[0m \u001b[0mtensor_dynamics\u001b[0m\u001b[0;34m(\u001b[0m\u001b[0mstate\u001b[0m\u001b[0;34m)\u001b[0m \u001b[0;31m#updates state\u001b[0m\u001b[0;34m\u001b[0m\u001b[0;34m\u001b[0m\u001b[0m\n\u001b[0m\u001b[1;32m     24\u001b[0m \u001b[0;34m\u001b[0m\u001b[0m\n\u001b[1;32m     25\u001b[0m             \u001b[0;31m#check for landing\u001b[0m\u001b[0;34m\u001b[0m\u001b[0;34m\u001b[0m\u001b[0;34m\u001b[0m\u001b[0m\n",
      "\u001b[0;32m<ipython-input-342-215566dd439b>\u001b[0m in \u001b[0;36mtensor_dynamics\u001b[0;34m(state)\u001b[0m\n\u001b[1;32m      7\u001b[0m \u001b[0;34m\u001b[0m\u001b[0m\n\u001b[1;32m      8\u001b[0m     \u001b[0;31m#non dimensionalize\u001b[0m\u001b[0;34m\u001b[0m\u001b[0;34m\u001b[0m\u001b[0;34m\u001b[0m\u001b[0m\n\u001b[0;32m----> 9\u001b[0;31m     \u001b[0mn_state\u001b[0m \u001b[0;34m=\u001b[0m \u001b[0;34m(\u001b[0m\u001b[0mstate\u001b[0m \u001b[0;34m-\u001b[0m \u001b[0mtorch\u001b[0m\u001b[0;34m.\u001b[0m\u001b[0mtensor\u001b[0m\u001b[0;34m(\u001b[0m\u001b[0mfull_data\u001b[0m\u001b[0;34m.\u001b[0m\u001b[0ms_mean\u001b[0m\u001b[0;34m)\u001b[0m\u001b[0;34m)\u001b[0m\u001b[0;34m/\u001b[0m\u001b[0mtorch\u001b[0m\u001b[0;34m.\u001b[0m\u001b[0mtensor\u001b[0m\u001b[0;34m(\u001b[0m\u001b[0mfull_data\u001b[0m\u001b[0;34m.\u001b[0m\u001b[0ms_std\u001b[0m\u001b[0;34m)\u001b[0m\u001b[0;34m\u001b[0m\u001b[0;34m\u001b[0m\u001b[0m\n\u001b[0m\u001b[1;32m     10\u001b[0m \u001b[0;34m\u001b[0m\u001b[0m\n\u001b[1;32m     11\u001b[0m     \u001b[0;31m# predict using net\u001b[0m\u001b[0;34m\u001b[0m\u001b[0;34m\u001b[0m\u001b[0;34m\u001b[0m\u001b[0m\n",
      "\u001b[0;31mValueError\u001b[0m: could not determine the shape of object type 'Series'"
     ]
    }
   ],
   "source": [
    "losses = []\n",
    "\n",
    "n_epochs = 1\n",
    "\n",
    "print(\"Started Training v2\")\n",
    "for epoch in range(n_epochs):\n",
    "    episode_loss_train = 0\n",
    "    episode_loss_val   = 0\n",
    "    \n",
    "    for _ in range(10):\n",
    "\n",
    "        r = Rocket(disperse=True)\n",
    "        print(r)\n",
    "        \n",
    "        #set into training mode\n",
    "        net.train()\n",
    "        \n",
    "        #forward simulate\n",
    "        loss = forward_simulate_net(r, net, full_data)\n",
    "        print(loss)\n",
    "        \n",
    "        loss.backward()\n",
    "        \n",
    "        # Updates parameters and zeroes gradients\n",
    "        optimizer.step()\n",
    "        optimizer.zero_grad()\n",
    "        \n",
    "        losses.append(loss.item())\n",
    "        episode_loss_train += loss.item()\n",
    "            \n",
    "            \n",
    "    print(f\"\"\"Epoch: {epoch}, Loss: {sum(losses)/len(losses):.6f}, Epoch Loss: {episode_loss_train/len(losses):.6f}\"\"\")\n",
    "\n",
    "print('')\n",
    "\n",
    "print(\"********Finished Training*********\")"
   ]
  },
  {
   "cell_type": "code",
   "execution_count": 388,
   "metadata": {},
   "outputs": [
    {
     "name": "stdout",
     "output_type": "stream",
     "text": [
      "Rocket \n",
      "Initial State: (-10.974005457097405, 548.4856180812819, 3.5778150433477123, 0.6574677104951512, 9428.518664854597)\n",
      "z<0\n"
     ]
    },
    {
     "ename": "NameError",
     "evalue": "name 'x' is not defined",
     "output_type": "error",
     "traceback": [
      "\u001b[0;31m---------------------------------------------------------------------------\u001b[0m",
      "\u001b[0;31mNameError\u001b[0m                                 Traceback (most recent call last)",
      "\u001b[0;32m<ipython-input-388-f0c30acc30e1>\u001b[0m in \u001b[0;36m<module>\u001b[0;34m\u001b[0m\n\u001b[1;32m      6\u001b[0m \u001b[0;34m\u001b[0m\u001b[0m\n\u001b[1;32m      7\u001b[0m \u001b[0;31m#forward simulate\u001b[0m\u001b[0;34m\u001b[0m\u001b[0;34m\u001b[0m\u001b[0;34m\u001b[0m\u001b[0m\n\u001b[0;32m----> 8\u001b[0;31m \u001b[0mloss\u001b[0m \u001b[0;34m=\u001b[0m \u001b[0mforward_simulate_net\u001b[0m\u001b[0;34m(\u001b[0m\u001b[0mr\u001b[0m\u001b[0;34m,\u001b[0m \u001b[0mnet\u001b[0m\u001b[0;34m,\u001b[0m \u001b[0mfull_data\u001b[0m\u001b[0;34m)\u001b[0m\u001b[0;34m\u001b[0m\u001b[0;34m\u001b[0m\u001b[0m\n\u001b[0m\u001b[1;32m      9\u001b[0m \u001b[0mprint\u001b[0m\u001b[0;34m(\u001b[0m\u001b[0mloss\u001b[0m\u001b[0;34m)\u001b[0m\u001b[0;34m\u001b[0m\u001b[0;34m\u001b[0m\u001b[0m\n",
      "\u001b[0;32m<ipython-input-375-4346d4ceee98>\u001b[0m in \u001b[0;36mforward_simulate_net\u001b[0;34m(rocket, model, dataset)\u001b[0m\n\u001b[1;32m     35\u001b[0m         \u001b[0;31m## compute losses\u001b[0m\u001b[0;34m\u001b[0m\u001b[0;34m\u001b[0m\u001b[0;34m\u001b[0m\u001b[0m\n\u001b[1;32m     36\u001b[0m         \u001b[0;31m#if its here, it didnt succeed\u001b[0m\u001b[0;34m\u001b[0m\u001b[0;34m\u001b[0m\u001b[0;34m\u001b[0m\u001b[0m\n\u001b[0;32m---> 37\u001b[0;31m         \u001b[0mfin\u001b[0m \u001b[0;34m=\u001b[0m \u001b[0mtorch\u001b[0m\u001b[0;34m.\u001b[0m\u001b[0mmin\u001b[0m\u001b[0;34m(\u001b[0m\u001b[0;34m(\u001b[0m\u001b[0mx\u001b[0m\u001b[0;34m**\u001b[0m\u001b[0;36m2\u001b[0m \u001b[0;34m+\u001b[0m \u001b[0mz\u001b[0m\u001b[0;34m**\u001b[0m\u001b[0;36m2\u001b[0m\u001b[0;34m)\u001b[0m\u001b[0;34m**\u001b[0m\u001b[0;36m0.5\u001b[0m\u001b[0;34m/\u001b[0m\u001b[0;36m10\u001b[0m \u001b[0;34m+\u001b[0m \u001b[0;34m(\u001b[0m\u001b[0mvx\u001b[0m\u001b[0;34m**\u001b[0m\u001b[0;36m2\u001b[0m \u001b[0;34m+\u001b[0m \u001b[0mvz\u001b[0m\u001b[0;34m**\u001b[0m\u001b[0;36m2\u001b[0m\u001b[0;34m)\u001b[0m\u001b[0;34m**\u001b[0m\u001b[0;36m0.5\u001b[0m\u001b[0;34m/\u001b[0m\u001b[0;36m0.7\u001b[0m\u001b[0;34m)\u001b[0m \u001b[0;31m#therefore, definitely larger than 1\u001b[0m\u001b[0;34m\u001b[0m\u001b[0;34m\u001b[0m\u001b[0m\n\u001b[0m\u001b[1;32m     38\u001b[0m         \u001b[0mprint\u001b[0m\u001b[0;34m(\u001b[0m\u001b[0;34m'landing failed'\u001b[0m\u001b[0;34m)\u001b[0m\u001b[0;34m\u001b[0m\u001b[0;34m\u001b[0m\u001b[0m\n\u001b[1;32m     39\u001b[0m         \u001b[0;32mreturn\u001b[0m \u001b[0mfin\u001b[0m\u001b[0;34m\u001b[0m\u001b[0;34m\u001b[0m\u001b[0m\n",
      "\u001b[0;31mNameError\u001b[0m: name 'x' is not defined"
     ]
    }
   ],
   "source": [
    "r = Rocket(disperse=True)\n",
    "print(r)\n",
    "\n",
    "#set into training mode\n",
    "net.train()\n",
    "\n",
    "#forward simulate\n",
    "loss = forward_simulate_net(r, net, full_data)\n",
    "print(loss)\n"
   ]
  },
  {
   "cell_type": "code",
   "execution_count": null,
   "metadata": {},
   "outputs": [],
   "source": [
    "loss.backward()"
   ]
  },
  {
   "cell_type": "code",
   "execution_count": null,
   "metadata": {},
   "outputs": [],
   "source": [
    "optimizer.step()\n",
    "optimizer.zero_grad()"
   ]
  },
  {
   "cell_type": "code",
   "execution_count": 397,
   "metadata": {},
   "outputs": [],
   "source": [
    "optimizer.zero_grad()"
   ]
  },
  {
   "cell_type": "code",
   "execution_count": null,
   "metadata": {},
   "outputs": [],
   "source": []
  }
 ],
 "metadata": {
  "kernelspec": {
   "display_name": "deep_learnt_controls",
   "language": "python",
   "name": "deep_learnt_controls"
  },
  "language_info": {
   "codemirror_mode": {
    "name": "ipython",
    "version": 3
   },
   "file_extension": ".py",
   "mimetype": "text/x-python",
   "name": "python",
   "nbconvert_exporter": "python",
   "pygments_lexer": "ipython3",
   "version": "3.6.7"
  }
 },
 "nbformat": 4,
 "nbformat_minor": 2
}
