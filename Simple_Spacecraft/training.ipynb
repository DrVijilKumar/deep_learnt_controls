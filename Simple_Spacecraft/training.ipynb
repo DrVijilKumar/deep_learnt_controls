{
 "cells": [
  {
   "cell_type": "code",
   "execution_count": 145,
   "metadata": {},
   "outputs": [],
   "source": [
    "from __future__ import print_function\n",
    "import matplotlib.pyplot as plt\n",
    "\n",
    "import torch\n",
    "import torch.nn as nn\n",
    "import torch.nn.functional as F\n",
    "import torch.optim as optim\n",
    "from torch.utils import data\n",
    "\n",
    "import numpy as np\n",
    "import pandas as pd\n",
    "\n",
    "from rocket import Rocket\n",
    "\n",
    "import random"
   ]
  },
  {
   "cell_type": "code",
   "execution_count": null,
   "metadata": {},
   "outputs": [],
   "source": []
  },
  {
   "cell_type": "code",
   "execution_count": 146,
   "metadata": {},
   "outputs": [],
   "source": [
    "class Net(nn.Module):\n",
    "    \n",
    "    def __init__(self):\n",
    "        super(Net, self).__init__()\n",
    "        \n",
    "        d = 16\n",
    "        self.fc1 = nn.Linear(5, d)\n",
    "        self.fc2 = nn.Linear(d, d)\n",
    "        self.fc3 = nn.Linear(d, 2)\n",
    "        \n",
    "        a = (12/(5+d))**0.5\n",
    "        nn.init.uniform_(self.fc1.weight, a=-a, b=a)\n",
    "        \n",
    "        a = (12/(d+d))**0.5\n",
    "        nn.init.uniform_(self.fc2.weight, a=-a, b=a)\n",
    "        \n",
    "        a = (6/(d+2))**0.5\n",
    "        nn.init.uniform_(self.fc3.weight, a=-a, b=a)\n",
    "        \n",
    "    def forward(self, x):\n",
    "        \n",
    "        x = F.relu(self.fc1(x))\n",
    "        x = F.relu(self.fc2(x))\n",
    "        x = torch.tanh(self.fc3(x))\n",
    "        \n",
    "        return x\n",
    "    \n",
    "class MyDataset(data.Dataset):\n",
    "    \n",
    "    def __init__(self, state_csv, control_csv, transform=None):\n",
    "        \n",
    "        df_s = pd.read_csv(state_csv)\n",
    "        df_c = pd.read_csv(control_csv)\n",
    "        \n",
    "        #normalize by (df-mean)/std\n",
    "        self.s_mean, self.s_std = df_s.mean(), df_s.std()\n",
    "        self.c_mean, self.c_std = df_c.mean(), df_c.std()\n",
    "        \n",
    "        n_df_s = (df_s - df_s.mean())/df_s.std()\n",
    "        #n_df_c = (df_c - df_c.mean())/df_c.std()\n",
    "        \n",
    "        #normalize control range from -1 to 1\n",
    "        #self.c_max = n_df_c.max()\n",
    "        #self.c_min = n_df_c.min()\n",
    "        \n",
    "        #n2_df_c = 2*(n_df_c-n_df_c.min())/(n_df_c.max()-n_df_c.min()) - 1\n",
    "        n_df_c = df_c\n",
    "        n_df_c['0'] = 2*n_df_c['0']-1 #from [0,1] to [-1,1]\n",
    "        #n_df_c['1'] = 2*n_df_c['1']/np.pi #from [-pi/2, pi/2] to [-1,1]\n",
    "        self.u2_nond = (np.pi/8)\n",
    "        n_df_c['1'] = n_df_c['1']/self.u2_nond #from [-u2_nond, u2_nond] to [-1,1]\n",
    "        #n_df_c['1'] = (n_df_c['1']-n_df_c['1'].mean())/n_df_c['1'].std()\n",
    "        \n",
    "        self.df_s = torch.FloatTensor(n_df_s.values)\n",
    "        self.df_c = torch.FloatTensor(n_df_c.values)\n",
    "        \n",
    "        self.length = len(self.df_s)\n",
    "        \n",
    "    def __len__(self):\n",
    "        return self.length\n",
    "    \n",
    "    def __getitem__(self, index):\n",
    "        \n",
    "        sample = {'s': self.df_s[index], 'c': self.df_c[index]}\n",
    "        \n",
    "        return sample\n",
    "    \n",
    "    def normalize_s(self, state):\n",
    "        return ((state[i] - self.s_mean[i])/self.s_std[i] for i in range(5))\n",
    "    \n",
    "    def normalize_c(self, control):\n",
    "        \n",
    "        raise NotImplementedError\n",
    "        \n",
    "        #return ((control[i] - self.c_mean[i])/self.c_std[i] for i in range(2))\n",
    "    \n",
    "    def denormalize_c(self, nn_c):\n",
    "        #undo the min max\n",
    "        \n",
    "        #n_c = [0.5*(nn_c[i]+1)*(self.c_max[i]-self.c_min[i]) + self.c_min[i] for i in range(2)]\n",
    "        \n",
    "        #undo the std and mean\n",
    "        #c = (n_c[i]*self.c_std[i] + self.c_mean[i] for i in range(2))\n",
    "        \n",
    "        c1 = (nn_c[0] + 1)/2\n",
    "        #c2 = (nn_c[1]*self.c_std[1] + self.c_mean[1])\n",
    "        \n",
    "        c2 = nn_c[1]*self.u2_nond\n",
    "        \n",
    "        return c1, c2\n",
    "    \n",
    "    def in_training_region(self, point, normalized=True):\n",
    "        if normalized==False:\n",
    "            point = self.normalize_s(point)\n",
    "            \n",
    "        for i, p in enumerate(point):\n",
    "            \n",
    "            if p < self.df_s[:,i].min():\n",
    "                \n",
    "                print(f'min: {i}')\n",
    "                return False\n",
    "            if p > self.df_s[:,i].max():\n",
    "                print(f'max: {i}')\n",
    "                return False\n",
    "        \n",
    "        return True\n",
    "            \n",
    "        "
   ]
  },
  {
   "cell_type": "code",
   "execution_count": 147,
   "metadata": {},
   "outputs": [],
   "source": [
    "net = Net()"
   ]
  },
  {
   "cell_type": "code",
   "execution_count": 148,
   "metadata": {},
   "outputs": [
    {
     "name": "stdout",
     "output_type": "stream",
     "text": [
      "Net(\n",
      "  (fc1): Linear(in_features=5, out_features=16, bias=True)\n",
      "  (fc2): Linear(in_features=16, out_features=16, bias=True)\n",
      "  (fc3): Linear(in_features=16, out_features=2, bias=True)\n",
      ")\n"
     ]
    }
   ],
   "source": [
    "print(net)"
   ]
  },
  {
   "cell_type": "code",
   "execution_count": 383,
   "metadata": {},
   "outputs": [],
   "source": [
    "params = list(net.parameters())"
   ]
  },
  {
   "cell_type": "code",
   "execution_count": 384,
   "metadata": {},
   "outputs": [],
   "source": [
    "params;"
   ]
  },
  {
   "cell_type": "code",
   "execution_count": 385,
   "metadata": {},
   "outputs": [
    {
     "data": {
      "text/plain": [
       "402"
      ]
     },
     "execution_count": 385,
     "metadata": {},
     "output_type": "execute_result"
    }
   ],
   "source": [
    "sum(p.numel() for p in net.parameters() if p.requires_grad)"
   ]
  },
  {
   "cell_type": "code",
   "execution_count": 386,
   "metadata": {},
   "outputs": [
    {
     "data": {
      "text/plain": [
       "<All keys matched successfully>"
      ]
     },
     "execution_count": 386,
     "metadata": {},
     "output_type": "execute_result"
    }
   ],
   "source": [
    "net.load_state_dict(torch.load('model.pt'))"
   ]
  },
  {
   "cell_type": "code",
   "execution_count": 387,
   "metadata": {},
   "outputs": [
    {
     "data": {
      "text/plain": [
       "Net(\n",
       "  (fc1): Linear(in_features=5, out_features=16, bias=True)\n",
       "  (fc2): Linear(in_features=16, out_features=16, bias=True)\n",
       "  (fc3): Linear(in_features=16, out_features=2, bias=True)\n",
       ")"
      ]
     },
     "execution_count": 387,
     "metadata": {},
     "output_type": "execute_result"
    }
   ],
   "source": [
    "net.eval()"
   ]
  },
  {
   "cell_type": "code",
   "execution_count": 388,
   "metadata": {},
   "outputs": [],
   "source": [
    "path_s = 'data_apollo/df_s_full.csv'\n",
    "path_c = 'data_apollo/df_c_full.csv'\n",
    "full_data = MyDataset(path_s, path_c)"
   ]
  },
  {
   "cell_type": "code",
   "execution_count": 13,
   "metadata": {},
   "outputs": [],
   "source": [
    "train_size = int(0.95 * len(full_data))\n",
    "val_size = len(full_data) - train_size\n",
    "train_dataset, validate_dataset = torch.utils.data.random_split(full_data, [train_size, val_size])"
   ]
  },
  {
   "cell_type": "code",
   "execution_count": 14,
   "metadata": {},
   "outputs": [
    {
     "data": {
      "text/plain": [
       "1005131"
      ]
     },
     "execution_count": 14,
     "metadata": {},
     "output_type": "execute_result"
    }
   ],
   "source": [
    "len(full_data)"
   ]
  },
  {
   "cell_type": "code",
   "execution_count": 15,
   "metadata": {},
   "outputs": [
    {
     "data": {
      "text/plain": [
       "954874"
      ]
     },
     "execution_count": 15,
     "metadata": {},
     "output_type": "execute_result"
    }
   ],
   "source": [
    "len(train_dataset)"
   ]
  },
  {
   "cell_type": "code",
   "execution_count": 16,
   "metadata": {},
   "outputs": [
    {
     "data": {
      "text/plain": [
       "50257"
      ]
     },
     "execution_count": 16,
     "metadata": {},
     "output_type": "execute_result"
    }
   ],
   "source": [
    "len(validate_dataset)"
   ]
  },
  {
   "cell_type": "code",
   "execution_count": null,
   "metadata": {
    "scrolled": true
   },
   "outputs": [],
   "source": []
  },
  {
   "cell_type": "code",
   "execution_count": 17,
   "metadata": {},
   "outputs": [],
   "source": [
    "batch_size = 8\n",
    "train_dl = data.DataLoader(train_dataset, batch_size=batch_size, shuffle=True)\n",
    "validate_dl = data.DataLoader(validate_dataset, batch_size=batch_size, shuffle=True)"
   ]
  },
  {
   "cell_type": "code",
   "execution_count": 18,
   "metadata": {},
   "outputs": [
    {
     "data": {
      "text/plain": [
       "<torch.utils.data.dataloader.DataLoader at 0x126954080>"
      ]
     },
     "execution_count": 18,
     "metadata": {},
     "output_type": "execute_result"
    }
   ],
   "source": [
    "train_dl"
   ]
  },
  {
   "cell_type": "code",
   "execution_count": 19,
   "metadata": {},
   "outputs": [
    {
     "data": {
      "text/plain": [
       "<torch.utils.data.dataloader.DataLoader at 0x126953a90>"
      ]
     },
     "execution_count": 19,
     "metadata": {},
     "output_type": "execute_result"
    }
   ],
   "source": [
    "validate_dl"
   ]
  },
  {
   "cell_type": "code",
   "execution_count": 83,
   "metadata": {},
   "outputs": [],
   "source": [
    "\n",
    "def make_train_step(model, loss_fn, optimizer):\n",
    "    # Builds function that performs a step in the train loop\n",
    "    \n",
    "    def train_step(x, y):\n",
    "        # Sets model to TRAIN mode\n",
    "        model.train()\n",
    "        # Makes predictions\n",
    "        yhat = model(x)\n",
    "        # Computes loss\n",
    "        loss = loss_fn(y, yhat)\n",
    "        # Computes gradients\n",
    "        loss.backward()\n",
    "        # Updates parameters and zeroes gradients\n",
    "        optimizer.step()\n",
    "        optimizer.zero_grad()\n",
    "        # Returns the loss\n",
    "        return loss.item()\n",
    "    \n",
    "    # Returns the function that will be called inside the train loop\n",
    "    return train_step"
   ]
  },
  {
   "cell_type": "code",
   "execution_count": 84,
   "metadata": {},
   "outputs": [],
   "source": [
    "net.zero_grad()"
   ]
  },
  {
   "cell_type": "code",
   "execution_count": 87,
   "metadata": {},
   "outputs": [],
   "source": [
    "\n",
    "optimizer = optim.SGD(net.parameters(), lr = 0.005, momentum=0.9)\n",
    "criterion = nn.MSELoss()\n",
    "\n",
    "\n",
    "train_step = make_train_step(model=net, loss_fn=criterion, optimizer=optimizer)\n",
    "losses = []\n",
    "val_losses = []\n",
    "\n",
    "n_epochs = 2"
   ]
  },
  {
   "cell_type": "code",
   "execution_count": 154,
   "metadata": {},
   "outputs": [
    {
     "name": "stdout",
     "output_type": "stream",
     "text": [
      "Started Training\n",
      "Epoch: 0, Loss: 0.771906, Val_loss: 0.000049, Epoch Loss: 0.766563, Epoch Val Loss: 0.000016\n",
      "\n",
      "********Finished Training*********\n"
     ]
    }
   ],
   "source": [
    "print(\"Started Training\")\n",
    "for epoch in range(n_epochs):\n",
    "    episode_loss_train = 0\n",
    "    episode_loss_val   = 0\n",
    "    \n",
    "    for batch in train_dl:\n",
    "\n",
    "        state = batch['s']\n",
    "        control = batch['c']\n",
    "        \n",
    "        loss = train_step(state, control)\n",
    "        \n",
    "        losses.append(loss)\n",
    "        episode_loss_train += loss\n",
    "        \n",
    "    with torch.no_grad():\n",
    "        for batch in validate_dl:\n",
    "            \n",
    "            net.eval()\n",
    "            \n",
    "            state = batch['s']\n",
    "            control = batch['c']\n",
    "\n",
    "            c_hat = net(state)\n",
    "            \n",
    "            val_loss = criterion(control, c_hat)\n",
    "            \n",
    "            val_losses.append(val_loss.item())\n",
    "            \n",
    "            episode_loss_val += val_loss.item()\n",
    "            \n",
    "            \n",
    "    print(f\"\"\"Epoch: {epoch}, Loss: {sum(losses)/len(losses):.6f}, Val_loss: {sum(val_losses)/len(val_losses):.6f}, Epoch Loss: {episode_loss_train/len(losses):.6f}, Epoch Val Loss: {episode_loss_val/len(val_losses):.6f}\"\"\")\n",
    "\n",
    "print('')\n",
    "\n",
    "print(\"********Finished Training*********\")"
   ]
  },
  {
   "cell_type": "code",
   "execution_count": 156,
   "metadata": {},
   "outputs": [],
   "source": [
    "d = next(iter(train_dl))"
   ]
  },
  {
   "cell_type": "code",
   "execution_count": 157,
   "metadata": {},
   "outputs": [
    {
     "data": {
      "text/plain": [
       "tensor([[-3.2003e-01, -1.5557e-02],\n",
       "        [-1.6166e-01, -3.7180e-02],\n",
       "        [-3.2043e-01, -1.7670e-02],\n",
       "        [-3.2153e-01, -3.8619e-03],\n",
       "        [-2.6551e-01, -1.7331e-04],\n",
       "        [-2.5414e-01,  1.0982e-01],\n",
       "        [-1.5349e-01,  1.1306e-02],\n",
       "        [-3.9722e-01, -5.6281e-03]], grad_fn=<TanhBackward>)"
      ]
     },
     "execution_count": 157,
     "metadata": {},
     "output_type": "execute_result"
    }
   ],
   "source": [
    "net(d['s'])"
   ]
  },
  {
   "cell_type": "code",
   "execution_count": 158,
   "metadata": {},
   "outputs": [
    {
     "data": {
      "text/plain": [
       "tensor([[-0.3171, -0.0124],\n",
       "        [-0.1643, -0.0183],\n",
       "        [-0.3181, -0.0145],\n",
       "        [-0.3213, -0.0008],\n",
       "        [-0.2662,  0.0011],\n",
       "        [-0.2579,  0.1168],\n",
       "        [-0.1470,  0.0082],\n",
       "        [-0.4002, -0.0017]])"
      ]
     },
     "execution_count": 158,
     "metadata": {},
     "output_type": "execute_result"
    }
   ],
   "source": [
    "d['c']"
   ]
  },
  {
   "cell_type": "code",
   "execution_count": 159,
   "metadata": {},
   "outputs": [
    {
     "data": {
      "text/plain": [
       "tensor([[0.0029, 0.0032],\n",
       "        [0.0026, 0.0188],\n",
       "        [0.0023, 0.0032],\n",
       "        [0.0002, 0.0031],\n",
       "        [0.0007, 0.0012],\n",
       "        [0.0037, 0.0070],\n",
       "        [0.0064, 0.0031],\n",
       "        [0.0030, 0.0039]], grad_fn=<AbsBackward>)"
      ]
     },
     "execution_count": 159,
     "metadata": {},
     "output_type": "execute_result"
    }
   ],
   "source": [
    "abs(d['c']-net(d['s']))"
   ]
  },
  {
   "cell_type": "code",
   "execution_count": null,
   "metadata": {},
   "outputs": [],
   "source": []
  },
  {
   "cell_type": "code",
   "execution_count": null,
   "metadata": {},
   "outputs": [],
   "source": []
  },
  {
   "cell_type": "code",
   "execution_count": null,
   "metadata": {},
   "outputs": [],
   "source": []
  },
  {
   "cell_type": "code",
   "execution_count": null,
   "metadata": {},
   "outputs": [],
   "source": []
  },
  {
   "cell_type": "code",
   "execution_count": 160,
   "metadata": {},
   "outputs": [],
   "source": [
    "torch.save(net.state_dict(), 'model.pt')"
   ]
  },
  {
   "cell_type": "code",
   "execution_count": 161,
   "metadata": {},
   "outputs": [],
   "source": [
    "with torch.no_grad():\n",
    "    def simulate_net(rocket, model, dataset):\n",
    "\n",
    "        t = np.array([0,])\n",
    "        dt = 1\n",
    "\n",
    "        x, z, vx, vz, m = (np.array([s,]) for s in rocket.s_0)\n",
    "        sf = (x[-1], z[-1], vx[-1], vz[-1], m[-1])\n",
    "\n",
    "        u1, u2 = np.array([]), np.array([])\n",
    "        \n",
    "        while True:\n",
    "            if z[-1] < 0: print('z<0'); break\n",
    "            if z[-1] > 2000: print('z>2000'); break\n",
    "            if abs(x[-1]) > 800: print('abs(x)>800'); break\n",
    "            if abs(vx[-1]) > 20: print('abs(vx)>20'); break\n",
    "            if vz[-1] < -100: print('vz<-100'); break\n",
    "            if vz[-1] > 30: print('vz>30'); break\n",
    "            if t[-1] > 1500: print('t>1500'); break\n",
    "            \n",
    "            #if not dataset.in_training_region(sf, normalized = False): print('minmax'); break\n",
    "            if (x[-1]**2 + z[-1]**2)**0.5 < 10: print('fin'); break\n",
    "            sf = (x[-1], z[-1], vx[-1], vz[-1], m[-1])\n",
    "\n",
    "\n",
    "            #evaluate the model\n",
    "            n_sf = tuple(list(dataset.normalize_s(sf)))\n",
    "\n",
    "            n_uf = tuple(model(torch.FloatTensor(n_sf)).detach().numpy())\n",
    "\n",
    "            uf = tuple(list(dataset.denormalize_c(n_uf)))\n",
    "\n",
    "\n",
    "            new_state = rocket.propagate(sf, uf, dt=dt)\n",
    "\n",
    "            x = np.append(x, new_state[0])\n",
    "            z = np.append(z, new_state[1])\n",
    "            vx= np.append(vx, new_state[2])\n",
    "            vz= np.append(vz, new_state[3])\n",
    "            m = np.append(m, new_state[4])\n",
    "            t = np.append(t, t[-1]+dt)\n",
    "\n",
    "            u1 = np.append(u1, uf[0])\n",
    "            u2 = np.append(u2, uf[1])\n",
    "\n",
    "\n",
    "            #print(f't: {t[-1]:.1f}, x:{x[-1]:.1f}, z:{z[-1]:.1f}, u1:{u1[-1]:.2f}, u2:{u2[-1]:.2f}')\n",
    "\n",
    "        u1 = np.append(u1, u1[-1])\n",
    "        u2 = np.append(u2, u2[-1])    \n",
    "            \n",
    "        return (t, x, z, vx, vz, m, u1, u2)\n",
    "\n",
    "def simulate_no_thrust(rocket):\n",
    "\n",
    "    t = [0,]\n",
    "    dt = 1\n",
    "\n",
    "    x, z, vx, vz, m = ([s,] for s in rocket.s_0)\n",
    "\n",
    "    u1, u2 = [], []\n",
    "\n",
    "    while z[-1] > 0 and t[-1] < 300:\n",
    "        sf = (x[-1], z[-1], vx[-1], vz[-1], m[-1])\n",
    "\n",
    "        new_state = rocket.propagate(sf, (0,0), dt=dt)\n",
    "\n",
    "        x.append(new_state[0])\n",
    "        z.append(new_state[1])\n",
    "        vx.append(new_state[2])\n",
    "        vz.append(new_state[3])\n",
    "        m.append(new_state[4])\n",
    "        t.append(t[-1]+dt)\n",
    "\n",
    "        u1.append(0)\n",
    "        u2.append(0)\n",
    "\n",
    "\n",
    "        #print(f't: {t[-1]:.1f}, x:{x[-1]:.1f}, z:{z[-1]:.1f}, u1:{u1[-1]:.2f}, u2:{u2[-1]:.2f}')\n",
    "    \n",
    "    u1.append(u1[-1])\n",
    "    u2.append(u2[-1])   \n",
    "\n",
    "    return (t, x, z, vx, vz, m, u1, u2)    \n",
    "        "
   ]
  },
  {
   "cell_type": "code",
   "execution_count": null,
   "metadata": {},
   "outputs": [],
   "source": []
  },
  {
   "cell_type": "code",
   "execution_count": null,
   "metadata": {},
   "outputs": [],
   "source": []
  },
  {
   "cell_type": "code",
   "execution_count": 392,
   "metadata": {
    "scrolled": false
   },
   "outputs": [
    {
     "name": "stdout",
     "output_type": "stream",
     "text": [
      "Rocket \n",
      "Initial State: (198.97690979706948, 1087.8118967503278, -2.404752937582451, -26.41487833844671, 8626.457898239496)\n",
      "fin\n"
     ]
    },
    {
     "data": {
      "image/png": "[encoded data removed]",
      "text/plain": [
       "<Figure size 432x288 with 1 Axes>"
      ]
     },
     "metadata": {
      "needs_background": "light"
     },
     "output_type": "display_data"
    },
    {
     "data": {
      "image/png": "[encoded data removed]",
      "text/plain": [
       "<Figure size 432x288 with 1 Axes>"
      ]
     },
     "metadata": {
      "needs_background": "light"
     },
     "output_type": "display_data"
    },
    {
     "data": {
      "image/png": "[encoded data removed]",
      "text/plain": [
       "<Figure size 432x288 with 1 Axes>"
      ]
     },
     "metadata": {
      "needs_background": "light"
     },
     "output_type": "display_data"
    },
    {
     "data": {
      "image/png": "[encoded data removed]",
      "text/plain": [
       "<Figure size 432x288 with 1 Axes>"
      ]
     },
     "metadata": {
      "needs_background": "light"
     },
     "output_type": "display_data"
    },
    {
     "data": {
      "image/png": "[encoded data removed]",
      "text/plain": [
       "<Figure size 432x288 with 1 Axes>"
      ]
     },
     "metadata": {
      "needs_background": "light"
     },
     "output_type": "display_data"
    },
    {
     "data": {
      "image/png": "[encoded data removed]",
      "text/plain": [
       "<Figure size 432x288 with 1 Axes>"
      ]
     },
     "metadata": {
      "needs_background": "light"
     },
     "output_type": "display_data"
    },
    {
     "data": {
      "image/png": "[encoded data removed]",
      "text/plain": [
       "<Figure size 432x288 with 1 Axes>"
      ]
     },
     "metadata": {
      "needs_background": "light"
     },
     "output_type": "display_data"
    }
   ],
   "source": [
    "r = Rocket(disperse=True)\n",
    "\n",
    "s0 = [s for s in r.s_0]\n",
    "s0[3] = -abs(s0[3])\n",
    "\n",
    "r = Rocket(*s0, disperse=False)\n",
    "\n",
    "r.lunar_guidance_live(h_ratio=2)\n",
    "print(r)\n",
    "\n",
    "with torch.no_grad():\n",
    "    (t_net, x_net, z_net, vx_net, vz_net, m_net, u1_net, u2_net) = simulate_net(r, net, full_data)\n",
    "    \n",
    "(t_no, x_no, z_no, vx_no, vz_no, m_no, u1_no, u2_no) = simulate_no_thrust(r)\n",
    "\n",
    "plt.plot(r.x, r.z, 'b-')\n",
    "plt.plot(x_net, z_net, 'r--')\n",
    "plt.plot(x_no, z_no, 'g:')\n",
    "ax = plt.gca()\n",
    "ax.set_aspect('equal', 'datalim')\n",
    "plt.title('path')\n",
    "plt.grid()\n",
    "plt.show()\n",
    "\n",
    "\n",
    "plt.plot(r.t, r.x, 'b-')\n",
    "plt.plot(t_net, x_net, 'r--')\n",
    "plt.plot(t_no, x_no, 'g:')\n",
    "plt.grid()\n",
    "plt.title('x')\n",
    "plt.show()\n",
    "\n",
    "plt.plot(r.t, r.z, 'b-')\n",
    "plt.plot(t_net, z_net, 'r--')\n",
    "plt.plot(t_no, z_no, 'g:')\n",
    "plt.grid()\n",
    "plt.title('z')\n",
    "plt.show()\n",
    "\n",
    "plt.plot(r.t, r.vx, 'b-')\n",
    "plt.plot(t_net, vx_net, 'r--')\n",
    "plt.plot(t_no, vx_no, 'g:')\n",
    "plt.grid()\n",
    "plt.title('vx')\n",
    "plt.show()\n",
    "\n",
    "\n",
    "plt.plot(r.t, r.vz, 'b-')\n",
    "plt.plot(t_net, vz_net, 'r--')\n",
    "plt.plot(t_no, vz_no, 'g:')\n",
    "plt.grid()\n",
    "plt.title('vz')\n",
    "plt.show()\n",
    "\n",
    "\n",
    "\n",
    "plt.plot(r.t, r.u1_mag, 'b-')\n",
    "plt.plot(t_net, u1_net, 'r--')\n",
    "plt.plot(t_no, u1_no, 'g:')\n",
    "plt.grid()\n",
    "plt.title('u1')\n",
    "plt.show()\n",
    "\n",
    "\n",
    "plt.plot(r.t, r.u2_angle, 'b-')\n",
    "plt.plot(t_net, u2_net, 'r--')\n",
    "plt.plot(t_no, u2_no, 'g:')\n",
    "plt.grid()\n",
    "plt.title('u2')\n",
    "plt.show()\n",
    "\n"
   ]
  },
  {
   "cell_type": "code",
   "execution_count": null,
   "metadata": {
    "scrolled": false
   },
   "outputs": [],
   "source": []
  },
  {
   "cell_type": "code",
   "execution_count": null,
   "metadata": {},
   "outputs": [],
   "source": []
  },
  {
   "cell_type": "code",
   "execution_count": null,
   "metadata": {},
   "outputs": [],
   "source": []
  },
  {
   "cell_type": "code",
   "execution_count": null,
   "metadata": {},
   "outputs": [],
   "source": []
  },
  {
   "cell_type": "code",
   "execution_count": null,
   "metadata": {},
   "outputs": [],
   "source": []
  },
  {
   "cell_type": "code",
   "execution_count": null,
   "metadata": {},
   "outputs": [],
   "source": []
  },
  {
   "cell_type": "code",
   "execution_count": null,
   "metadata": {},
   "outputs": [],
   "source": []
  },
  {
   "cell_type": "code",
   "execution_count": null,
   "metadata": {},
   "outputs": [],
   "source": []
  },
  {
   "cell_type": "code",
   "execution_count": null,
   "metadata": {},
   "outputs": [],
   "source": []
  },
  {
   "cell_type": "code",
   "execution_count": 163,
   "metadata": {},
   "outputs": [],
   "source": [
    "def moving_average(x, w):\n",
    "    return np.convolve(x, np.ones(w), 'valid') / w"
   ]
  },
  {
   "cell_type": "code",
   "execution_count": 164,
   "metadata": {},
   "outputs": [
    {
     "data": {
      "text/plain": [
       "[<matplotlib.lines.Line2D at 0x12697bdd8>]"
      ]
     },
     "execution_count": 164,
     "metadata": {},
     "output_type": "execute_result"
    },
    {
     "data": {
      "image/png": "[encoded data removed]",
      "text/plain": [
       "<Figure size 432x288 with 1 Axes>"
      ]
     },
     "metadata": {
      "needs_background": "light"
     },
     "output_type": "display_data"
    }
   ],
   "source": [
    "plt.plot(np.log(moving_average(losses[1:],10000)))"
   ]
  },
  {
   "cell_type": "code",
   "execution_count": 165,
   "metadata": {},
   "outputs": [
    {
     "data": {
      "text/plain": [
       "[<matplotlib.lines.Line2D at 0x12b428ac8>]"
      ]
     },
     "execution_count": 165,
     "metadata": {},
     "output_type": "execute_result"
    },
    {
     "data": {
      "image/png": "[encoded data removed]",
      "text/plain": [
       "<Figure size 432x288 with 1 Axes>"
      ]
     },
     "metadata": {
      "needs_background": "light"
     },
     "output_type": "display_data"
    }
   ],
   "source": [
    "plt.plot(np.log(moving_average(val_losses,100)))"
   ]
  },
  {
   "cell_type": "code",
   "execution_count": 165,
   "metadata": {},
   "outputs": [
    {
     "data": {
      "text/plain": [
       "tensor([-0.4044, -0.0094], grad_fn=<TanhBackward>)"
      ]
     },
     "execution_count": 165,
     "metadata": {},
     "output_type": "execute_result"
    }
   ],
   "source": [
    "net(train_dataset[0]['s'])"
   ]
  },
  {
   "cell_type": "code",
   "execution_count": 166,
   "metadata": {},
   "outputs": [
    {
     "data": {
      "text/plain": [
       "tensor([-0.4048, -0.0103])"
      ]
     },
     "execution_count": 166,
     "metadata": {},
     "output_type": "execute_result"
    }
   ],
   "source": [
    "train_dataset[0]['c']"
   ]
  },
  {
   "cell_type": "code",
   "execution_count": 167,
   "metadata": {},
   "outputs": [
    {
     "name": "stdout",
     "output_type": "stream",
     "text": [
      "tensor([-0.4044, -0.0094], grad_fn=<TanhBackward>) tensor([-0.4048, -0.0103])\n",
      "tensor([-0.4668,  0.0065], grad_fn=<TanhBackward>) tensor([-0.4639,  0.0061])\n",
      "tensor([-0.2781,  0.0162], grad_fn=<TanhBackward>) tensor([-0.2806,  0.0181])\n",
      "tensor([-0.3448,  0.0083], grad_fn=<TanhBackward>) tensor([-0.3446,  0.0048])\n",
      "tensor([-0.3831,  0.0015], grad_fn=<TanhBackward>) tensor([-3.8533e-01,  2.3858e-04])\n",
      "tensor([-0.4114, -0.0024], grad_fn=<TanhBackward>) tensor([-0.4038, -0.0103])\n",
      "tensor([-0.4179,  0.0112], grad_fn=<TanhBackward>) tensor([-0.4164,  0.0124])\n",
      "tensor([-0.4706,  0.0013], grad_fn=<TanhBackward>) tensor([-0.4681,  0.0029])\n",
      "tensor([-0.3931,  0.0060], grad_fn=<TanhBackward>) tensor([-0.3927,  0.0061])\n",
      "tensor([-0.2830,  0.0152], grad_fn=<TanhBackward>) tensor([-0.2828,  0.0144])\n"
     ]
    }
   ],
   "source": [
    "for i in range(10):\n",
    "    print(net(train_dataset[i]['s']), train_dataset[i]['c'])"
   ]
  },
  {
   "cell_type": "code",
   "execution_count": 166,
   "metadata": {},
   "outputs": [],
   "source": [
    "def tensor_dynamics(state, dt = 1):\n",
    "    x = state[0]\n",
    "    z = state[1]\n",
    "    vx = state[2]\n",
    "    vz = state[3]\n",
    "    m = state[4]\n",
    "    \n",
    "    #non dimensionalize\n",
    "    n_state = (state - torch.tensor(full_data.s_mean))/torch.tensor(full_data.s_std)\n",
    "    \n",
    "    # predict using net\n",
    "    u = net.forward(n_state)\n",
    "    \n",
    "    #de-normalize\n",
    "    u1 = (u[0] + 1)/2\n",
    "    u2 = (u[1]*np.pi/8)\n",
    "    \n",
    "    #dynamics\n",
    "    g = 1.6229\n",
    "    c1 = 44000\n",
    "    c2 = 311*9.81\n",
    "    \n",
    "    dx = vx\n",
    "    dz = vz\n",
    "    dvx = c1*(u1/m)*torch.sin(u2)\n",
    "    dvz = c1*(u1/m)*torch.cos(u2) - g\n",
    "    dm  = -(c1/c2)*u1\n",
    "    \n",
    "    #update state\n",
    "    x = x + dx*dt\n",
    "    z = z + dz*dt\n",
    "    vx = vx + dvx*dt\n",
    "    vz = vz + dvz*dt\n",
    "    m = m + dm*dt\n",
    "    \n",
    "    #return new state\n",
    "    new_state = torch.stack((x, z, vx, vz, m))\n",
    "    \n",
    "    return new_state\n",
    "    \n",
    "    "
   ]
  },
  {
   "cell_type": "code",
   "execution_count": 167,
   "metadata": {},
   "outputs": [
    {
     "data": {
      "text/plain": [
       "tensor([-4.8342e-01,  3.4932e+02,  1.7036e-03, -5.6301e+00,  9.1971e+03])"
      ]
     },
     "execution_count": 167,
     "metadata": {},
     "output_type": "execute_result"
    }
   ],
   "source": [
    "torch.tensor(full_data.s_mean)"
   ]
  },
  {
   "cell_type": "code",
   "execution_count": 168,
   "metadata": {},
   "outputs": [],
   "source": [
    "r = Rocket()\n",
    "state = torch.tensor(r.s_0, requires_grad=True)"
   ]
  },
  {
   "cell_type": "code",
   "execution_count": 169,
   "metadata": {},
   "outputs": [
    {
     "data": {
      "text/plain": [
       "tensor([ 1.3896e+02,  1.0119e+03, -5.0824e+00, -1.7843e+01,  1.0469e+04],\n",
       "       requires_grad=True)"
      ]
     },
     "execution_count": 169,
     "metadata": {},
     "output_type": "execute_result"
    }
   ],
   "source": [
    "state"
   ]
  },
  {
   "cell_type": "code",
   "execution_count": 170,
   "metadata": {},
   "outputs": [],
   "source": [
    "state = tensor_dynamics(state)"
   ]
  },
  {
   "cell_type": "code",
   "execution_count": 171,
   "metadata": {},
   "outputs": [
    {
     "data": {
      "text/plain": [
       "tensor([ 1.3388e+02,  9.9402e+02, -4.9786e+00, -1.7654e+01,  1.0463e+04],\n",
       "       grad_fn=<StackBackward>)"
      ]
     },
     "execution_count": 171,
     "metadata": {},
     "output_type": "execute_result"
    }
   ],
   "source": [
    "state"
   ]
  },
  {
   "cell_type": "code",
   "execution_count": null,
   "metadata": {},
   "outputs": [],
   "source": []
  },
  {
   "cell_type": "code",
   "execution_count": 512,
   "metadata": {},
   "outputs": [],
   "source": [
    "def forward_simulate_net(rocket, model, dataset):\n",
    "        \n",
    "        t = 0\n",
    "        dt = 1\n",
    "        \n",
    "        state = torch.tensor(r.s_0)\n",
    "        \n",
    "        min_dist_sq = state[0]**2 + state[1]**2\n",
    "        min_velo_sq = state[2]**2 + state[3]**2\n",
    "        prop_frac = torch.tensor(1)\n",
    "        \n",
    "        m0 = state[4]\n",
    "        \n",
    "        ret = dict()\n",
    "        ret['success'] = False\n",
    "        ret['cost'] = 1\n",
    "        ret['reason'] = 'other'\n",
    "\n",
    "        \n",
    "        while True:\n",
    "            if state[1] < 0: \n",
    "                #print('z<0');\n",
    "                ret['reason'] = 'z<0'\n",
    "                ret['cost'] = prop_frac\n",
    "                ret['success'] = False\n",
    "                return ret\n",
    "            if t > 1000:\n",
    "                ret['reason'] = 't_max'\n",
    "                break\n",
    "           \n",
    "            state = tensor_dynamics(state, dt) #updates state\n",
    "            t += dt\n",
    "            \n",
    "            dist_sq = state[0]**2 + state[1]**2\n",
    "            velo_sq = state[2]**2 + state[3]**2\n",
    "            \n",
    "            #update min_dist\n",
    "            if min_dist_sq > dist_sq:\n",
    "                min_dist_sq = dist_sq\n",
    "                min_velo_sq = velo_sq\n",
    "                prop_frac = 1 - state[4]/m0\n",
    "                \n",
    "            if dist_sq > 2*min_dist_sq:\n",
    "                ret['reason'] = 'dist_sq > 2*min_dist_sq'\n",
    "                break\n",
    "                        \n",
    "            if dist_sq < 10**2 and velo_sq < 0.7**2:\n",
    "                ret['cost'] = prop_frac\n",
    "                ret['success'] = True\n",
    "                return ret #return propellant mass usage\n",
    "        \n",
    "        ## compute losses\n",
    "        #if its here, it didnt succeed\n",
    "        ret['cost'] = torch.tensor(1.)\n",
    "        return ret #1 + torch.log(1+torch.log(min_dist_sq**0.5/10 + min_velo_sq**0.5/0.7))"
   ]
  },
  {
   "cell_type": "code",
   "execution_count": 513,
   "metadata": {
    "scrolled": false
   },
   "outputs": [],
   "source": [
    "num = 50\n",
    "res = [None]*num\n",
    "for ind in range(num):\n",
    "    r = Rocket()\n",
    "    res[ind] = forward_simulate_net(r, net, full_data)"
   ]
  },
  {
   "cell_type": "code",
   "execution_count": 514,
   "metadata": {},
   "outputs": [
    {
     "data": {
      "text/plain": [
       "0.29621342301368714"
      ]
     },
     "execution_count": 514,
     "metadata": {},
     "output_type": "execute_result"
    }
   ],
   "source": [
    "sum([r['cost'].item() for r in res])/num"
   ]
  },
  {
   "cell_type": "code",
   "execution_count": 515,
   "metadata": {},
   "outputs": [
    {
     "data": {
      "text/plain": [
       "0.76"
      ]
     },
     "execution_count": 515,
     "metadata": {},
     "output_type": "execute_result"
    }
   ],
   "source": [
    "len([1 for r in res if r['success']])/num"
   ]
  },
  {
   "cell_type": "code",
   "execution_count": 516,
   "metadata": {},
   "outputs": [
    {
     "name": "stdout",
     "output_type": "stream",
     "text": [
      "{'success': True, 'cost': tensor(8.4779e-02, grad_fn=<RsubBackward1>), 'reason': 'other'}\n"
     ]
    }
   ],
   "source": [
    "r = Rocket()\n",
    "print(forward_simulate_net(r, net, full_data))"
   ]
  },
  {
   "cell_type": "code",
   "execution_count": 486,
   "metadata": {},
   "outputs": [],
   "source": [
    "from torchviz import make_dot\n"
   ]
  },
  {
   "cell_type": "code",
   "execution_count": 487,
   "metadata": {},
   "outputs": [
    {
     "data": {
      "text/plain": [
       "tensor([3.0651e+00, 3.7712e+00, -5.0864e+00, 2.6650e-01, 1.4538e+00])"
      ]
     },
     "execution_count": 487,
     "metadata": {},
     "output_type": "execute_result"
    }
   ],
   "source": [
    "s = torch.tensor(list(full_data.normalize_s(torch.tensor(r.s_0))))\n",
    "s"
   ]
  },
  {
   "cell_type": "code",
   "execution_count": 488,
   "metadata": {},
   "outputs": [],
   "source": [
    "#make_dot(net(s))"
   ]
  },
  {
   "cell_type": "code",
   "execution_count": 489,
   "metadata": {
    "scrolled": false
   },
   "outputs": [
    {
     "name": "stdout",
     "output_type": "stream",
     "text": [
      "{'success': True, 'cost': tensor(9.3139e-02, grad_fn=<RsubBackward1>), 'reason': 'other'}\n"
     ]
    }
   ],
   "source": [
    "r = Rocket()\n",
    "print(forward_simulate_net(r, net, full_data))\n",
    "#make_dot(forward_simulate_net(r, net, full_data))"
   ]
  },
  {
   "cell_type": "code",
   "execution_count": 294,
   "metadata": {},
   "outputs": [
    {
     "data": {
      "text/plain": [
       "[Parameter containing:\n",
       " tensor([[-0.2200, -0.4429, -0.3158,  0.3587,  0.0117],\n",
       "         [-0.3612, -1.0351, -0.2580, -0.7177,  0.0197],\n",
       "         [-0.0350, -0.4217,  0.0785,  0.5305, -0.0256],\n",
       "         [-0.0300,  0.3167, -0.1377, -0.3215, -0.0097],\n",
       "         [ 0.2304, -0.3266,  0.2965,  0.3894,  0.0103],\n",
       "         [ 0.0045,  0.3139, -0.0162, -0.3872,  0.3383],\n",
       "         [-0.1184, -0.4620,  0.1296,  0.6252, -0.0913],\n",
       "         [-0.1872, -0.3167, -0.1228,  0.4452, -0.5790],\n",
       "         [ 0.8124,  0.4600,  0.2330, -0.3294, -0.0379],\n",
       "         [ 0.1706, -0.6590,  0.2629,  0.2579, -0.0747],\n",
       "         [ 0.2014,  0.1909,  0.1788,  0.3539, -0.0590],\n",
       "         [ 0.0226,  0.4489,  0.1853, -0.2051, -0.0039],\n",
       "         [ 0.3644, -0.2773,  0.5804,  0.6994, -0.4489],\n",
       "         [ 0.2181, -1.0323,  0.0813, -0.3348,  0.0029],\n",
       "         [ 0.3308, -0.7880,  0.2628, -0.7972,  0.1698],\n",
       "         [ 0.1824, -0.5027,  0.1811, -0.2607, -0.0340]], requires_grad=True),\n",
       " Parameter containing:\n",
       " tensor([-0.6533, -0.1335, -0.2444,  0.1537, -0.5994,  0.4020, -0.0838,  0.1368,\n",
       "          0.3123, -0.4853, -0.0829,  0.5952,  0.0248, -0.5346, -0.0129, -0.0739],\n",
       "        requires_grad=True),\n",
       " Parameter containing:\n",
       " tensor([[-0.1894,  0.2674, -0.5836, -0.4669, -0.3761,  0.0099, -0.4080,  0.1132,\n",
       "          -0.3018, -0.1448, -0.3429, -0.2384,  0.2021, -0.1758,  0.2248,  0.2209],\n",
       "         [-0.1547,  0.3022, -0.2258, -0.2448, -0.5778, -0.0936,  0.0826,  0.1219,\n",
       "          -0.0180, -0.1152,  0.5178, -0.5507, -0.4603,  0.4066,  0.2804, -0.1908],\n",
       "         [-0.1319, -0.5320, -0.2129,  0.1943, -0.5667, -0.1609, -0.6195,  0.3497,\n",
       "          -0.0907,  0.2650, -0.0839, -0.1936, -0.0436, -0.4860, -0.4367,  0.0236],\n",
       "         [ 0.5964,  0.1323,  0.0998,  0.3481, -0.0241,  0.3339,  0.4024,  0.5660,\n",
       "           0.3741,  0.1709,  0.3992,  0.3124, -0.0667, -0.6129, -0.6206,  0.1391],\n",
       "         [ 0.4372,  0.1388,  0.4883, -0.2138, -0.3553,  0.7872, -0.4459,  0.2449,\n",
       "           0.2065,  0.6032,  0.0846,  0.0584, -0.1988,  0.0663,  0.3673, -0.3033],\n",
       "         [-0.1093,  0.0457,  0.2021, -0.4573, -0.4823,  0.0921,  0.1691,  0.4955,\n",
       "          -0.1136,  0.1275, -0.1707, -0.0282,  0.2561, -0.2719, -0.4641, -0.0842],\n",
       "         [-0.1824, -0.4659, -0.4747, -0.1694,  0.2986,  0.3537, -0.2783,  0.4867,\n",
       "          -0.0733,  0.0481,  0.1263, -0.4925, -0.0464,  0.4161, -0.4308, -0.0026],\n",
       "         [-0.1747, -0.2120, -0.3675, -0.5961, -0.5392, -0.5734,  0.3846,  0.3605,\n",
       "          -0.4888,  0.2941, -0.3417,  0.1703,  0.4170, -0.0475, -0.4489,  0.1263],\n",
       "         [ 0.1284,  0.1710, -0.4716, -0.4493,  0.5331, -0.1961,  0.1683,  0.0889,\n",
       "           0.5120, -0.4149,  0.5256, -0.1256,  0.5147, -0.2990,  0.0683,  0.2904],\n",
       "         [ 0.2369,  0.1577,  0.4905, -0.2234,  0.1776,  0.2547,  0.3892, -0.0390,\n",
       "           0.1010, -0.0399, -0.1193,  0.1749, -0.0496,  0.6989, -0.5259,  0.3741],\n",
       "         [-0.1647,  0.8662, -0.1166, -0.4671, -0.0969, -0.1161,  0.4688,  0.0139,\n",
       "          -0.3539,  0.4799, -0.2879, -0.0530, -0.1461,  0.3313,  0.1912,  0.3904],\n",
       "         [ 0.4666, -0.6060,  0.5129, -0.5219,  0.5496, -0.5515, -0.3196,  0.3695,\n",
       "          -0.0778,  0.4097,  0.4224, -0.4483,  0.3199,  0.5542,  0.2349,  0.2060],\n",
       "         [-0.4433, -0.3302, -0.3905,  0.2354, -0.0605, -0.0195,  0.0581,  0.5472,\n",
       "           0.1760,  0.3759,  0.2261,  0.4770,  0.0072,  0.6143,  0.1628, -0.0029],\n",
       "         [-0.1423,  0.4834,  0.3044,  0.6990, -0.1034, -0.3406, -0.3265, -0.5221,\n",
       "          -0.4355,  0.3731,  0.3876,  0.2999,  0.1940,  0.2461, -0.1834, -0.3196],\n",
       "         [-0.2357,  0.1378, -0.1950, -0.0403, -0.0956, -0.2424, -0.5637, -0.1292,\n",
       "           0.2192,  0.1666, -0.4437,  0.4902, -0.2894,  0.1129,  0.0726, -0.0738],\n",
       "         [ 0.3274, -0.4275, -0.5334,  0.5634, -0.2491, -0.6314,  0.0925, -0.3478,\n",
       "          -0.1321,  0.2654,  0.1046, -0.4712, -0.4849,  0.5656,  0.4417, -0.4942]],\n",
       "        requires_grad=True),\n",
       " Parameter containing:\n",
       " tensor([-0.2593, -0.1715, -0.2979,  0.2042, -0.2875, -0.0726,  0.0087, -0.1836,\n",
       "          0.2027, -0.0666, -0.4070, -0.2067,  0.3646,  0.1242, -0.0360, -0.1790],\n",
       "        requires_grad=True),\n",
       " Parameter containing:\n",
       " tensor([[-0.2886,  0.0993, -0.2651, -0.1243,  0.2817, -0.0856, -0.0658, -0.0357,\n",
       "          -0.0046,  0.2445,  0.1062,  0.0203, -0.0346, -0.0281, -0.2160, -0.2600],\n",
       "         [ 0.5559, -0.2750, -0.2936,  0.2717, -0.0083,  0.0200, -0.0020,  0.0112,\n",
       "          -0.0417, -0.3357,  0.2481, -0.0044, -0.2778,  0.0328, -0.0519,  0.0124]],\n",
       "        requires_grad=True),\n",
       " Parameter containing:\n",
       " tensor([-0.2075,  0.0757], requires_grad=True)]"
      ]
     },
     "execution_count": 294,
     "metadata": {},
     "output_type": "execute_result"
    }
   ],
   "source": [
    "list(net.parameters())"
   ]
  },
  {
   "cell_type": "code",
   "execution_count": 529,
   "metadata": {},
   "outputs": [],
   "source": [
    "\n",
    "optimizer2 = optim.SGD(net.parameters(), lr = 0.00005, momentum=0.9)\n",
    "\n",
    "n_epochs = 3\n",
    "val_num = 20\n",
    "batch_size = 10"
   ]
  },
  {
   "cell_type": "code",
   "execution_count": 540,
   "metadata": {},
   "outputs": [
    {
     "name": "stdout",
     "output_type": "stream",
     "text": [
      "Started Training v2\n",
      "[0.06470787525177002, 0.1017102599143982, 0.052135586738586426, 0.2499675154685974, 0.10105669498443604, 0.0965731143951416, 1.0, 1.0, 0.0682990550994873, 0.05280023813247681]\n",
      "Epoch: 0, Loss: 0.278725, avg_cost (success): 0.127608, success rate: 17 of 20\n",
      "[1.0, 0.20068711042404175, 1.0, 0.2403097152709961, 0.23009538650512695, 0.20846611261367798, 0.22131693363189697, 1.0, 0.19520634412765503, 0.06403326988220215]\n",
      "Epoch: 1, Loss: 0.357368, avg_cost (success): 0.141746, success rate: 19 of 20\n",
      "[0.04482460021972656, 0.17375940084457397, 0.2508479356765747, 0.1990782618522644, 0.2792932987213135, 0.3282340168952942, 0.26174062490463257, 0.30047887563705444, 0.21732115745544434, 0.24828392267227173]\n",
      "Epoch: 2, Loss: 0.315041, avg_cost (success): 0.109642, success rate: 12 of 20\n",
      "\n",
      "********Finished Training*********\n"
     ]
    }
   ],
   "source": [
    "losses = []\n",
    "\n",
    "val_res = [None,]*val_num\n",
    "\n",
    "print(\"Started Training v2\")\n",
    "for epoch in range(n_epochs):\n",
    "    episode_loss_train = 0\n",
    "    episode_loss_val   = 0\n",
    "    \n",
    "    epoch_loss = [None]*batch_size\n",
    "    for ind in range(batch_size):\n",
    "        \n",
    "\n",
    "        r = Rocket(disperse=True)\n",
    "        #print(r)\n",
    "        \n",
    "        #set into training mode\n",
    "        net.train()\n",
    "        \n",
    "        #forward simulate\n",
    "        optimizer2.zero_grad()\n",
    "        res = forward_simulate_net(r, net, full_data)\n",
    "        \n",
    "        epoch_loss[ind] = res['cost']\n",
    "        \n",
    "    \n",
    "    print([e.item() for e in epoch_loss])\n",
    "    loss = sum(epoch_loss)/batch_size\n",
    "    loss.backward()\n",
    "        \n",
    "    # Updates parameters and zeroes gradients\n",
    "    optimizer2.step()\n",
    "        \n",
    "        \n",
    "    losses.append(loss.item())\n",
    "    episode_loss_train += loss.item()\n",
    "        \n",
    "    with torch.no_grad():\n",
    "        \n",
    "        for ind in range(val_num):\n",
    "            r = Rocket(disperse=True)\n",
    "            \n",
    "            val_res[ind] = forward_simulate_net(r, net, full_data)\n",
    "            \n",
    "        avg_cost = sum([r['cost'] for r in val_res if r['success']])/val_num\n",
    "            \n",
    "        success_rate = len([1 for r in val_res if r['success']])\n",
    "            \n",
    "            \n",
    "            \n",
    "            \n",
    "    print(f\"\"\"Epoch: {epoch}, Loss: {sum(losses)/len(losses):.6f}, avg_cost if success: {avg_cost:.6f}, success rate: {success_rate} of {val_num}\"\"\")\n",
    "\n",
    "    \n",
    "print('')\n",
    "\n",
    "print(\"********Finished Training*********\")"
   ]
  },
  {
   "cell_type": "code",
   "execution_count": 541,
   "metadata": {},
   "outputs": [
    {
     "data": {
      "text/plain": [
       "tensor(2.3039e+00, grad_fn=<AddBackward0>)"
      ]
     },
     "execution_count": 541,
     "metadata": {},
     "output_type": "execute_result"
    }
   ],
   "source": [
    "sum(epoch_loss)"
   ]
  },
  {
   "cell_type": "code",
   "execution_count": 542,
   "metadata": {},
   "outputs": [
    {
     "data": {
      "text/plain": [
       "[{'success': True, 'cost': tensor(2.4211e-01), 'reason': 'other'},\n",
       " {'success': False,\n",
       "  'cost': tensor(1.0000e+00),\n",
       "  'reason': 'dist_sq > 2*min_dist_sq'},\n",
       " {'success': False,\n",
       "  'cost': tensor(1.0000e+00),\n",
       "  'reason': 'dist_sq > 2*min_dist_sq'},\n",
       " {'success': False,\n",
       "  'cost': tensor(1.0000e+00),\n",
       "  'reason': 'dist_sq > 2*min_dist_sq'},\n",
       " {'success': False,\n",
       "  'cost': tensor(1.0000e+00),\n",
       "  'reason': 'dist_sq > 2*min_dist_sq'},\n",
       " {'success': True, 'cost': tensor(2.2186e-01), 'reason': 'other'},\n",
       " {'success': False,\n",
       "  'cost': tensor(1.0000e+00),\n",
       "  'reason': 'dist_sq > 2*min_dist_sq'},\n",
       " {'success': True, 'cost': tensor(5.3590e-02), 'reason': 'other'},\n",
       " {'success': True, 'cost': tensor(3.0929e-01), 'reason': 'other'},\n",
       " {'success': False,\n",
       "  'cost': tensor(1.0000e+00),\n",
       "  'reason': 'dist_sq > 2*min_dist_sq'},\n",
       " {'success': True, 'cost': tensor(2.3084e-01), 'reason': 'other'},\n",
       " {'success': True, 'cost': tensor(6.1950e-02), 'reason': 'other'},\n",
       " {'success': True, 'cost': tensor(3.4639e-01), 'reason': 'other'},\n",
       " {'success': True, 'cost': tensor(9.9141e-02), 'reason': 'other'},\n",
       " {'success': True, 'cost': tensor(6.7718e-02), 'reason': 'other'},\n",
       " {'success': True, 'cost': tensor(1.9001e-01), 'reason': 'other'},\n",
       " {'success': False, 'cost': tensor(3.4610e-02), 'reason': 'z<0'},\n",
       " {'success': False,\n",
       "  'cost': tensor(1.0000e+00),\n",
       "  'reason': 'dist_sq > 2*min_dist_sq'},\n",
       " {'success': True, 'cost': tensor(1.2032e-01), 'reason': 'other'},\n",
       " {'success': True, 'cost': tensor(2.4961e-01), 'reason': 'other'}]"
      ]
     },
     "execution_count": 542,
     "metadata": {},
     "output_type": "execute_result"
    }
   ],
   "source": [
    "val_res"
   ]
  },
  {
   "cell_type": "code",
   "execution_count": 533,
   "metadata": {},
   "outputs": [
    {
     "data": {
      "text/plain": [
       "[Parameter containing:\n",
       " tensor([[-2.1997e-01, -4.4291e-01, -3.1581e-01, 3.5869e-01, 1.1713e-02],\n",
       "         [-3.6117e-01, -1.0351e+00, -2.5802e-01, -7.1772e-01, 1.9724e-02],\n",
       "         [-3.4953e-02, -4.2168e-01, 7.8549e-02, 5.3050e-01, -2.5599e-02],\n",
       "         [-2.9962e-02, 3.1667e-01, -1.3773e-01, -3.2150e-01, -9.7404e-03],\n",
       "         [2.3036e-01, -3.2659e-01, 2.9652e-01, 3.8943e-01, 1.0265e-02],\n",
       "         [4.5415e-03, 3.1386e-01, -1.6213e-02, -3.8724e-01, 3.3834e-01],\n",
       "         [-1.1836e-01, -4.6202e-01, 1.2960e-01, 6.2524e-01, -9.1260e-02],\n",
       "         [-1.8718e-01, -3.1669e-01, -1.2283e-01, 4.4521e-01, -5.7905e-01],\n",
       "         [8.1235e-01, 4.5995e-01, 2.3303e-01, -3.2943e-01, -3.7937e-02],\n",
       "         [1.7056e-01, -6.5903e-01, 2.6289e-01, 2.5790e-01, -7.4668e-02],\n",
       "         [2.0137e-01, 1.9091e-01, 1.7879e-01, 3.5394e-01, -5.8951e-02],\n",
       "         [2.2551e-02, 4.4890e-01, 1.8528e-01, -2.0514e-01, -3.9462e-03],\n",
       "         [3.6436e-01, -2.7725e-01, 5.8045e-01, 6.9943e-01, -4.4894e-01],\n",
       "         [2.1813e-01, -1.0323e+00, 8.1346e-02, -3.3480e-01, 2.9358e-03],\n",
       "         [3.3077e-01, -7.8796e-01, 2.6279e-01, -7.9720e-01, 1.6983e-01],\n",
       "         [1.8238e-01, -5.0270e-01, 1.8111e-01, -2.6067e-01, -3.4038e-02]],\n",
       "        requires_grad=True), Parameter containing:\n",
       " tensor([-6.5330e-01, -1.3350e-01, -2.4435e-01, 1.5371e-01, -5.9944e-01, 4.0203e-01, -8.3805e-02, 1.3684e-01,\n",
       "         3.1233e-01, -4.8530e-01, -8.2918e-02, 5.9520e-01, 2.4806e-02, -5.3460e-01, -1.2924e-02, -7.3943e-02],\n",
       "        requires_grad=True), Parameter containing:\n",
       " tensor([[-1.8939e-01, 2.6738e-01, -5.8363e-01, -4.6686e-01, -3.7610e-01, 9.8507e-03, -4.0798e-01, 1.1316e-01,\n",
       "          -3.0179e-01, -1.4484e-01, -3.4286e-01, -2.3842e-01, 2.0207e-01, -1.7583e-01, 2.2481e-01, 2.2090e-01],\n",
       "         [-1.5475e-01, 3.0217e-01, -2.2583e-01, -2.4475e-01, -5.7777e-01, -9.3646e-02, 8.2570e-02, 1.2191e-01,\n",
       "          -1.8018e-02, -1.1524e-01, 5.1781e-01, -5.5065e-01, -4.6028e-01, 4.0662e-01, 2.8036e-01, -1.9077e-01],\n",
       "         [-1.3186e-01, -5.3201e-01, -2.1294e-01, 1.9431e-01, -5.6667e-01, -1.6086e-01, -6.1952e-01, 3.4966e-01,\n",
       "          -9.0724e-02, 2.6500e-01, -8.3921e-02, -1.9364e-01, -4.3560e-02, -4.8602e-01, -4.3670e-01, 2.3575e-02],\n",
       "         [5.9637e-01, 1.3235e-01, 9.9781e-02, 3.4807e-01, -2.4087e-02, 3.3393e-01, 4.0238e-01, 5.6598e-01,\n",
       "          3.7408e-01, 1.7089e-01, 3.9918e-01, 3.1236e-01, -6.6750e-02, -6.1288e-01, -6.2064e-01, 1.3913e-01],\n",
       "         [4.3723e-01, 1.3882e-01, 4.8825e-01, -2.1380e-01, -3.5528e-01, 7.8717e-01, -4.4587e-01, 2.4493e-01,\n",
       "          2.0650e-01, 6.0325e-01, 8.4558e-02, 5.8385e-02, -1.9877e-01, 6.6280e-02, 3.6733e-01, -3.0328e-01],\n",
       "         [-1.0928e-01, 4.5739e-02, 2.0213e-01, -4.5731e-01, -4.8227e-01, 9.2126e-02, 1.6912e-01, 4.9546e-01,\n",
       "          -1.1362e-01, 1.2750e-01, -1.7069e-01, -2.8243e-02, 2.5607e-01, -2.7194e-01, -4.6408e-01, -8.4200e-02],\n",
       "         [-1.8241e-01, -4.6593e-01, -4.7473e-01, -1.6939e-01, 2.9863e-01, 3.5370e-01, -2.7828e-01, 4.8673e-01,\n",
       "          -7.3326e-02, 4.8115e-02, 1.2626e-01, -4.9247e-01, -4.6378e-02, 4.1612e-01, -4.3082e-01, -2.5896e-03],\n",
       "         [-1.7466e-01, -2.1197e-01, -3.6753e-01, -5.9608e-01, -5.3916e-01, -5.7344e-01, 3.8464e-01, 3.6045e-01,\n",
       "          -4.8885e-01, 2.9406e-01, -3.4171e-01, 1.7029e-01, 4.1700e-01, -4.7488e-02, -4.4892e-01, 1.2626e-01],\n",
       "         [1.2839e-01, 1.7102e-01, -4.7158e-01, -4.4931e-01, 5.3308e-01, -1.9613e-01, 1.6834e-01, 8.8874e-02,\n",
       "          5.1202e-01, -4.1490e-01, 5.2561e-01, -1.2562e-01, 5.1470e-01, -2.9902e-01, 6.8321e-02, 2.9041e-01],\n",
       "         [2.3691e-01, 1.5774e-01, 4.9046e-01, -2.2337e-01, 1.7759e-01, 2.5474e-01, 3.8924e-01, -3.8979e-02,\n",
       "          1.0099e-01, -3.9879e-02, -1.1931e-01, 1.7487e-01, -4.9582e-02, 6.9894e-01, -5.2593e-01, 3.7414e-01],\n",
       "         [-1.6471e-01, 8.6623e-01, -1.1659e-01, -4.6710e-01, -9.6878e-02, -1.1610e-01, 4.6876e-01, 1.3867e-02,\n",
       "          -3.5393e-01, 4.7989e-01, -2.8794e-01, -5.2982e-02, -1.4614e-01, 3.3125e-01, 1.9119e-01, 3.9041e-01],\n",
       "         [4.6661e-01, -6.0603e-01, 5.1292e-01, -5.2189e-01, 5.4963e-01, -5.5150e-01, -3.1955e-01, 3.6949e-01,\n",
       "          -7.7760e-02, 4.0975e-01, 4.2238e-01, -4.4828e-01, 3.1988e-01, 5.5420e-01, 2.3492e-01, 2.0602e-01],\n",
       "         [-4.4328e-01, -3.3022e-01, -3.9052e-01, 2.3542e-01, -6.0454e-02, -1.9474e-02, 5.8112e-02, 5.4720e-01,\n",
       "          1.7603e-01, 3.7593e-01, 2.2614e-01, 4.7703e-01, 7.1545e-03, 6.1432e-01, 1.6282e-01, -2.8998e-03],\n",
       "         [-1.4228e-01, 4.8342e-01, 3.0444e-01, 6.9897e-01, -1.0342e-01, -3.4059e-01, -3.2654e-01, -5.2212e-01,\n",
       "          -4.3547e-01, 3.7308e-01, 3.8757e-01, 2.9990e-01, 1.9398e-01, 2.4608e-01, -1.8338e-01, -3.1958e-01],\n",
       "         [-2.3567e-01, 1.3782e-01, -1.9504e-01, -4.0319e-02, -9.5594e-02, -2.4245e-01, -5.6367e-01, -1.2918e-01,\n",
       "          2.1917e-01, 1.6659e-01, -4.4368e-01, 4.9023e-01, -2.8936e-01, 1.1294e-01, 7.2610e-02, -7.3783e-02],\n",
       "         [3.2740e-01, -4.2745e-01, -5.3341e-01, 5.6339e-01, -2.4908e-01, -6.3138e-01, 9.2473e-02, -3.4778e-01,\n",
       "          -1.3213e-01, 2.6538e-01, 1.0460e-01, -4.7123e-01, -4.8488e-01, 5.6561e-01, 4.4173e-01, -4.9418e-01]],\n",
       "        requires_grad=True), Parameter containing:\n",
       " tensor([-2.5933e-01, -1.7151e-01, -2.9790e-01, 2.0423e-01, -2.8750e-01, -7.2579e-02, 8.7249e-03, -1.8356e-01,\n",
       "         2.0267e-01, -6.6560e-02, -4.0695e-01, -2.0672e-01, 3.6459e-01, 1.2425e-01, -3.6046e-02, -1.7896e-01],\n",
       "        requires_grad=True), Parameter containing:\n",
       " tensor([[-2.8859e-01, 9.9336e-02, -2.6514e-01, -1.2426e-01, 2.8176e-01, -8.5560e-02, -6.5797e-02, -3.5682e-02,\n",
       "          -4.6313e-03, 2.4447e-01, 1.0617e-01, 2.0304e-02, -3.4551e-02, -2.8115e-02, -2.1602e-01, -2.5998e-01],\n",
       "         [5.5586e-01, -2.7499e-01, -2.9357e-01, 2.7168e-01, -8.2547e-03, 1.9963e-02, -2.0226e-03, 1.1176e-02,\n",
       "          -4.1699e-02, -3.3569e-01, 2.4814e-01, -4.3799e-03, -2.7782e-01, 3.2782e-02, -5.1888e-02, 1.2366e-02]],\n",
       "        requires_grad=True), Parameter containing:\n",
       " tensor([-2.0743e-01, 7.5685e-02], requires_grad=True)]"
      ]
     },
     "execution_count": 533,
     "metadata": {},
     "output_type": "execute_result"
    }
   ],
   "source": [
    "list(net.parameters())"
   ]
  },
  {
   "cell_type": "code",
   "execution_count": 534,
   "metadata": {},
   "outputs": [],
   "source": [
    "#params = list(net.parameters())"
   ]
  },
  {
   "cell_type": "code",
   "execution_count": 535,
   "metadata": {},
   "outputs": [],
   "source": [
    "previous_weights = torch.load('model.pt')"
   ]
  },
  {
   "cell_type": "code",
   "execution_count": 536,
   "metadata": {},
   "outputs": [],
   "source": [
    "new_params = list(net.parameters())"
   ]
  },
  {
   "cell_type": "code",
   "execution_count": 537,
   "metadata": {},
   "outputs": [
    {
     "name": "stdout",
     "output_type": "stream",
     "text": [
      "tensor([[ 0.0000e+00, -2.9802e-08,  0.0000e+00,  2.9802e-08, -8.7544e-08],\n",
      "        [-4.1723e-07,  0.0000e+00,  1.4901e-07,  0.0000e+00,  2.1793e-07],\n",
      "        [-9.4250e-07, -2.6822e-07,  4.7684e-07,  4.1723e-07, -1.0058e-07],\n",
      "        [ 1.0468e-06, -2.4140e-06,  1.9372e-07,  7.1526e-07, -3.8184e-07],\n",
      "        [-2.9802e-08,  1.7881e-07,  0.0000e+00, -1.7881e-07,  1.2014e-07],\n",
      "        [-5.8208e-07,  3.7849e-06, -2.6822e-07, -1.0431e-06,  5.6624e-07],\n",
      "        [-3.5763e-07,  0.0000e+00,  1.4901e-07,  0.0000e+00,  3.7253e-08],\n",
      "        [ 1.2368e-06,  2.6822e-07, -5.9605e-07, -5.6624e-07,  3.5763e-07],\n",
      "        [-2.3842e-07, -2.9802e-08,  2.9802e-08,  0.0000e+00,  2.9802e-08],\n",
      "        [ 2.9802e-08,  0.0000e+00, -2.9802e-08, -1.1921e-07,  1.0431e-07],\n",
      "        [ 4.4703e-07,  8.9407e-08, -7.4506e-08,  0.0000e+00, -1.3411e-07],\n",
      "        [-6.1281e-07, -1.1325e-06,  2.3842e-07,  3.4273e-07,  1.2200e-07],\n",
      "        [ 2.0862e-07,  0.0000e+00, -5.9605e-08,  0.0000e+00,  2.9802e-08],\n",
      "        [ 2.9802e-08,  0.0000e+00, -5.9605e-08, -2.0862e-07,  2.2352e-08],\n",
      "        [ 1.7881e-07,  0.0000e+00, -2.9802e-08,  0.0000e+00,  2.9802e-08],\n",
      "        [-1.9372e-07,  0.0000e+00,  1.3411e-07,  0.0000e+00,  1.7881e-07]],\n",
      "       grad_fn=<SubBackward0>)\n",
      "tensor([ 0.0000e+00, -1.4901e-08,  1.1176e-06, -1.9521e-06, -5.9605e-08,\n",
      "         3.5763e-06,  1.0431e-07, -1.3560e-06, -8.9407e-08, -2.0862e-07,\n",
      "         8.1956e-08, -1.0133e-06, -2.8498e-07, -1.7881e-07,  1.5181e-07,\n",
      "         6.7055e-08], grad_fn=<SubBackward0>)\n",
      "tensor([[ 0.0000e+00,  0.0000e+00,  0.0000e+00,  0.0000e+00,  0.0000e+00,\n",
      "          5.5879e-09,  0.0000e+00,  0.0000e+00,  0.0000e+00,  0.0000e+00,\n",
      "          0.0000e+00,  0.0000e+00,  0.0000e+00,  0.0000e+00,  1.4901e-08,\n",
      "          0.0000e+00],\n",
      "        [ 0.0000e+00,  0.0000e+00,  0.0000e+00,  0.0000e+00,  0.0000e+00,\n",
      "          0.0000e+00,  0.0000e+00,  0.0000e+00,  0.0000e+00,  0.0000e+00,\n",
      "          0.0000e+00,  0.0000e+00,  0.0000e+00,  0.0000e+00,  0.0000e+00,\n",
      "          0.0000e+00],\n",
      "        [ 0.0000e+00,  0.0000e+00,  0.0000e+00,  0.0000e+00,  0.0000e+00,\n",
      "          0.0000e+00,  0.0000e+00,  0.0000e+00,  0.0000e+00,  0.0000e+00,\n",
      "          0.0000e+00,  0.0000e+00,  0.0000e+00,  0.0000e+00,  0.0000e+00,\n",
      "          0.0000e+00],\n",
      "        [ 0.0000e+00, -7.1526e-07, -2.1607e-07, -1.1623e-06, -1.1176e-08,\n",
      "         -1.8477e-06, -7.1526e-07, -8.3447e-07, -2.0266e-06,  1.0431e-07,\n",
      "         -4.7684e-07, -2.6524e-06, -8.3447e-07,  0.0000e+00, -1.1921e-07,\n",
      "         -1.4901e-08],\n",
      "        [ 0.0000e+00,  6.8545e-07,  0.0000e+00,  2.0564e-06,  2.9802e-08,\n",
      "          3.0398e-06,  1.4901e-07,  3.8743e-07,  4.8429e-06,  0.0000e+00,\n",
      "          1.0133e-06,  3.7551e-06,  1.1772e-06,  0.0000e+00,  4.1723e-07,\n",
      "          5.9605e-08],\n",
      "        [ 0.0000e+00, -1.5274e-07, -1.1921e-07,  0.0000e+00,  0.0000e+00,\n",
      "         -1.2666e-07, -4.0233e-07, -5.6624e-07, -1.7136e-07,  1.4901e-08,\n",
      "         -2.9802e-08, -4.7311e-07, -3.2783e-07,  0.0000e+00,  0.0000e+00,\n",
      "          0.0000e+00],\n",
      "        [ 0.0000e+00,  0.0000e+00,  0.0000e+00,  0.0000e+00,  0.0000e+00,\n",
      "          0.0000e+00,  0.0000e+00, -5.9605e-08, -8.9407e-08,  3.7253e-08,\n",
      "         -1.4901e-08, -2.9802e-08, -2.9802e-08,  0.0000e+00,  0.0000e+00,\n",
      "          1.6298e-09],\n",
      "        [ 0.0000e+00, -1.4901e-08,  0.0000e+00,  0.0000e+00,  0.0000e+00,\n",
      "          0.0000e+00, -1.1921e-07, -1.4901e-07, -2.9802e-08,  0.0000e+00,\n",
      "          0.0000e+00, -1.3411e-07, -1.4901e-07,  0.0000e+00,  0.0000e+00,\n",
      "          0.0000e+00],\n",
      "        [ 0.0000e+00,  0.0000e+00,  0.0000e+00,  0.0000e+00,  0.0000e+00,\n",
      "         -2.9802e-08,  0.0000e+00, -3.7253e-08, -1.1921e-07,  0.0000e+00,\n",
      "          0.0000e+00, -1.4901e-08, -5.9605e-08,  0.0000e+00, -7.4506e-09,\n",
      "          0.0000e+00],\n",
      "        [ 0.0000e+00,  1.1623e-06,  4.4703e-07,  2.0862e-06,  1.4901e-08,\n",
      "          3.2485e-06,  1.3411e-06,  1.6429e-06,  4.1276e-06, -1.5646e-07,\n",
      "          9.1642e-07,  4.8280e-06,  1.7546e-06,  0.0000e+00,  2.9802e-07,\n",
      "          0.0000e+00],\n",
      "        [ 0.0000e+00,  0.0000e+00, -1.1176e-07,  0.0000e+00,  0.0000e+00,\n",
      "          2.2352e-08, -1.1921e-07, -2.0768e-07,  0.0000e+00,  0.0000e+00,\n",
      "          0.0000e+00,  5.5879e-08, -2.3842e-07,  0.0000e+00, -1.4901e-08,\n",
      "          0.0000e+00],\n",
      "        [ 0.0000e+00,  0.0000e+00,  0.0000e+00,  0.0000e+00,  0.0000e+00,\n",
      "          0.0000e+00,  0.0000e+00,  2.9802e-08,  2.9802e-08,  0.0000e+00,\n",
      "          0.0000e+00,  0.0000e+00,  2.9802e-08,  0.0000e+00,  0.0000e+00,\n",
      "          0.0000e+00],\n",
      "        [ 0.0000e+00,  1.4901e-07,  0.0000e+00,  1.4901e-08,  3.7253e-09,\n",
      "          3.5390e-08,  4.4703e-08, -2.3842e-07, -9.9838e-07, -2.9802e-08,\n",
      "         -1.3411e-07, -1.1921e-07, -4.1863e-07,  0.0000e+00, -8.9407e-08,\n",
      "         -5.3085e-08],\n",
      "        [ 0.0000e+00, -2.9802e-08,  0.0000e+00, -1.1921e-07,  0.0000e+00,\n",
      "         -2.0862e-07,  0.0000e+00,  0.0000e+00, -5.9605e-08,  0.0000e+00,\n",
      "          0.0000e+00, -2.3842e-07, -1.4901e-08,  0.0000e+00,  0.0000e+00,\n",
      "          0.0000e+00],\n",
      "        [ 0.0000e+00, -4.3213e-07,  0.0000e+00, -1.4715e-06, -7.4506e-09,\n",
      "         -2.1160e-06,  0.0000e+00, -2.8312e-07, -3.6955e-06,  0.0000e+00,\n",
      "         -7.4506e-07, -2.7120e-06, -8.9407e-07,  0.0000e+00, -3.2783e-07,\n",
      "         -5.9605e-08],\n",
      "        [ 0.0000e+00,  0.0000e+00,  0.0000e+00,  0.0000e+00,  0.0000e+00,\n",
      "          0.0000e+00,  0.0000e+00,  0.0000e+00,  0.0000e+00,  0.0000e+00,\n",
      "          0.0000e+00,  0.0000e+00,  0.0000e+00,  0.0000e+00,  0.0000e+00,\n",
      "          0.0000e+00]], grad_fn=<SubBackward0>)\n",
      "tensor([ 0.0000e+00,  0.0000e+00,  0.0000e+00, -2.8759e-06,  3.3677e-06,\n",
      "        -8.9407e-07, -1.2293e-07, -2.6822e-07, -4.4703e-08,  5.3868e-06,\n",
      "        -1.1921e-07,  8.9407e-08, -2.6822e-07, -2.2352e-07, -2.3656e-06,\n",
      "         0.0000e+00], grad_fn=<SubBackward0>)\n",
      "tensor([[ 0.0000e+00,  0.0000e+00,  0.0000e+00,  2.8983e-05,  8.1956e-06,\n",
      "          3.8818e-06,  4.4703e-08,  2.2426e-06,  1.5853e-05,  5.9009e-06,\n",
      "          6.7055e-08, -4.6007e-07,  2.3730e-05,  3.8650e-06,  4.1276e-06,\n",
      "          0.0000e+00],\n",
      "        [ 0.0000e+00,  0.0000e+00,  0.0000e+00, -1.6689e-06, -6.6217e-07,\n",
      "         -1.0058e-07,  2.0745e-07, -1.0990e-07,  9.2015e-07, -8.9407e-07,\n",
      "         -2.9802e-08,  6.2818e-07, -9.2387e-07, -9.9838e-07, -1.0431e-07,\n",
      "          0.0000e+00]], grad_fn=<SubBackward0>)\n",
      "tensor([ 2.0206e-05, -1.4231e-06], grad_fn=<SubBackward0>)\n"
     ]
    }
   ],
   "source": [
    "for i,w in enumerate(previous_weights):\n",
    "    print(new_params[i]-previous_weights[w])"
   ]
  },
  {
   "cell_type": "code",
   "execution_count": null,
   "metadata": {},
   "outputs": [],
   "source": []
  },
  {
   "cell_type": "code",
   "execution_count": 538,
   "metadata": {},
   "outputs": [
    {
     "data": {
      "text/plain": [
       "tensor([[ 1.4657e-09, -2.6813e-09,  1.4009e-09,  3.0633e-09,  1.0442e-09],\n",
       "        [-2.2256e-09, -9.4254e-09,  1.5702e-08,  2.6551e-09,  2.5217e-10],\n",
       "        [-4.8713e-11,  1.4013e-08,  1.6774e-08, -2.5905e-08,  1.5972e-08],\n",
       "        [ 5.9921e-08,  9.2681e-08,  4.9395e-09, -2.2133e-08, -1.2410e-08],\n",
       "        [ 8.0427e-09, -1.6163e-09,  2.0263e-09,  4.4891e-09, -6.3360e-09],\n",
       "        [-1.8367e-07, -1.8628e-07,  3.0867e-08,  3.1809e-08,  3.5514e-08],\n",
       "        [-1.2863e-09, -4.5833e-09,  1.5097e-08, -2.4587e-09,  3.9659e-09],\n",
       "        [-2.1912e-08, -1.4819e-08,  1.2749e-09,  2.3889e-08, -2.5968e-08],\n",
       "        [ 1.7280e-08,  7.0625e-09, -8.7125e-10, -2.2384e-09, -4.3826e-09],\n",
       "        [-9.9782e-09, -8.7185e-09,  2.3930e-08,  1.2022e-09,  5.1742e-09],\n",
       "        [-2.7905e-08, -2.1278e-08, -3.2459e-09,  1.0871e-08,  1.6886e-08],\n",
       "        [ 8.1765e-08,  7.3210e-08, -6.4405e-09, -1.4353e-08, -3.1175e-08],\n",
       "        [ 3.7804e-09, -1.8201e-09, -1.0149e-08,  7.3538e-09, -9.3708e-09],\n",
       "        [-1.4510e-08, -1.6670e-08,  3.1135e-08,  8.0574e-09,  1.0632e-08],\n",
       "        [-1.6931e-08, -3.8668e-09, -7.4252e-09,  2.2222e-09, -2.2359e-09],\n",
       "        [ 5.8590e-09,  2.4769e-09,  7.9159e-10, -2.6995e-09, -1.4463e-08]])"
      ]
     },
     "execution_count": 538,
     "metadata": {},
     "output_type": "execute_result"
    }
   ],
   "source": [
    "optimizer2.param_groups[0]['lr']*params[0].grad"
   ]
  },
  {
   "cell_type": "code",
   "execution_count": 539,
   "metadata": {},
   "outputs": [
    {
     "name": "stdout",
     "output_type": "stream",
     "text": [
      "Rocket \n",
      "Initial State: (-139.5904448720473, 811.1798746100026, 0.3171377250563836, -0.39536792714200075, 9825.898498019997)\n",
      "{'success': True, 'cost': tensor(2.4620e-01, grad_fn=<RsubBackward1>), 'reason': 'other'}\n"
     ]
    }
   ],
   "source": [
    "r = Rocket(disperse=True)\n",
    "print(r)\n",
    "\n",
    "#set into training mode\n",
    "net.train()\n",
    "\n",
    "#forward simulate\n",
    "loss = forward_simulate_net(r, net, full_data)\n",
    "print(loss)\n"
   ]
  },
  {
   "cell_type": "code",
   "execution_count": null,
   "metadata": {},
   "outputs": [],
   "source": [
    "loss.backward()"
   ]
  },
  {
   "cell_type": "code",
   "execution_count": null,
   "metadata": {},
   "outputs": [],
   "source": [
    "optimizer.step()\n",
    "optimizer.zero_grad()"
   ]
  },
  {
   "cell_type": "code",
   "execution_count": 397,
   "metadata": {},
   "outputs": [],
   "source": [
    "optimizer.zero_grad()"
   ]
  },
  {
   "cell_type": "code",
   "execution_count": null,
   "metadata": {},
   "outputs": [],
   "source": []
  }
 ],
 "metadata": {
  "kernelspec": {
   "display_name": "deep_learnt_controls",
   "language": "python",
   "name": "deep_learnt_controls"
  },
  "language_info": {
   "codemirror_mode": {
    "name": "ipython",
    "version": 3
   },
   "file_extension": ".py",
   "mimetype": "text/x-python",
   "name": "python",
   "nbconvert_exporter": "python",
   "pygments_lexer": "ipython3",
   "version": "3.6.7"
  }
 },
 "nbformat": 4,
 "nbformat_minor": 2
}
