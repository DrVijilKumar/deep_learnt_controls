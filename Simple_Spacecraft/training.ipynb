{
 "cells": [
  {
   "cell_type": "code",
   "execution_count": 161,
   "metadata": {},
   "outputs": [],
   "source": [
    "from __future__ import print_function\n",
    "import matplotlib.pyplot as plt\n",
    "\n",
    "import torch\n",
    "import torch.nn as nn\n",
    "import torch.nn.functional as F\n",
    "import torch.optim as optim\n",
    "from torch.utils import data\n",
    "\n",
    "import numpy as np\n",
    "import pandas as pd\n",
    "\n",
    "from rocket import Rocket\n",
    "\n"
   ]
  },
  {
   "cell_type": "code",
   "execution_count": null,
   "metadata": {},
   "outputs": [],
   "source": []
  },
  {
   "cell_type": "code",
   "execution_count": 2,
   "metadata": {},
   "outputs": [],
   "source": [
    "class Net(nn.Module):\n",
    "    \n",
    "    def __init__(self):\n",
    "        super(Net, self).__init__()\n",
    "        \n",
    "        d = 16\n",
    "        self.fc1 = nn.Linear(5, d)\n",
    "        self.fc2 = nn.Linear(d, d)\n",
    "        self.fc3 = nn.Linear(d, d)\n",
    "        self.fc4 = nn.Linear(d, 2)\n",
    "        \n",
    "        a = (12/(5+d))**0.5\n",
    "        nn.init.uniform_(self.fc1.weight, a=-a, b=a)\n",
    "        \n",
    "        a = (12/(d+d))**0.5\n",
    "        nn.init.uniform_(self.fc2.weight, a=-a, b=a)\n",
    "        \n",
    "        a = (12/(d+d))**0.5\n",
    "        nn.init.uniform_(self.fc3.weight, a=-a, b=a)\n",
    "        \n",
    "        a = (6/(d+2))**0.5\n",
    "        nn.init.uniform_(self.fc4.weight, a=-a, b=a)\n",
    "        \n",
    "    def forward(self, x):\n",
    "        \n",
    "        x = F.relu(self.fc1(x))\n",
    "        x = F.relu(self.fc2(x))\n",
    "        x = F.relu(self.fc3(x))\n",
    "        x = torch.tanh(self.fc3(x))\n",
    "        \n",
    "        return x\n",
    "    \n",
    "    "
   ]
  },
  {
   "cell_type": "code",
   "execution_count": 3,
   "metadata": {},
   "outputs": [],
   "source": [
    "net = Net()"
   ]
  },
  {
   "cell_type": "code",
   "execution_count": 4,
   "metadata": {},
   "outputs": [
    {
     "name": "stdout",
     "output_type": "stream",
     "text": [
      "Net(\n",
      "  (fc1): Linear(in_features=5, out_features=32, bias=True)\n",
      "  (fc2): Linear(in_features=32, out_features=32, bias=True)\n",
      "  (fc3): Linear(in_features=32, out_features=2, bias=True)\n",
      ")\n"
     ]
    }
   ],
   "source": [
    "print(net)"
   ]
  },
  {
   "cell_type": "code",
   "execution_count": 5,
   "metadata": {},
   "outputs": [],
   "source": [
    "params = list(net.parameters())"
   ]
  },
  {
   "cell_type": "code",
   "execution_count": 6,
   "metadata": {},
   "outputs": [],
   "source": [
    "params;"
   ]
  },
  {
   "cell_type": "code",
   "execution_count": 7,
   "metadata": {},
   "outputs": [
    {
     "data": {
      "text/plain": [
       "1314"
      ]
     },
     "execution_count": 7,
     "metadata": {},
     "output_type": "execute_result"
    }
   ],
   "source": [
    "sum(p.numel() for p in net.parameters() if p.requires_grad)"
   ]
  },
  {
   "cell_type": "code",
   "execution_count": 8,
   "metadata": {},
   "outputs": [],
   "source": [
    "class MyDataset(data.Dataset):\n",
    "    \n",
    "    def __init__(self, state_csv, control_csv, transform=None):\n",
    "        \n",
    "        df_s = pd.read_csv(state_csv)\n",
    "        df_c = pd.read_csv(control_csv)\n",
    "        \n",
    "        #normalize by (df-mean)/std\n",
    "        self.s_mean, self.s_std = df_s.mean(), df_s.std()\n",
    "        #self.c_mean, self.c_std = df_c.mean(), df_c.std()\n",
    "        \n",
    "        n_df_s = (df_s - df_s.mean())/df_s.std()\n",
    "        #n_df_c = (df_c - df_c.mean())/df_c.std()\n",
    "        \n",
    "        #normalize control range from -1 to 1\n",
    "        #self.c_max = n_df_c.max()\n",
    "        #self.c_min = n_df_c.min()\n",
    "        \n",
    "        #n2_df_c = 2*(n_df_c-n_df_c.min())/(n_df_c.max()-n_df_c.min()) - 1\n",
    "        n_df_c = df_c\n",
    "        n_df_c['0'] = 2*n_df_c['0']-1 #from [0,1] to [-1,1]\n",
    "        n_df_c['1'] = 2*n_df_c['1']/np.pi #from [-pi/2, pi/2] to [-1,1]\n",
    "        \n",
    "        \n",
    "        self.df_s = torch.FloatTensor(n_df_s.values)\n",
    "        self.df_c = torch.FloatTensor(n_df_c.values)\n",
    "        \n",
    "        self.length = len(df_s)\n",
    "        \n",
    "    def __len__(self):\n",
    "        return self.length\n",
    "    \n",
    "    def __getitem__(self, index):\n",
    "        \n",
    "        sample = {'s': self.df_s[index], 'c': self.df_c[index]}\n",
    "        \n",
    "        return sample\n",
    "    \n",
    "    def normalize_s(self, state):\n",
    "        return ((state[i] - self.s_mean[i])/self.s_std[i] for i in range(5))\n",
    "    \n",
    "    def normalize_c(self, control):\n",
    "        \n",
    "        raise NotImplementedError\n",
    "        \n",
    "        #return ((control[i] - self.c_mean[i])/self.c_std[i] for i in range(2))\n",
    "    \n",
    "    def denormalize_c(self, nn_c):\n",
    "        #undo the min max\n",
    "        \n",
    "        #n_c = [0.5*(nn_c[i]+1)*(self.c_max[i]-self.c_min[i]) + self.c_min[i] for i in range(2)]\n",
    "        \n",
    "        #undo the std and mean\n",
    "        #c = (n_c[i]*self.c_std[i] + self.c_mean[i] for i in range(2))\n",
    "        \n",
    "        c1 = (nn_c[0] + 1)/2\n",
    "        c2 = (nn_c[1]*np.pi/2)\n",
    "        \n",
    "        return c1, c2\n",
    "        "
   ]
  },
  {
   "cell_type": "code",
   "execution_count": 41,
   "metadata": {},
   "outputs": [],
   "source": [
    "path_s = 'data_apollo/df_s_full.csv'\n",
    "path_c = 'data_apollo/df_c_full.csv'\n",
    "full_data = MyDataset(path_s, path_c)"
   ]
  },
  {
   "cell_type": "code",
   "execution_count": 14,
   "metadata": {},
   "outputs": [],
   "source": [
    "train_size = int(0.95 * len(full_data))\n",
    "val_size = len(full_data) - train_size\n",
    "train_dataset, validate_dataset = torch.utils.data.random_split(full_data, [train_size, val_size])"
   ]
  },
  {
   "cell_type": "code",
   "execution_count": 16,
   "metadata": {},
   "outputs": [],
   "source": [
    "batch_size = 8\n",
    "train_dl = data.DataLoader(train_dataset, batch_size=batch_size, shuffle=True)\n",
    "validate_dl = data.DataLoader(validate_dataset, batch_size=batch_size, shuffle=True)"
   ]
  },
  {
   "cell_type": "code",
   "execution_count": 17,
   "metadata": {},
   "outputs": [
    {
     "data": {
      "text/plain": [
       "<torch.utils.data.dataloader.DataLoader at 0x120eb67b8>"
      ]
     },
     "execution_count": 17,
     "metadata": {},
     "output_type": "execute_result"
    }
   ],
   "source": [
    "train_dl"
   ]
  },
  {
   "cell_type": "code",
   "execution_count": 18,
   "metadata": {},
   "outputs": [
    {
     "data": {
      "text/plain": [
       "<torch.utils.data.dataloader.DataLoader at 0x120eb6320>"
      ]
     },
     "execution_count": 18,
     "metadata": {},
     "output_type": "execute_result"
    }
   ],
   "source": [
    "validate_dl"
   ]
  },
  {
   "cell_type": "code",
   "execution_count": 166,
   "metadata": {},
   "outputs": [],
   "source": [
    "\n",
    "def make_train_step(model, loss_fn, optimizer):\n",
    "    # Builds function that performs a step in the train loop\n",
    "    \n",
    "    def train_step(x, y):\n",
    "        # Sets model to TRAIN mode\n",
    "        model.train()\n",
    "        # Makes predictions\n",
    "        yhat = model(x)\n",
    "        # Computes loss\n",
    "        loss = loss_fn(y, yhat)\n",
    "        # Computes gradients\n",
    "        loss.backward()\n",
    "        # Updates parameters and zeroes gradients\n",
    "        optimizer.step()\n",
    "        optimizer.zero_grad()\n",
    "        # Returns the loss\n",
    "        return loss.item()\n",
    "    \n",
    "    # Returns the function that will be called inside the train loop\n",
    "    return train_step"
   ]
  },
  {
   "cell_type": "code",
   "execution_count": 167,
   "metadata": {},
   "outputs": [],
   "source": [
    "net.zero_grad()"
   ]
  },
  {
   "cell_type": "code",
   "execution_count": 168,
   "metadata": {},
   "outputs": [],
   "source": [
    "\n",
    "optimizer = optim.SGD(net.parameters(), lr = 0.05, momentum=0.9)\n",
    "criterion = nn.MSELoss()\n",
    "\n",
    "\n",
    "train_step = make_train_step(model=net, loss_fn=criterion, optimizer=optimizer)\n",
    "losses = []\n",
    "val_losses = []\n",
    "\n",
    "n_epochs = 50"
   ]
  },
  {
   "cell_type": "code",
   "execution_count": 170,
   "metadata": {},
   "outputs": [
    {
     "name": "stdout",
     "output_type": "stream",
     "text": [
      "Epoch: 0, Loss: 0.007308, Val_loss: 0.007536\n",
      "Epoch: 1, Loss: 0.007306, Val_loss: 0.007510\n",
      "Epoch: 2, Loss: 0.007305, Val_loss: 0.007483\n",
      "Epoch: 3, Loss: 0.007302, Val_loss: 0.007477\n",
      "Epoch: 4, Loss: 0.007300, Val_loss: 0.007466\n",
      "Epoch: 5, Loss: 0.007298, Val_loss: 0.007460\n",
      "Epoch: 6, Loss: 0.007296, Val_loss: 0.007456\n",
      "Epoch: 7, Loss: 0.007295, Val_loss: 0.007449\n",
      "Epoch: 8, Loss: 0.007293, Val_loss: 0.007443\n",
      "Epoch: 9, Loss: 0.007291, Val_loss: 0.007448\n"
     ]
    }
   ],
   "source": [
    "\n",
    "for epoch in range(n_epochs):\n",
    "    \n",
    "    for batch in train_dl:\n",
    "\n",
    "        state = batch['s']\n",
    "        control = batch['c']\n",
    "        \n",
    "        loss = train_step(state, control)\n",
    "        \n",
    "        losses.append(loss)\n",
    "        \n",
    "    with torch.no_grad():\n",
    "        for batch in validate_dl:\n",
    "            \n",
    "            net.eval()\n",
    "            \n",
    "            state = batch['s']\n",
    "            control = batch['c']\n",
    "\n",
    "            c_hat = net(state)\n",
    "            \n",
    "            val_loss = criterion(control, c_hat)\n",
    "            \n",
    "            val_losses.append(val_loss.item())\n",
    "    print(f'Epoch: {epoch}, Loss: {sum(losses)/len(losses):.6f}, Val_loss: {sum(val_losses)/len(val_losses):.6f}')\n"
   ]
  },
  {
   "cell_type": "code",
   "execution_count": 171,
   "metadata": {},
   "outputs": [],
   "source": [
    "r = Rocket()"
   ]
  },
  {
   "cell_type": "code",
   "execution_count": 172,
   "metadata": {},
   "outputs": [
    {
     "name": "stdout",
     "output_type": "stream",
     "text": [
      "Rocket \n",
      "Initial State: (-197.26948840771695, 981.7765838647981, -2.3520346028304395, -26.54899812060561, 8762.357349616028)\n"
     ]
    }
   ],
   "source": [
    "print(r)"
   ]
  },
  {
   "cell_type": "code",
   "execution_count": 173,
   "metadata": {},
   "outputs": [],
   "source": [
    "r.lunar_guidance_live(h_ratio=2)"
   ]
  },
  {
   "cell_type": "code",
   "execution_count": null,
   "metadata": {},
   "outputs": [],
   "source": []
  },
  {
   "cell_type": "code",
   "execution_count": 176,
   "metadata": {},
   "outputs": [],
   "source": [
    "with torch.no_grad():\n",
    "    def simulate_net(rocket, model, dataset):\n",
    "\n",
    "        t = [0,]\n",
    "        dt = 1\n",
    "\n",
    "        x, z, vx, vz, m = ([s,] for s in rocket.s_0)\n",
    "\n",
    "        u1, u2 = [], []\n",
    "\n",
    "        while z[-1] > 0 and t[-1] < 300:\n",
    "            sf = (x[-1], z[-1], vx[-1], vz[-1], m[-1])\n",
    "            \n",
    "            \n",
    "            #evaluate the model\n",
    "            n_sf = tuple(list(dataset.normalize_s(sf)))\n",
    "            \n",
    "            n_uf = tuple(model(torch.FloatTensor(n_sf)).detach().numpy())\n",
    "            \n",
    "            uf = tuple(list(dataset.denormalize_c(n_uf)))\n",
    "            \n",
    "\n",
    "            new_state = rocket.propagate(sf, uf, dt=dt)\n",
    "\n",
    "            x.append(new_state[0])\n",
    "            z.append(new_state[1])\n",
    "            vx.append(new_state[2])\n",
    "            vz.append(new_state[3])\n",
    "            m.append(new_state[4])\n",
    "            t.append(t[-1]+dt)\n",
    "\n",
    "            u1.append(uf[0])\n",
    "            u2.append(uf[1])\n",
    "\n",
    "\n",
    "            #print(f't: {t[-1]:.1f}, x:{x[-1]:.1f}, z:{z[-1]:.1f}, u1:{u1[-1]:.2f}, u2:{u2[-1]:.2f}')\n",
    "        \n",
    "        u1.append(u1[-1])\n",
    "        u2.append(u2[-1])    \n",
    "            \n",
    "        return (t, x, z, vx, vz, m, u1, u2)\n",
    "\n",
    "def simulate_no_thrust(rocket):\n",
    "\n",
    "    t = [0,]\n",
    "    dt = 1\n",
    "\n",
    "    x, z, vx, vz, m = ([s,] for s in rocket.s_0)\n",
    "\n",
    "    u1, u2 = [], []\n",
    "\n",
    "    while z[-1] > 0 and t[-1] < 300:\n",
    "        sf = (x[-1], z[-1], vx[-1], vz[-1], m[-1])\n",
    "\n",
    "        new_state = rocket.propagate(sf, (0,0), dt=dt)\n",
    "\n",
    "        x.append(new_state[0])\n",
    "        z.append(new_state[1])\n",
    "        vx.append(new_state[2])\n",
    "        vz.append(new_state[3])\n",
    "        m.append(new_state[4])\n",
    "        t.append(t[-1]+dt)\n",
    "\n",
    "        u1.append(0)\n",
    "        u2.append(0)\n",
    "\n",
    "\n",
    "        #print(f't: {t[-1]:.1f}, x:{x[-1]:.1f}, z:{z[-1]:.1f}, u1:{u1[-1]:.2f}, u2:{u2[-1]:.2f}')\n",
    "    \n",
    "    u1.append(u1[-1])\n",
    "    u2.append(u2[-1])   \n",
    "\n",
    "    return (t, x, z, vx, vz, m, u1, u2)    \n",
    "        "
   ]
  },
  {
   "cell_type": "code",
   "execution_count": 177,
   "metadata": {
    "scrolled": true
   },
   "outputs": [
    {
     "name": "stdout",
     "output_type": "stream",
     "text": [
      "t: 1.0, x:-199.6, z:955.2, u1:0.33, u2:0.00\n",
      "t: 2.0, x:-202.0, z:928.7, u1:0.33, u2:0.00\n",
      "t: 3.0, x:-204.3, z:902.3, u1:0.33, u2:0.00\n",
      "t: 4.0, x:-206.6, z:875.9, u1:0.34, u2:0.00\n",
      "t: 5.0, x:-208.9, z:849.6, u1:0.34, u2:0.01\n",
      "t: 6.0, x:-211.3, z:823.3, u1:0.34, u2:0.01\n",
      "t: 7.0, x:-213.6, z:797.2, u1:0.34, u2:0.01\n",
      "t: 8.0, x:-215.9, z:771.1, u1:0.34, u2:0.01\n",
      "t: 9.0, x:-218.1, z:745.1, u1:0.34, u2:0.01\n",
      "t: 10.0, x:-220.4, z:719.2, u1:0.35, u2:0.01\n",
      "t: 11.0, x:-222.7, z:693.5, u1:0.35, u2:0.01\n",
      "t: 12.0, x:-224.9, z:667.8, u1:0.35, u2:0.01\n",
      "t: 13.0, x:-227.1, z:642.4, u1:0.36, u2:0.01\n",
      "t: 14.0, x:-229.4, z:617.1, u1:0.36, u2:0.01\n",
      "t: 15.0, x:-231.6, z:592.0, u1:0.36, u2:0.01\n",
      "t: 16.0, x:-233.7, z:567.1, u1:0.36, u2:0.01\n",
      "t: 17.0, x:-235.9, z:542.4, u1:0.35, u2:0.01\n",
      "t: 18.0, x:-238.1, z:517.9, u1:0.35, u2:0.01\n",
      "t: 19.0, x:-240.2, z:493.5, u1:0.35, u2:0.01\n",
      "t: 20.0, x:-242.4, z:469.2, u1:0.34, u2:0.01\n",
      "t: 21.0, x:-244.5, z:445.0, u1:0.34, u2:0.01\n",
      "t: 22.0, x:-246.6, z:421.0, u1:0.34, u2:0.01\n",
      "t: 23.0, x:-248.7, z:397.1, u1:0.34, u2:0.01\n",
      "t: 24.0, x:-250.7, z:373.2, u1:0.33, u2:0.01\n",
      "t: 25.0, x:-252.8, z:349.4, u1:0.33, u2:0.01\n",
      "t: 26.0, x:-254.8, z:325.7, u1:0.33, u2:0.01\n",
      "t: 27.0, x:-256.9, z:302.0, u1:0.32, u2:0.01\n",
      "t: 28.0, x:-258.9, z:278.4, u1:0.32, u2:0.01\n",
      "t: 29.0, x:-260.9, z:254.7, u1:0.32, u2:0.01\n",
      "t: 30.0, x:-262.9, z:231.1, u1:0.32, u2:0.01\n",
      "t: 31.0, x:-264.8, z:207.5, u1:0.31, u2:0.01\n",
      "t: 32.0, x:-266.8, z:183.8, u1:0.31, u2:0.01\n",
      "t: 33.0, x:-268.8, z:160.1, u1:0.31, u2:0.01\n",
      "t: 34.0, x:-270.7, z:136.3, u1:0.31, u2:0.01\n",
      "t: 35.0, x:-272.6, z:112.5, u1:0.30, u2:0.01\n",
      "t: 36.0, x:-274.5, z:88.6, u1:0.30, u2:-0.00\n",
      "t: 37.0, x:-276.4, z:64.6, u1:0.30, u2:-0.01\n",
      "t: 38.0, x:-278.4, z:40.5, u1:0.30, u2:-0.01\n",
      "t: 39.0, x:-280.3, z:16.4, u1:0.30, u2:-0.02\n",
      "t: 40.0, x:-282.3, z:-7.9, u1:0.30, u2:-0.02\n"
     ]
    }
   ],
   "source": [
    "with torch.no_grad():\n",
    "    (t_net, x_net, z_net, vx_net, vz_net, m_net, u1_net, u2_net) = simulate_net(r, net, full_data)"
   ]
  },
  {
   "cell_type": "code",
   "execution_count": 178,
   "metadata": {},
   "outputs": [
    {
     "name": "stdout",
     "output_type": "stream",
     "text": [
      "t: 1.0, x:-199.6, z:955.2, u1:0.00, u2:0.00\n",
      "t: 2.0, x:-202.0, z:927.1, u1:0.00, u2:0.00\n",
      "t: 3.0, x:-204.3, z:897.3, u1:0.00, u2:0.00\n",
      "t: 4.0, x:-206.7, z:865.8, u1:0.00, u2:0.00\n",
      "t: 5.0, x:-209.0, z:832.8, u1:0.00, u2:0.00\n",
      "t: 6.0, x:-211.4, z:798.1, u1:0.00, u2:0.00\n",
      "t: 7.0, x:-213.7, z:761.9, u1:0.00, u2:0.00\n",
      "t: 8.0, x:-216.1, z:723.9, u1:0.00, u2:0.00\n",
      "t: 9.0, x:-218.4, z:684.4, u1:0.00, u2:0.00\n",
      "t: 10.0, x:-220.8, z:643.3, u1:0.00, u2:0.00\n",
      "t: 11.0, x:-223.1, z:600.5, u1:0.00, u2:0.00\n",
      "t: 12.0, x:-225.5, z:556.1, u1:0.00, u2:0.00\n",
      "t: 13.0, x:-227.8, z:510.1, u1:0.00, u2:0.00\n",
      "t: 14.0, x:-230.2, z:462.4, u1:0.00, u2:0.00\n",
      "t: 15.0, x:-232.6, z:413.1, u1:0.00, u2:0.00\n",
      "t: 16.0, x:-234.9, z:362.2, u1:0.00, u2:0.00\n",
      "t: 17.0, x:-237.3, z:309.7, u1:0.00, u2:0.00\n",
      "t: 18.0, x:-239.6, z:255.6, u1:0.00, u2:0.00\n",
      "t: 19.0, x:-242.0, z:199.8, u1:0.00, u2:0.00\n",
      "t: 20.0, x:-244.3, z:142.4, u1:0.00, u2:0.00\n",
      "t: 21.0, x:-246.7, z:83.4, u1:0.00, u2:0.00\n",
      "t: 22.0, x:-249.0, z:22.8, u1:0.00, u2:0.00\n",
      "t: 23.0, x:-251.4, z:-39.4, u1:0.00, u2:0.00\n"
     ]
    }
   ],
   "source": [
    "(t_no, x_no, z_no, vx_no, vz_no, m_no, u1_no, u2_no) = simulate_no_thrust(r)"
   ]
  },
  {
   "cell_type": "code",
   "execution_count": 179,
   "metadata": {},
   "outputs": [
    {
     "data": {
      "text/plain": [
       "[<matplotlib.lines.Line2D at 0x12ca9b710>]"
      ]
     },
     "execution_count": 179,
     "metadata": {},
     "output_type": "execute_result"
    },
    {
     "data": {
      "image/png": "[encoded data removed]",
      "text/plain": [
       "<Figure size 432x288 with 1 Axes>"
      ]
     },
     "metadata": {
      "needs_background": "light"
     },
     "output_type": "display_data"
    }
   ],
   "source": [
    "plt.plot(r.t, r.x, 'b-')\n",
    "plt.plot(t_net, x_net, 'r--')\n",
    "plt.plot(t_no, x_no, 'g:')\n"
   ]
  },
  {
   "cell_type": "code",
   "execution_count": 180,
   "metadata": {},
   "outputs": [
    {
     "data": {
      "text/plain": [
       "[<matplotlib.lines.Line2D at 0x12c525048>]"
      ]
     },
     "execution_count": 180,
     "metadata": {},
     "output_type": "execute_result"
    },
    {
     "data": {
      "image/png": "[encoded data removed]",
      "text/plain": [
       "<Figure size 432x288 with 1 Axes>"
      ]
     },
     "metadata": {
      "needs_background": "light"
     },
     "output_type": "display_data"
    }
   ],
   "source": [
    "plt.plot(r.t, r.z, 'b-')\n",
    "plt.plot(t_net, z_net, 'r--')\n",
    "plt.plot(t_no, z_no, 'g:')"
   ]
  },
  {
   "cell_type": "code",
   "execution_count": 181,
   "metadata": {},
   "outputs": [
    {
     "data": {
      "text/plain": [
       "[<matplotlib.lines.Line2D at 0x14a0a4ba8>]"
      ]
     },
     "execution_count": 181,
     "metadata": {},
     "output_type": "execute_result"
    },
    {
     "data": {
      "image/png": "[encoded data removed]",
      "text/plain": [
       "<Figure size 432x288 with 1 Axes>"
      ]
     },
     "metadata": {
      "needs_background": "light"
     },
     "output_type": "display_data"
    }
   ],
   "source": [
    "plt.plot(r.t, r.u1_mag, 'b-')\n",
    "plt.plot(t_net, u1_net, 'r--')\n",
    "plt.plot(t_no, u1_no, 'g:')"
   ]
  },
  {
   "cell_type": "code",
   "execution_count": 182,
   "metadata": {},
   "outputs": [
    {
     "data": {
      "text/plain": [
       "[<matplotlib.lines.Line2D at 0x147726f60>]"
      ]
     },
     "execution_count": 182,
     "metadata": {},
     "output_type": "execute_result"
    },
    {
     "data": {
      "image/png": "[encoded data removed]",
      "text/plain": [
       "<Figure size 432x288 with 1 Axes>"
      ]
     },
     "metadata": {
      "needs_background": "light"
     },
     "output_type": "display_data"
    }
   ],
   "source": [
    "plt.plot(r.t, r.u2_angle, 'b-')\n",
    "plt.plot(t_net, u2_net, 'r--')\n",
    "plt.plot(t_no, u2_no, 'g:')"
   ]
  },
  {
   "cell_type": "code",
   "execution_count": null,
   "metadata": {},
   "outputs": [],
   "source": []
  },
  {
   "cell_type": "code",
   "execution_count": 183,
   "metadata": {},
   "outputs": [],
   "source": [
    "def moving_average(x, w):\n",
    "    return np.convolve(x, np.ones(w), 'valid') / w"
   ]
  },
  {
   "cell_type": "code",
   "execution_count": 184,
   "metadata": {},
   "outputs": [
    {
     "data": {
      "text/plain": [
       "[<matplotlib.lines.Line2D at 0x149fea5f8>]"
      ]
     },
     "execution_count": 184,
     "metadata": {},
     "output_type": "execute_result"
    },
    {
     "data": {
      "image/png": "[encoded data removed]",
      "text/plain": [
       "<Figure size 432x288 with 1 Axes>"
      ]
     },
     "metadata": {
      "needs_background": "light"
     },
     "output_type": "display_data"
    }
   ],
   "source": [
    "plt.plot(np.log(moving_average(losses[50000:],10000)))"
   ]
  },
  {
   "cell_type": "code",
   "execution_count": 185,
   "metadata": {},
   "outputs": [
    {
     "data": {
      "text/plain": [
       "[<matplotlib.lines.Line2D at 0x14b1cdba8>]"
      ]
     },
     "execution_count": 185,
     "metadata": {},
     "output_type": "execute_result"
    },
    {
     "data": {
      "image/png": "[encoded data removed]",
      "text/plain": [
       "<Figure size 432x288 with 1 Axes>"
      ]
     },
     "metadata": {
      "needs_background": "light"
     },
     "output_type": "display_data"
    }
   ],
   "source": [
    "plt.plot(np.log(moving_average(val_losses,100)))"
   ]
  },
  {
   "cell_type": "code",
   "execution_count": 156,
   "metadata": {},
   "outputs": [
    {
     "data": {
      "text/plain": [
       "tensor([-0.3531,  0.0010], grad_fn=<TanhBackward>)"
      ]
     },
     "execution_count": 156,
     "metadata": {},
     "output_type": "execute_result"
    }
   ],
   "source": [
    "net(train_dataset[0]['s'])"
   ]
  },
  {
   "cell_type": "code",
   "execution_count": 157,
   "metadata": {},
   "outputs": [
    {
     "data": {
      "text/plain": [
       "tensor([-0.0317, -0.0134])"
      ]
     },
     "execution_count": 157,
     "metadata": {},
     "output_type": "execute_result"
    }
   ],
   "source": [
    "train_dataset[0]['c']"
   ]
  },
  {
   "cell_type": "code",
   "execution_count": 158,
   "metadata": {},
   "outputs": [
    {
     "name": "stdout",
     "output_type": "stream",
     "text": [
      "tensor([-0.3531,  0.0010], grad_fn=<TanhBackward>) tensor([-0.0317, -0.0134])\n",
      "tensor([-0.3195,  0.0044], grad_fn=<TanhBackward>) tensor([-0.2105, -0.0155])\n",
      "tensor([-0.2444,  0.0020], grad_fn=<TanhBackward>) tensor([-0.2016, -0.0052])\n",
      "tensor([-0.2966,  0.0025], grad_fn=<TanhBackward>) tensor([-0.2605,  0.0083])\n",
      "tensor([-0.2547,  0.0050], grad_fn=<TanhBackward>) tensor([-0.4047, -0.0114])\n",
      "tensor([-0.2873,  0.0047], grad_fn=<TanhBackward>) tensor([-0.2904, -0.0082])\n",
      "tensor([-0.2714,  0.0036], grad_fn=<TanhBackward>) tensor([-0.2429, -0.0086])\n",
      "tensor([-0.2759,  0.0069], grad_fn=<TanhBackward>) tensor([-4.1131e-01, -1.4186e-04])\n",
      "tensor([-0.2922,  0.0021], grad_fn=<TanhBackward>) tensor([-4.1753e-01, -2.3320e-04])\n",
      "tensor([-0.2802,  0.0024], grad_fn=<TanhBackward>) tensor([-3.1553e-01, -3.1385e-05])\n"
     ]
    }
   ],
   "source": [
    "for i in range(10):\n",
    "    print(net(train_dataset[i]['s']), train_dataset[i]['c'])"
   ]
  },
  {
   "cell_type": "code",
   "execution_count": 159,
   "metadata": {},
   "outputs": [
    {
     "data": {
      "text/plain": [
       "0.007749239448457956"
      ]
     },
     "execution_count": 159,
     "metadata": {},
     "output_type": "execute_result"
    }
   ],
   "source": [
    "loss"
   ]
  },
  {
   "cell_type": "code",
   "execution_count": 160,
   "metadata": {},
   "outputs": [
    {
     "data": {
      "text/plain": [
       "tensor(0.0049)"
      ]
     },
     "execution_count": 160,
     "metadata": {},
     "output_type": "execute_result"
    }
   ],
   "source": [
    "val_loss"
   ]
  },
  {
   "cell_type": "code",
   "execution_count": null,
   "metadata": {},
   "outputs": [],
   "source": []
  }
 ],
 "metadata": {
  "kernelspec": {
   "display_name": "deep_learnt_controls",
   "language": "python",
   "name": "deep_learnt_controls"
  },
  "language_info": {
   "codemirror_mode": {
    "name": "ipython",
    "version": 3
   },
   "file_extension": ".py",
   "mimetype": "text/x-python",
   "name": "python",
   "nbconvert_exporter": "python",
   "pygments_lexer": "ipython3",
   "version": "3.6.7"
  }
 },
 "nbformat": 4,
 "nbformat_minor": 2
}
