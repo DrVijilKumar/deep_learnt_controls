{
 "cells": [
  {
   "cell_type": "code",
   "execution_count": 1,
   "metadata": {},
   "outputs": [],
   "source": [
    "from __future__ import print_function\n",
    "import matplotlib.pyplot as plt\n",
    "\n",
    "import torch\n",
    "import torch.nn as nn\n",
    "import torch.nn.functional as F\n",
    "import torch.optim as optim\n",
    "from torch.utils import data\n",
    "\n",
    "import numpy as np\n",
    "import pandas as pd\n",
    "\n",
    "from rocket import Rocket\n",
    "\n",
    "import random"
   ]
  },
  {
   "cell_type": "code",
   "execution_count": 2,
   "metadata": {},
   "outputs": [],
   "source": [
    "class Net(nn.Module):\n",
    "    \n",
    "    def __init__(self):\n",
    "        super(Net, self).__init__()\n",
    "        \n",
    "        d = 16\n",
    "        self.fc1 = nn.Linear(5, d)\n",
    "        self.fc2 = nn.Linear(d, d)\n",
    "        self.fc3 = nn.Linear(d, 2)\n",
    "        \n",
    "        a = (12/(5+d))**0.5\n",
    "        nn.init.uniform_(self.fc1.weight, a=-a, b=a)\n",
    "        \n",
    "        a = (12/(d+d))**0.5\n",
    "        nn.init.uniform_(self.fc2.weight, a=-a, b=a)\n",
    "        \n",
    "        a = (6/(d+2))**0.5\n",
    "        nn.init.uniform_(self.fc3.weight, a=-a, b=a)\n",
    "        \n",
    "    def forward(self, x):\n",
    "        \n",
    "        x = F.relu(self.fc1(x))\n",
    "        x = F.relu(self.fc2(x))\n",
    "        x = torch.tanh(self.fc3(x))\n",
    "        \n",
    "        return x\n",
    "    \n",
    "    def forward_simulate(self, x, z, vx, vz, m, dt = 0.1, g = 1.6229, c1 = 44000, c2 = 311*9.81):\n",
    "        \n",
    "        terminated = False\n",
    "        \n",
    "        while not terminated:\n",
    "            #get controls from neural net\n",
    "            u1, u2 = self.forward([x, z, vx, vz, m])\n",
    "            \n",
    "        ds[0] = vx\n",
    "        ds[1] = vz\n",
    "        ds[2] = self.c1*(u1/m)*sin(u2)\n",
    "        ds[3] = self.c1*(u1/m)*cos(u2) - self.g\n",
    "        \n",
    "        \n",
    "        \n",
    "        \n",
    "        "
   ]
  },
  {
   "cell_type": "code",
   "execution_count": 3,
   "metadata": {},
   "outputs": [
    {
     "name": "stdout",
     "output_type": "stream",
     "text": [
      "Net(\n",
      "  (fc1): Linear(in_features=5, out_features=16, bias=True)\n",
      "  (fc2): Linear(in_features=16, out_features=16, bias=True)\n",
      "  (fc3): Linear(in_features=16, out_features=2, bias=True)\n",
      ")\n",
      "numel: 402\n"
     ]
    }
   ],
   "source": [
    "net = Net()\n",
    "print(net)\n",
    "print(f'numel: {sum(p.numel() for p in net.parameters() if p.requires_grad)}')"
   ]
  },
  {
   "cell_type": "code",
   "execution_count": 5,
   "metadata": {},
   "outputs": [],
   "source": [
    "\n",
    "def apollo_control(x, z, vx, vz, m, g = 1.6229, c1 = 44000, c2 = 311*9.81):\n",
    "\n",
    "    if abs(vz)<0.001: vz = vz + 0.001\n",
    "\n",
    "    tgo = (3 * z)/(vz)\n",
    "\n",
    "    a_x =  -(6/tgo)*vx - (12/tgo**2) * x\n",
    "    a_z =  -(6/tgo)*vz - (12/tgo**2) * z + g\n",
    "\n",
    "    u1 = (1/c1)*m*(a_x**2 + a_z**2)**0.5\n",
    "    u2 = np.arctan2(a_x, a_z)\n",
    "\n",
    "    u1 = max(min(u1, 1), 0)\n",
    "    #u2 = max(min(u2, np.pi/8), -np.pi/8)\n",
    "\n",
    "    return (u1, u2)"
   ]
  },
  {
   "cell_type": "code",
   "execution_count": null,
   "metadata": {},
   "outputs": [],
   "source": []
  },
  {
   "cell_type": "code",
   "execution_count": null,
   "metadata": {},
   "outputs": [],
   "source": [
    "def make_train_step(optimal_control, loss_fn, optimizer):\n",
    "    # Builds function that performs a step in the train loop\n",
    "    \n",
    "    def train_step(x):\n",
    "        # Sets model to TRAIN mode\n",
    "        model.train()\n",
    "        # Makes predictions\n",
    "        yhat = model(x)\n",
    "        # Computes loss\n",
    "        loss = loss_fn(y, yhat)\n",
    "        # Computes gradients\n",
    "        loss.backward()\n",
    "        # Updates parameters and zeroes gradients\n",
    "        optimizer.step()\n",
    "        optimizer.zero_grad()\n",
    "        # Returns the loss\n",
    "        return loss.item()\n",
    "    \n",
    "    # Returns the function that will be called inside the train loop\n",
    "    return train_step"
   ]
  },
  {
   "cell_type": "code",
   "execution_count": null,
   "metadata": {},
   "outputs": [],
   "source": [
    "net.zero_grad()"
   ]
  },
  {
   "cell_type": "code",
   "execution_count": null,
   "metadata": {},
   "outputs": [],
   "source": [
    "optimizer = optim.SGD(net.parameters(), lr = 0.005, momentum=0.9)\n",
    "criterion = nn.MSELoss()\n",
    "\n",
    "\n",
    "train_step = make_train_step(model=net, loss_fn=criterion, optimizer=optimizer)\n",
    "losses = []\n",
    "val_losses = []\n",
    "\n",
    "n_epochs = 10"
   ]
  },
  {
   "cell_type": "code",
   "execution_count": null,
   "metadata": {},
   "outputs": [],
   "source": [
    "print(\"Started Training\")\n",
    "for epoch in range(n_epochs):\n",
    "    episode_loss_train = 0\n",
    "    episode_loss_val   = 0\n",
    "    \n",
    "    for batch in train_dl:\n",
    "\n",
    "        state = batch['s']\n",
    "        control = batch['c']\n",
    "        \n",
    "        loss = train_step(state, control)\n",
    "        \n",
    "        losses.append(loss)\n",
    "        episode_loss_train += loss\n",
    "        \n",
    "    with torch.no_grad():\n",
    "        for batch in validate_dl:\n",
    "            \n",
    "            net.eval()\n",
    "            \n",
    "            state = batch['s']\n",
    "            control = batch['c']\n",
    "\n",
    "            c_hat = net(state)\n",
    "            \n",
    "            val_loss = criterion(control, c_hat)\n",
    "            \n",
    "            val_losses.append(val_loss.item())\n",
    "            \n",
    "            episode_loss_val += val_loss.item()\n",
    "            \n",
    "            \n",
    "    print(f\"\"\"Epoch: {epoch}, Loss: {sum(losses)/len(losses):.6f}, Val_loss: {sum(val_losses)/len(val_losses):.6f}, Epoch Loss: {episode_loss_train/len(losses):.6f}, Epoch Val Loss: {episode_loss_val/len(val_losses):.6f}\"\"\")\n",
    "\n",
    "print('')\n",
    "\n",
    "print(\"********Finished Training*********\")"
   ]
  }
 ],
 "metadata": {
  "kernelspec": {
   "display_name": "deep_learnt_controls",
   "language": "python",
   "name": "deep_learnt_controls"
  },
  "language_info": {
   "codemirror_mode": {
    "name": "ipython",
    "version": 3
   },
   "file_extension": ".py",
   "mimetype": "text/x-python",
   "name": "python",
   "nbconvert_exporter": "python",
   "pygments_lexer": "ipython3",
   "version": "3.6.7"
  }
 },
 "nbformat": 4,
 "nbformat_minor": 2
}
